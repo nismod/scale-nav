{
 "cells": [
  {
   "cell_type": "markdown",
   "metadata": {},
   "source": [
    "# Data ingestion and processing"
   ]
  },
  {
   "cell_type": "code",
   "execution_count": 15,
   "metadata": {},
   "outputs": [],
   "source": [
    "import rasterio as rs \n",
    "from rasterio.windows import Window\n",
    "from rasterio.transform import xy\n",
    "from rasterio.vrt import WarpedVRT\n",
    "from rasterio.crs import CRS\n",
    "from rasterio.windows import Window\n",
    "\n",
    "from pyproj import Transformer\n",
    "import pandas as pd\n",
    "from pandas import DataFrame\n",
    "import geopandas as gpd\n",
    "import numpy as np\n",
    "from numpy import array,meshgrid,arange,log\n",
    "from shapely import box\n",
    "\n",
    "\n",
    "import ibis as ib\n",
    "ib.options.interactive = True"
   ]
  },
  {
   "cell_type": "code",
   "execution_count": 5,
   "metadata": {},
   "outputs": [],
   "source": [
    "# With dask\n",
    "\n",
    "import dask as dk\n",
    "import dask.array as da\n",
    "import dask.dataframe as dd\n",
    "# import dask_image as dki\n",
    "import xarray as xr\n",
    "import rioxarray as rx\n",
    "\n",
    "from pyarrow import float16,float32,schema,field,uint16,table,Table\n",
    "from pyarrow.parquet import ParquetWriter"
   ]
  },
  {
   "cell_type": "code",
   "execution_count": 3,
   "metadata": {},
   "outputs": [],
   "source": [
    "# big file\n",
    "src_file=\"/Users/cenv1069/Documents/data/datasets/JRC/GHS_BUILT_C_MSZ_E2018_GLOBE_R2023A_54009_10_V1_0_R8_C19/GHS_BUILT_C_MSZ_E2018_GLOBE_R2023A_54009_10_V1_0_R8_C19.tif\"\n",
    "\n",
    "# src_file = \"/Users/cenv1069/Documents/data/datasets/JRC/S_10m/GHS_BUILT_S_NRES_E2018_GLOBE_R2023A_54009_10_V1_0_R8_C19/GHS_BUILT_S_NRES_E2018_GLOBE_R2023A_54009_10_V1_0_R8_C19.tif\"\n",
    "\n",
    "# src_file = \"/Users/cenv1069/Documents/data/datasets/JRC/S_100m/GHS_BUILT_S_NRES_E2015_GLOBE_R2023A_54009_100_V1_0_R8_C19/GHS_BUILT_S_NRES_E2015_GLOBE_R2023A_54009_100_V1_0_R8_C19.tif\"\n",
    "\n",
    "# src_file = \"Users/cenv1069/Documents/data/datasets/JRC/S_100m/GHS_BUILT_S_NRES_E2015_GLOBE_R2023A_54009_100_V1_0_R9_C19/GHS_BUILT_S_NRES_E2015_GLOBE_R2023A_54009_100_V1_0_R9_C19.tif\"\n",
    "\n",
    "# smaller size file\n",
    "# src_file=\"/Users/cenv1069/Documents/data/datasets/JRC/S_1000m/GHS_BUILT_S_NRES_E2020_GLOBE_R2023A_54009_1000_V1_0_R8_C19/GHS_BUILT_S_NRES_E2020_GLOBE_R2023A_54009_1000_V1_0_R8_C19.tif\""
   ]
  },
  {
   "cell_type": "markdown",
   "metadata": {},
   "source": [
    "## Working workflows below"
   ]
  },
  {
   "cell_type": "code",
   "execution_count": null,
   "metadata": {},
   "outputs": [],
   "source": [
    "# inspired by : https://rasterio.readthedocs.io/en/stable/topics/virtual-warping.html\n",
    "\n",
    "dst_crs = CRS.from_epsg(4326)\n",
    "print(dst_crs)"
   ]
  },
  {
   "cell_type": "code",
   "execution_count": null,
   "metadata": {},
   "outputs": [],
   "source": [
    "vrt_options = {\n",
    "    # 'resampling': Resampling.cubic,\n",
    "    'crs': dst_crs,\n",
    "    # 'transform': dst_transform,\n",
    "    # 'height': dst_height,\n",
    "    # 'width': dst_width,\n",
    "}\n",
    "\n",
    "out_path = \"test_med.parquet\"\n",
    "\n",
    "rast_schema = schema([('lon',float32())\n",
    "                    ,('lat',float32())\n",
    "                    ,('band_var',float32())\n",
    "                    ])\n",
    "\n",
    "rast_schema.with_metadata({\n",
    "        \"lon\" : \"Longitude coordinate\",\n",
    "        \"lat\" : \"Latitude coordinate\",\n",
    "        \"band_var\" : \"Value associated\",\n",
    "                            })\n"
   ]
  },
  {
   "cell_type": "markdown",
   "metadata": {},
   "source": [
    "## Using a virtual Warper and windows"
   ]
  },
  {
   "cell_type": "code",
   "execution_count": null,
   "metadata": {},
   "outputs": [],
   "source": [
    "%%time\n",
    "\n",
    "with ParquetWriter(out_path, rast_schema) as writer:\n",
    "    with rs.open(src_file) as src:\n",
    "        \n",
    "        src_crs = src.crs\n",
    "        if len(src.nodatavals)>1:\n",
    "            nodata = src.nodatavals[0]\n",
    "        else :\n",
    "            nodata = src.nodatavals\n",
    "\n",
    "        print(\"No data value : \", nodata)\n",
    "        print(\"Detected source crs : \", src_crs)\n",
    "\n",
    "        with WarpedVRT(src, **vrt_options) as vrt:\n",
    "            # At this point 'vrt' is a full dataset with dimensions,\n",
    "            # CRS, and spatial extent matching 'vrt_options'.\n",
    "            # Read all data into memory.\n",
    "            # data = vrt.read()\n",
    "            # Process the dataset in chunks.  Likely not very efficient.\n",
    "            \n",
    "            win_transfrom = vrt.window_transform\n",
    "\n",
    "            for _, window in vrt.block_windows():\n",
    "                # print(src.crs)\n",
    "                band1 = vrt.read(window=window)\n",
    "                \n",
    "                height = band1.shape[1]\n",
    "                width = band1.shape[2]\n",
    "                cols, rows = meshgrid(arange(width), arange(height))\n",
    "\n",
    "                xs, ys = xy(\n",
    "                    transform = win_transfrom(window),\n",
    "                    rows=rows,\n",
    "                    cols=cols)\n",
    "\n",
    "                lons = array(xs)\n",
    "                lats = array(ys)\n",
    "                \n",
    "                out = DataFrame({\"band_var\" : array(band1).flatten()\n",
    "                                        ,'lon': lons.flatten()\n",
    "                                        ,'lat': lats.flatten()})\n",
    "                \n",
    "                out.drop(index=out.loc[out.band_var==nodata].index,inplace=True)\n",
    "                out.drop(index=out.loc[out.band_var<=0].index,inplace=True)\n",
    "                # print(out.shape)\n",
    "                # print(out.head())\n",
    "\n",
    "                if out.shape[0]!=0:\n",
    "                    writer.write_table(Table.from_pandas(df=out,schema = rast_schema,preserve_index=False,safe=True))\n",
    "\n",
    "            # # # Dump the aligned data into a new file.  A VRT representing\n",
    "            # # # this transformation can also be produced by switching\n",
    "            # # # to the VRT driver.\n",
    "            # # directory, name = os.path.split(path)\n",
    "            # # outfile = os.path.join(directory, 'aligned-{}'.format(name))\n",
    "            # # rio_shutil.copy(vrt, outfile, driver='GTiff')"
   ]
  },
  {
   "cell_type": "markdown",
   "metadata": {},
   "source": [
    "## Using a classic window approach"
   ]
  },
  {
   "cell_type": "code",
   "execution_count": null,
   "metadata": {},
   "outputs": [],
   "source": [
    "# %%time\n",
    "\n",
    "with ParquetWriter(out_path, rast_schema) as writer:\n",
    "        with rs.open(src_file) as src:\n",
    "            \n",
    "            src_crs = src.crs\n",
    "            win_transfrom = src.window_transform\n",
    "            \n",
    "            transformer = Transformer.from_crs(str(src_crs), 'EPSG:4326', always_xy=True)\n",
    "            \n",
    "            if len(src.nodatavals)>1:\n",
    "                nodata = src.nodatavals[0]\n",
    "            else :\n",
    "                nodata = src.nodatavals\n",
    "\n",
    "            print(\"No data value : \", nodata)\n",
    "            print(\"Detected source crs : \", src_crs)\n",
    "            \n",
    "            # Process the dataset in chunks.  Likely not very efficient.\n",
    "            for ij, window in src.block_windows():\n",
    "                # print(window)\n",
    "                # print(src.crs)\n",
    "                band1 = src.read(window=window)\n",
    "                # print(band1[0])\n",
    "                height = band1.shape[1]\n",
    "                width = band1.shape[2]\n",
    "                cols, rows = meshgrid(arange(width), arange(height))\n",
    "                # print(win_transfrom(window))\n",
    "                xs, ys = xy(\n",
    "                    transform = win_transfrom(window),\n",
    "                    rows=rows,\n",
    "                    cols=cols)\n",
    "                \n",
    "                # print(xs,ys)\n",
    "                \n",
    "                lons,lats = transformer.transform(array(xs),array(ys))\n",
    "                # print(lons.shape)\n",
    "                # print(lats.shape)\n",
    "                # print(len(array(band1).flatten()))\n",
    "                # print(len(lons.flatten()))\n",
    "                \n",
    "                out = DataFrame({'lon': lons.flatten(),\n",
    "                                    'lat': lats.flatten(),\n",
    "                                    \"band_var\" : array(band1[0,:,:]).flatten(),\n",
    "                                    })\n",
    "                \n",
    "                out.drop(index=out.loc[out.band_var==nodata].index,inplace=True)\n",
    "                out.drop(index=out.loc[out.band_var<=0].index,inplace=True)\n",
    "                \n",
    "                # print(out.shape)\n",
    "                # print(out.head())\n",
    "                \n",
    "                if out.shape[0]!=0:\n",
    "                        writer.write_table(Table.from_pandas(df=out,schema = rast_schema,preserve_index=False,safe=True))"
   ]
  },
  {
   "cell_type": "code",
   "execution_count": 17,
   "metadata": {},
   "outputs": [],
   "source": [
    "test_data = ib.read_parquet(out_path)"
   ]
  },
  {
   "cell_type": "code",
   "execution_count": null,
   "metadata": {},
   "outputs": [],
   "source": [
    "test_data.head()"
   ]
  },
  {
   "cell_type": "code",
   "execution_count": null,
   "metadata": {},
   "outputs": [],
   "source": [
    "test_data.count()"
   ]
  },
  {
   "cell_type": "code",
   "execution_count": null,
   "metadata": {},
   "outputs": [],
   "source": [
    "test_data.band_var.max()"
   ]
  },
  {
   "cell_type": "code",
   "execution_count": 19,
   "metadata": {},
   "outputs": [],
   "source": [
    "# test_data.select(\"lon\",\"lat\")"
   ]
  },
  {
   "cell_type": "code",
   "execution_count": 20,
   "metadata": {},
   "outputs": [],
   "source": [
    "# test_xy = test_data.select(\"lon\",\"lat\").to_pandas()\n"
   ]
  },
  {
   "cell_type": "code",
   "execution_count": 21,
   "metadata": {},
   "outputs": [],
   "source": [
    "# gpd.GeoSeries(gpd.points_from_xy(test_xy[\"lon\"],test_xy[\"lat\"],crs=\"epsg:4326\")).explore()"
   ]
  },
  {
   "cell_type": "markdown",
   "metadata": {},
   "source": [
    "## Processing a huge file"
   ]
  },
  {
   "cell_type": "code",
   "execution_count": null,
   "metadata": {},
   "outputs": [],
   "source": [
    "type((255,))==tuple"
   ]
  },
  {
   "cell_type": "code",
   "execution_count": 10,
   "metadata": {},
   "outputs": [
    {
     "name": "stdout",
     "output_type": "stream",
     "text": [
      "Reading the following file(s):  /Users/cenv1069/Documents/data/datasets/JRC/S_100m/GHS_BUILT_S_NRES_E2015_GLOBE_R2023A_54009_100_V1_0_R8_C19/GHS_BUILT_S_NRES_E2015_GLOBE_R2023A_54009_100_V1_0_R8_C19.tif\n",
      "No data value :  (65535.0,)\n",
      "Detected source crs :  ESRI:54009\n"
     ]
    }
   ],
   "source": [
    "# using the module from the script\n",
    "! python ../../src/scalenav/rast_converter.py /Users/cenv1069/Documents/data/datasets/JRC/S_100m/GHS_BUILT_S_NRES_E2015_GLOBE_R2023A_54009_100_V1_0_R8_C19/GHS_BUILT_S_NRES_E2015_GLOBE_R2023A_54009_100_V1_0_R8_C19.tif ../../test_big.parquet"
   ]
  },
  {
   "cell_type": "code",
   "execution_count": 7,
   "metadata": {},
   "outputs": [
    {
     "name": "stdout",
     "output_type": "stream",
     "text": [
      "Reading the following file(s):  /Users/cenv1069/Documents/data/datasets/JRC/S_100m/GHS_BUILT_S_NRES_E2015_GLOBE_R2023A_54009_100_V1_0_R8_C19/GHS_BUILT_S_NRES_E2015_GLOBE_R2023A_54009_100_V1_0_R8_C19.tif\n",
      "No data value :  (65535.0,)\n",
      "Detected source crs :  ESRI:54009\n"
     ]
    }
   ],
   "source": [
    "# using the module from the build package \n",
    "! python -m scalenav.rast_converter /Users/cenv1069/Documents/data/datasets/JRC/S_100m/GHS_BUILT_S_NRES_E2015_GLOBE_R2023A_54009_100_V1_0_R8_C19/GHS_BUILT_S_NRES_E2015_GLOBE_R2023A_54009_100_V1_0_R8_C19.tif ../../test_big.parquet"
   ]
  },
  {
   "cell_type": "markdown",
   "metadata": {},
   "source": [
    "## Reading a huge processed file"
   ]
  },
  {
   "cell_type": "code",
   "execution_count": 4,
   "metadata": {},
   "outputs": [],
   "source": [
    "conn = ib.connect(\"duckdb://\")"
   ]
  },
  {
   "cell_type": "code",
   "execution_count": 5,
   "metadata": {},
   "outputs": [],
   "source": [
    "test_file = conn.read_parquet('../../H_AGBH_100.parquet')"
   ]
  },
  {
   "cell_type": "code",
   "execution_count": 6,
   "metadata": {},
   "outputs": [
    {
     "data": {
      "application/vnd.jupyter.widget-view+json": {
       "model_id": "81b0dffd2a88489ba3c83c1dcf6223a8",
       "version_major": 2,
       "version_minor": 0
      },
      "text/plain": [
       "FloatProgress(value=0.0, layout=Layout(width='auto'), style=ProgressStyle(bar_color='black'))"
      ]
     },
     "metadata": {},
     "output_type": "display_data"
    },
    {
     "data": {
      "text/html": [
       "<pre style=\"white-space:pre;overflow-x:auto;line-height:normal;font-family:Menlo,'DejaVu Sans Mono',consolas,'Courier New',monospace\"></pre>\n"
      ],
      "text/plain": []
     },
     "metadata": {},
     "output_type": "display_data"
    },
    {
     "data": {
      "text/plain": [
       "┌──────────┐\n",
       "│ \u001b[1;36m0.000072\u001b[0m │\n",
       "└──────────┘"
      ]
     },
     "execution_count": 6,
     "metadata": {},
     "output_type": "execute_result"
    }
   ],
   "source": [
    "test_file.band_var.min()\n"
   ]
  },
  {
   "cell_type": "code",
   "execution_count": 7,
   "metadata": {},
   "outputs": [
    {
     "data": {
      "text/html": [
       "<pre style=\"white-space:pre;overflow-x:auto;line-height:normal;font-family:Menlo,'DejaVu Sans Mono',consolas,'Courier New',monospace\">┏━━━━━━━━━━━┳━━━━━━━━━━━┳━━━━━━━━━━┓\n",
       "┃<span style=\"font-weight: bold\"> lon       </span>┃<span style=\"font-weight: bold\"> lat       </span>┃<span style=\"font-weight: bold\"> band_var </span>┃\n",
       "┡━━━━━━━━━━━╇━━━━━━━━━━━╇━━━━━━━━━━┩\n",
       "│ <span style=\"color: #7f7f7f; text-decoration-color: #7f7f7f\">float32</span>   │ <span style=\"color: #7f7f7f; text-decoration-color: #7f7f7f\">float32</span>   │ <span style=\"color: #7f7f7f; text-decoration-color: #7f7f7f\">float32</span>  │\n",
       "├───────────┼───────────┼──────────┤\n",
       "│ <span style=\"color: #008080; text-decoration-color: #008080; font-weight: bold\">14.303575</span> │ <span style=\"color: #008080; text-decoration-color: #008080; font-weight: bold\">77.991524</span> │ <span style=\"color: #008080; text-decoration-color: #008080; font-weight: bold\">0.015588</span> │\n",
       "│ <span style=\"color: #008080; text-decoration-color: #008080; font-weight: bold\">14.304570</span> │ <span style=\"color: #008080; text-decoration-color: #008080; font-weight: bold\">77.991524</span> │ <span style=\"color: #008080; text-decoration-color: #008080; font-weight: bold\">0.015588</span> │\n",
       "│ <span style=\"color: #008080; text-decoration-color: #008080; font-weight: bold\">14.193995</span> │ <span style=\"color: #008080; text-decoration-color: #008080; font-weight: bold\">77.990524</span> │ <span style=\"color: #008080; text-decoration-color: #008080; font-weight: bold\">0.029040</span> │\n",
       "│ <span style=\"color: #008080; text-decoration-color: #008080; font-weight: bold\">14.194992</span> │ <span style=\"color: #008080; text-decoration-color: #008080; font-weight: bold\">77.990524</span> │ <span style=\"color: #008080; text-decoration-color: #008080; font-weight: bold\">0.029040</span> │\n",
       "│ <span style=\"color: #008080; text-decoration-color: #008080; font-weight: bold\">14.195988</span> │ <span style=\"color: #008080; text-decoration-color: #008080; font-weight: bold\">77.990524</span> │ <span style=\"color: #008080; text-decoration-color: #008080; font-weight: bold\">0.029040</span> │\n",
       "└───────────┴───────────┴──────────┘\n",
       "</pre>\n"
      ],
      "text/plain": [
       "┏━━━━━━━━━━━┳━━━━━━━━━━━┳━━━━━━━━━━┓\n",
       "┃\u001b[1m \u001b[0m\u001b[1mlon\u001b[0m\u001b[1m      \u001b[0m\u001b[1m \u001b[0m┃\u001b[1m \u001b[0m\u001b[1mlat\u001b[0m\u001b[1m      \u001b[0m\u001b[1m \u001b[0m┃\u001b[1m \u001b[0m\u001b[1mband_var\u001b[0m\u001b[1m \u001b[0m┃\n",
       "┡━━━━━━━━━━━╇━━━━━━━━━━━╇━━━━━━━━━━┩\n",
       "│ \u001b[2mfloat32\u001b[0m   │ \u001b[2mfloat32\u001b[0m   │ \u001b[2mfloat32\u001b[0m  │\n",
       "├───────────┼───────────┼──────────┤\n",
       "│ \u001b[1;36m14.303575\u001b[0m │ \u001b[1;36m77.991524\u001b[0m │ \u001b[1;36m0.015588\u001b[0m │\n",
       "│ \u001b[1;36m14.304570\u001b[0m │ \u001b[1;36m77.991524\u001b[0m │ \u001b[1;36m0.015588\u001b[0m │\n",
       "│ \u001b[1;36m14.193995\u001b[0m │ \u001b[1;36m77.990524\u001b[0m │ \u001b[1;36m0.029040\u001b[0m │\n",
       "│ \u001b[1;36m14.194992\u001b[0m │ \u001b[1;36m77.990524\u001b[0m │ \u001b[1;36m0.029040\u001b[0m │\n",
       "│ \u001b[1;36m14.195988\u001b[0m │ \u001b[1;36m77.990524\u001b[0m │ \u001b[1;36m0.029040\u001b[0m │\n",
       "└───────────┴───────────┴──────────┘"
      ]
     },
     "execution_count": 7,
     "metadata": {},
     "output_type": "execute_result"
    }
   ],
   "source": [
    "test_file.head()"
   ]
  },
  {
   "cell_type": "code",
   "execution_count": 8,
   "metadata": {},
   "outputs": [
    {
     "data": {
      "application/vnd.jupyter.widget-view+json": {
       "model_id": "1e38a9b1a29d453eb7421b8f2b4bfccd",
       "version_major": 2,
       "version_minor": 0
      },
      "text/plain": [
       "FloatProgress(value=0.0, layout=Layout(width='auto'), style=ProgressStyle(bar_color='black'))"
      ]
     },
     "metadata": {},
     "output_type": "display_data"
    },
    {
     "data": {
      "text/html": [
       "<pre style=\"white-space:pre;overflow-x:auto;line-height:normal;font-family:Menlo,'DejaVu Sans Mono',consolas,'Courier New',monospace\"></pre>\n"
      ],
      "text/plain": []
     },
     "metadata": {},
     "output_type": "display_data"
    },
    {
     "data": {
      "text/plain": [
       "┌───────────┐\n",
       "│ \u001b[1;36m526511828\u001b[0m │\n",
       "└───────────┘"
      ]
     },
     "execution_count": 8,
     "metadata": {},
     "output_type": "execute_result"
    }
   ],
   "source": [
    "test_file.count()"
   ]
  },
  {
   "cell_type": "code",
   "execution_count": null,
   "metadata": {},
   "outputs": [
    {
     "name": "stdout",
     "output_type": "stream",
     "text": [
      "1000\n",
      "1000\n",
      "((0, 0), Window(col_off=0, row_off=0, width=256, height=256))\n",
      "((0, 1), Window(col_off=256, row_off=0, width=256, height=256))\n",
      "((0, 2), Window(col_off=512, row_off=0, width=256, height=256))\n",
      "((0, 3), Window(col_off=768, row_off=0, width=232, height=256))\n",
      "((1, 0), Window(col_off=0, row_off=256, width=256, height=256))\n",
      "((1, 1), Window(col_off=256, row_off=256, width=256, height=256))\n",
      "((1, 2), Window(col_off=512, row_off=256, width=256, height=256))\n",
      "((1, 3), Window(col_off=768, row_off=256, width=232, height=256))\n",
      "((2, 0), Window(col_off=0, row_off=512, width=256, height=256))\n",
      "((2, 1), Window(col_off=256, row_off=512, width=256, height=256))\n",
      "((2, 2), Window(col_off=512, row_off=512, width=256, height=256))\n",
      "((2, 3), Window(col_off=768, row_off=512, width=232, height=256))\n",
      "((3, 0), Window(col_off=0, row_off=768, width=256, height=232))\n",
      "((3, 1), Window(col_off=256, row_off=768, width=256, height=232))\n",
      "((3, 2), Window(col_off=512, row_off=768, width=256, height=232))\n",
      "((3, 3), Window(col_off=768, row_off=768, width=232, height=232))\n"
     ]
    }
   ],
   "source": [
    "# with rs.open(\"/Users/cenv1069/Documents/data/datasets/JRC/S_1000m/GHS_BUILT_S_NRES_E2020_GLOBE_R2023A_54009_1000_V1_0_R7_C22/GHS_BUILT_S_NRES_E2020_GLOBE_R2023A_54009_1000_V1_0_R7_C22.tif\") as src:\n",
    "#     # Process the dataset in chunks.  Likely not very efficient.\n",
    "#     print(src.height)\n",
    "#     print(src.width)\n",
    "    \n",
    "#     for ij, window in src.block_windows():\n",
    "#         print((ij, window))\n",
    "\n"
   ]
  },
  {
   "cell_type": "code",
   "execution_count": 1,
   "metadata": {},
   "outputs": [],
   "source": [
    "# import time\n",
    "# from tqdm import tqdm\n",
    "# from datetime import datetime\n",
    "\n",
    "# def process_data():\n",
    "#     # Simulate data processing loop\n",
    "#     for _ in tqdm(range(100), desc=\"Processing data...\"):\n",
    "#         time.sleep(0.1)  # Simulating some processing time for each iteration\n",
    "\n",
    "# def show_clock():\n",
    "#     with tqdm(total=0, bar_format=\"{desc}\", dynamic_ncols=True) as pbar:\n",
    "#         while True:\n",
    "#             # Get current time\n",
    "#             now = datetime.now().strftime(\"%H:%M:%S\")\n",
    "#             # Update the tqdm bar with the current time\n",
    "#             pbar.set_description(f\"Clock: {now}\")\n",
    "#             time.sleep(1)  # Update every second\n",
    "\n",
    "\n",
    "# # Run the clock in the background\n",
    "# import threading\n",
    "# clock_thread = threading.Thread(target=show_clock, daemon=True)\n",
    "# clock_thread.start()\n",
    "\n",
    "# # Run the data processing function\n",
    "# process_data()\n",
    "\n",
    "# # Optionally, wait for the clock thread to finish if needed\n",
    "# clock_thread.join()"
   ]
  },
  {
   "cell_type": "markdown",
   "metadata": {},
   "source": [
    "### Generating sample data sets"
   ]
  },
  {
   "cell_type": "markdown",
   "metadata": {},
   "source": [
    "Let's select a window from which we want to sample, we can rely on the boundaries of the ghsl tiles for consistency and ease : "
   ]
  },
  {
   "cell_type": "code",
   "execution_count": 14,
   "metadata": {},
   "outputs": [],
   "source": [
    "ghsl_tile_bounds = {\"R8_C19\" : [-0.419440,8.098056,9.778591,16.259129]}"
   ]
  },
  {
   "cell_type": "code",
   "execution_count": 50,
   "metadata": {},
   "outputs": [
    {
     "data": {
      "image/svg+xml": [
       "<svg xmlns=\"http://www.w3.org/2000/svg\" xmlns:xlink=\"http://www.w3.org/1999/xlink\" width=\"100.0\" height=\"100.0\" viewBox=\"-0.82736124 7.690134759999999 11.01387348 8.976915480000002\" preserveAspectRatio=\"xMinYMin meet\"><g transform=\"matrix(1,0,0,-1,0,24.357185)\"><path fill-rule=\"evenodd\" fill=\"#66cc99\" stroke=\"#555555\" stroke-width=\"0.22027746960000003\" opacity=\"0.6\" d=\"M -0.41944,8.098056 L -0.41944,16.259129 L 9.778591,16.259129 L 9.778591,8.098056 L -0.41944,8.098056 z\" /></g></svg>"
      ],
      "text/plain": [
       "<POLYGON ((-0.419 8.098, -0.419 16.259, 9.779 16.259, 9.779 8.098, -0.419 8....>"
      ]
     },
     "execution_count": 50,
     "metadata": {},
     "output_type": "execute_result"
    }
   ],
   "source": [
    "\n",
    "box_window = box(*ghsl_tile_bounds[\"R8_C19\"],ccw=False)\n",
    "box_window"
   ]
  },
  {
   "cell_type": "code",
   "execution_count": 51,
   "metadata": {},
   "outputs": [],
   "source": [
    "# \n",
    "src_nc = \"/Users/cenv1069/Documents/data/datasets/kummu_etal/pedigree_HDI_1990_2015_v2.nc\"\n",
    "out_file = \"../../data/test_data_1.tif\""
   ]
  },
  {
   "cell_type": "code",
   "execution_count": 1,
   "metadata": {},
   "outputs": [],
   "source": [
    "# with rs.open(src_nc) as src:\n",
    "#     print(src.bounds)\n",
    "#     print(src.shape)\n",
    "\n",
    "#     out_image, out_transform = rs.mask.mask(src, [box_window], crop=True)\n",
    "#     out_meta = src.meta\n",
    "#     # print(out_meta)\n",
    "#     if len(out_image)>2:\n",
    "#         out_image = out_image[out_image.shape[0]-1]\n",
    "\n",
    "#     out_meta.update({\"driver\": \"GTiff\",\n",
    "#                     \"height\": out_image.shape[0],\n",
    "#                     \"width\": out_image.shape[1],\n",
    "#                     'crs': \"epsg:4326\",\n",
    "#                     \"transform\": out_transform})\n",
    "\n",
    "#     with rs.open(out_file, \"w\", **out_meta) as dest:\n",
    "#         dest.write(out_image)"
   ]
  },
  {
   "cell_type": "code",
   "execution_count": null,
   "metadata": {},
   "outputs": [
    {
     "ename": "NameError",
     "evalue": "name 'rs' is not defined",
     "output_type": "error",
     "traceback": [
      "\u001b[0;31m---------------------------------------------------------------------------\u001b[0m",
      "\u001b[0;31mNameError\u001b[0m                                 Traceback (most recent call last)",
      "Cell \u001b[0;32mIn[2], line 1\u001b[0m\n\u001b[0;32m----> 1\u001b[0m \u001b[38;5;28;01mwith\u001b[39;00m \u001b[43mrs\u001b[49m\u001b[38;5;241m.\u001b[39mopen(out_file) \u001b[38;5;28;01mas\u001b[39;00m src:\n\u001b[1;32m      2\u001b[0m     \u001b[38;5;28mprint\u001b[39m(src\u001b[38;5;241m.\u001b[39mshape)\n",
      "\u001b[0;31mNameError\u001b[0m: name 'rs' is not defined"
     ]
    }
   ],
   "source": [
    "# with rs.open(out_file) as src:\n",
    "#     print(src.shape)\n"
   ]
  },
  {
   "cell_type": "code",
   "execution_count": 54,
   "metadata": {},
   "outputs": [],
   "source": [
    "from scalenav.rast_converter import rast_converter"
   ]
  },
  {
   "cell_type": "code",
   "execution_count": 55,
   "metadata": {},
   "outputs": [
    {
     "name": "stdout",
     "output_type": "stream",
     "text": [
      "Reading the following file(s):  ../../data/test_data_1.tif\n",
      "No data value :  -9.0\n",
      "Detected source crs :  EPSG:4326\n"
     ]
    }
   ],
   "source": [
    "rast_converter(in_path=\"../../data/test_data_1.tif\")"
   ]
  },
  {
   "cell_type": "code",
   "execution_count": 56,
   "metadata": {},
   "outputs": [
    {
     "name": "stdout",
     "output_type": "stream",
     "text": [
      "(122, 3)\n"
     ]
    },
    {
     "data": {
      "text/html": [
       "<div>\n",
       "<style scoped>\n",
       "    .dataframe tbody tr th:only-of-type {\n",
       "        vertical-align: middle;\n",
       "    }\n",
       "\n",
       "    .dataframe tbody tr th {\n",
       "        vertical-align: top;\n",
       "    }\n",
       "\n",
       "    .dataframe thead th {\n",
       "        text-align: right;\n",
       "    }\n",
       "</style>\n",
       "<table border=\"1\" class=\"dataframe\">\n",
       "  <thead>\n",
       "    <tr style=\"text-align: right;\">\n",
       "      <th></th>\n",
       "      <th>lon</th>\n",
       "      <th>lat</th>\n",
       "      <th>band_var</th>\n",
       "    </tr>\n",
       "  </thead>\n",
       "  <tbody>\n",
       "    <tr>\n",
       "      <th>0</th>\n",
       "      <td>-0.375000</td>\n",
       "      <td>8.125</td>\n",
       "      <td>4.0</td>\n",
       "    </tr>\n",
       "    <tr>\n",
       "      <th>1</th>\n",
       "      <td>-0.291667</td>\n",
       "      <td>8.125</td>\n",
       "      <td>4.0</td>\n",
       "    </tr>\n",
       "    <tr>\n",
       "      <th>2</th>\n",
       "      <td>-0.208333</td>\n",
       "      <td>8.125</td>\n",
       "      <td>4.0</td>\n",
       "    </tr>\n",
       "    <tr>\n",
       "      <th>3</th>\n",
       "      <td>-0.125000</td>\n",
       "      <td>8.125</td>\n",
       "      <td>4.0</td>\n",
       "    </tr>\n",
       "    <tr>\n",
       "      <th>4</th>\n",
       "      <td>-0.041667</td>\n",
       "      <td>8.125</td>\n",
       "      <td>4.0</td>\n",
       "    </tr>\n",
       "  </tbody>\n",
       "</table>\n",
       "</div>"
      ],
      "text/plain": [
       "        lon    lat  band_var\n",
       "0 -0.375000  8.125       4.0\n",
       "1 -0.291667  8.125       4.0\n",
       "2 -0.208333  8.125       4.0\n",
       "3 -0.125000  8.125       4.0\n",
       "4 -0.041667  8.125       4.0"
      ]
     },
     "execution_count": 56,
     "metadata": {},
     "output_type": "execute_result"
    }
   ],
   "source": [
    "rast_convert = pd.read_parquet(\"rast_convert.parquet\")\n",
    "print(rast_convert.shape)\n",
    "rast_convert.head()"
   ]
  },
  {
   "cell_type": "code",
   "execution_count": 57,
   "metadata": {},
   "outputs": [
    {
     "data": {
      "text/html": [
       "<div style=\"width:100%;\"><div style=\"position:relative;width:100%;height:0;padding-bottom:60%;\"><span style=\"color:#565656\">Make this Notebook Trusted to load map: File -> Trust Notebook</span><iframe srcdoc=\"&lt;!DOCTYPE html&gt;\n",
       "&lt;html&gt;\n",
       "&lt;head&gt;\n",
       "    \n",
       "    &lt;meta http-equiv=&quot;content-type&quot; content=&quot;text/html; charset=UTF-8&quot; /&gt;\n",
       "    \n",
       "        &lt;script&gt;\n",
       "            L_NO_TOUCH = false;\n",
       "            L_DISABLE_3D = false;\n",
       "        &lt;/script&gt;\n",
       "    \n",
       "    &lt;style&gt;html, body {width: 100%;height: 100%;margin: 0;padding: 0;}&lt;/style&gt;\n",
       "    &lt;style&gt;#map {position:absolute;top:0;bottom:0;right:0;left:0;}&lt;/style&gt;\n",
       "    &lt;script src=&quot;https://cdn.jsdelivr.net/npm/leaflet@1.9.3/dist/leaflet.js&quot;&gt;&lt;/script&gt;\n",
       "    &lt;script src=&quot;https://code.jquery.com/jquery-3.7.1.min.js&quot;&gt;&lt;/script&gt;\n",
       "    &lt;script src=&quot;https://cdn.jsdelivr.net/npm/bootstrap@5.2.2/dist/js/bootstrap.bundle.min.js&quot;&gt;&lt;/script&gt;\n",
       "    &lt;script src=&quot;https://cdnjs.cloudflare.com/ajax/libs/Leaflet.awesome-markers/2.0.2/leaflet.awesome-markers.js&quot;&gt;&lt;/script&gt;\n",
       "    &lt;link rel=&quot;stylesheet&quot; href=&quot;https://cdn.jsdelivr.net/npm/leaflet@1.9.3/dist/leaflet.css&quot;/&gt;\n",
       "    &lt;link rel=&quot;stylesheet&quot; href=&quot;https://cdn.jsdelivr.net/npm/bootstrap@5.2.2/dist/css/bootstrap.min.css&quot;/&gt;\n",
       "    &lt;link rel=&quot;stylesheet&quot; href=&quot;https://netdna.bootstrapcdn.com/bootstrap/3.0.0/css/bootstrap-glyphicons.css&quot;/&gt;\n",
       "    &lt;link rel=&quot;stylesheet&quot; href=&quot;https://cdn.jsdelivr.net/npm/@fortawesome/fontawesome-free@6.2.0/css/all.min.css&quot;/&gt;\n",
       "    &lt;link rel=&quot;stylesheet&quot; href=&quot;https://cdnjs.cloudflare.com/ajax/libs/Leaflet.awesome-markers/2.0.2/leaflet.awesome-markers.css&quot;/&gt;\n",
       "    &lt;link rel=&quot;stylesheet&quot; href=&quot;https://cdn.jsdelivr.net/gh/python-visualization/folium/folium/templates/leaflet.awesome.rotate.min.css&quot;/&gt;\n",
       "    \n",
       "            &lt;meta name=&quot;viewport&quot; content=&quot;width=device-width,\n",
       "                initial-scale=1.0, maximum-scale=1.0, user-scalable=no&quot; /&gt;\n",
       "            &lt;style&gt;\n",
       "                #map_63c7a149a5731a2bb8a349ff2996f5c0 {\n",
       "                    position: relative;\n",
       "                    width: 100.0%;\n",
       "                    height: 100.0%;\n",
       "                    left: 0.0%;\n",
       "                    top: 0.0%;\n",
       "                }\n",
       "                .leaflet-container { font-size: 1rem; }\n",
       "            &lt;/style&gt;\n",
       "        \n",
       "    \n",
       "                    &lt;style&gt;\n",
       "                        .foliumtooltip {\n",
       "                            \n",
       "                        }\n",
       "                       .foliumtooltip table{\n",
       "                            margin: auto;\n",
       "                        }\n",
       "                        .foliumtooltip tr{\n",
       "                            text-align: left;\n",
       "                        }\n",
       "                        .foliumtooltip th{\n",
       "                            padding: 2px; padding-right: 8px;\n",
       "                        }\n",
       "                    &lt;/style&gt;\n",
       "            \n",
       "&lt;/head&gt;\n",
       "&lt;body&gt;\n",
       "    \n",
       "    \n",
       "            &lt;div class=&quot;folium-map&quot; id=&quot;map_63c7a149a5731a2bb8a349ff2996f5c0&quot; &gt;&lt;/div&gt;\n",
       "        \n",
       "&lt;/body&gt;\n",
       "&lt;script&gt;\n",
       "    \n",
       "    \n",
       "            var map_63c7a149a5731a2bb8a349ff2996f5c0 = L.map(\n",
       "                &quot;map_63c7a149a5731a2bb8a349ff2996f5c0&quot;,\n",
       "                {\n",
       "                    center: [8.125, 4.666666507720947],\n",
       "                    crs: L.CRS.EPSG3857,\n",
       "                    zoom: 10,\n",
       "                    zoomControl: true,\n",
       "                    preferCanvas: false,\n",
       "                }\n",
       "            );\n",
       "            L.control.scale().addTo(map_63c7a149a5731a2bb8a349ff2996f5c0);\n",
       "\n",
       "            \n",
       "\n",
       "        \n",
       "    \n",
       "            var tile_layer_457657927360cccedac62d8172c48b85 = L.tileLayer(\n",
       "                &quot;https://tile.openstreetmap.org/{z}/{x}/{y}.png&quot;,\n",
       "                {&quot;attribution&quot;: &quot;\\u0026copy; \\u003ca href=\\&quot;https://www.openstreetmap.org/copyright\\&quot;\\u003eOpenStreetMap\\u003c/a\\u003e contributors&quot;, &quot;detectRetina&quot;: false, &quot;maxNativeZoom&quot;: 19, &quot;maxZoom&quot;: 19, &quot;minZoom&quot;: 0, &quot;noWrap&quot;: false, &quot;opacity&quot;: 1, &quot;subdomains&quot;: &quot;abc&quot;, &quot;tms&quot;: false}\n",
       "            );\n",
       "        \n",
       "    \n",
       "            tile_layer_457657927360cccedac62d8172c48b85.addTo(map_63c7a149a5731a2bb8a349ff2996f5c0);\n",
       "        \n",
       "    \n",
       "            map_63c7a149a5731a2bb8a349ff2996f5c0.fitBounds(\n",
       "                [[8.125, -0.375], [8.125, 9.708333015441895]],\n",
       "                {}\n",
       "            );\n",
       "        \n",
       "    \n",
       "        function geo_json_0cd9fa2c5cf112da5571c0110458078d_styler(feature) {\n",
       "            switch(feature.id) {\n",
       "                default:\n",
       "                    return {&quot;fillOpacity&quot;: 0.5, &quot;weight&quot;: 2};\n",
       "            }\n",
       "        }\n",
       "        function geo_json_0cd9fa2c5cf112da5571c0110458078d_highlighter(feature) {\n",
       "            switch(feature.id) {\n",
       "                default:\n",
       "                    return {&quot;fillOpacity&quot;: 0.75};\n",
       "            }\n",
       "        }\n",
       "        function geo_json_0cd9fa2c5cf112da5571c0110458078d_pointToLayer(feature, latlng) {\n",
       "            var opts = {&quot;bubblingMouseEvents&quot;: true, &quot;color&quot;: &quot;#3388ff&quot;, &quot;dashArray&quot;: null, &quot;dashOffset&quot;: null, &quot;fill&quot;: true, &quot;fillColor&quot;: &quot;#3388ff&quot;, &quot;fillOpacity&quot;: 0.2, &quot;fillRule&quot;: &quot;evenodd&quot;, &quot;lineCap&quot;: &quot;round&quot;, &quot;lineJoin&quot;: &quot;round&quot;, &quot;opacity&quot;: 1.0, &quot;radius&quot;: 2, &quot;stroke&quot;: true, &quot;weight&quot;: 3};\n",
       "            \n",
       "            let style = geo_json_0cd9fa2c5cf112da5571c0110458078d_styler(feature)\n",
       "            Object.assign(opts, style)\n",
       "            \n",
       "            return new L.CircleMarker(latlng, opts)\n",
       "        }\n",
       "\n",
       "        function geo_json_0cd9fa2c5cf112da5571c0110458078d_onEachFeature(feature, layer) {\n",
       "            layer.on({\n",
       "                mouseout: function(e) {\n",
       "                    if(typeof e.target.setStyle === &quot;function&quot;){\n",
       "                            geo_json_0cd9fa2c5cf112da5571c0110458078d.resetStyle(e.target);\n",
       "                    }\n",
       "                },\n",
       "                mouseover: function(e) {\n",
       "                    if(typeof e.target.setStyle === &quot;function&quot;){\n",
       "                        const highlightStyle = geo_json_0cd9fa2c5cf112da5571c0110458078d_highlighter(e.target.feature)\n",
       "                        e.target.setStyle(highlightStyle);\n",
       "                    }\n",
       "                },\n",
       "            });\n",
       "        };\n",
       "        var geo_json_0cd9fa2c5cf112da5571c0110458078d = L.geoJson(null, {\n",
       "                onEachFeature: geo_json_0cd9fa2c5cf112da5571c0110458078d_onEachFeature,\n",
       "            \n",
       "                style: geo_json_0cd9fa2c5cf112da5571c0110458078d_styler,\n",
       "                pointToLayer: geo_json_0cd9fa2c5cf112da5571c0110458078d_pointToLayer,\n",
       "        });\n",
       "\n",
       "        function geo_json_0cd9fa2c5cf112da5571c0110458078d_add (data) {\n",
       "            geo_json_0cd9fa2c5cf112da5571c0110458078d\n",
       "                .addData(data);\n",
       "        }\n",
       "            geo_json_0cd9fa2c5cf112da5571c0110458078d_add({&quot;bbox&quot;: [-0.375, 8.125, 9.708333015441895, 8.125], &quot;features&quot;: [{&quot;bbox&quot;: [-0.375, 8.125, -0.375, 8.125], &quot;geometry&quot;: {&quot;coordinates&quot;: [-0.375, 8.125], &quot;type&quot;: &quot;Point&quot;}, &quot;id&quot;: &quot;0&quot;, &quot;properties&quot;: {}, &quot;type&quot;: &quot;Feature&quot;}, {&quot;bbox&quot;: [-0.2916666567325592, 8.125, -0.2916666567325592, 8.125], &quot;geometry&quot;: {&quot;coordinates&quot;: [-0.2916666567325592, 8.125], &quot;type&quot;: &quot;Point&quot;}, &quot;id&quot;: &quot;1&quot;, &quot;properties&quot;: {}, &quot;type&quot;: &quot;Feature&quot;}, {&quot;bbox&quot;: [-0.2083333283662796, 8.125, -0.2083333283662796, 8.125], &quot;geometry&quot;: {&quot;coordinates&quot;: [-0.2083333283662796, 8.125], &quot;type&quot;: &quot;Point&quot;}, &quot;id&quot;: &quot;2&quot;, &quot;properties&quot;: {}, &quot;type&quot;: &quot;Feature&quot;}, {&quot;bbox&quot;: [-0.125, 8.125, -0.125, 8.125], &quot;geometry&quot;: {&quot;coordinates&quot;: [-0.125, 8.125], &quot;type&quot;: &quot;Point&quot;}, &quot;id&quot;: &quot;3&quot;, &quot;properties&quot;: {}, &quot;type&quot;: &quot;Feature&quot;}, {&quot;bbox&quot;: [-0.0416666641831398, 8.125, -0.0416666641831398, 8.125], &quot;geometry&quot;: {&quot;coordinates&quot;: [-0.0416666641831398, 8.125], &quot;type&quot;: &quot;Point&quot;}, &quot;id&quot;: &quot;4&quot;, &quot;properties&quot;: {}, &quot;type&quot;: &quot;Feature&quot;}, {&quot;bbox&quot;: [0.0416666641831398, 8.125, 0.0416666641831398, 8.125], &quot;geometry&quot;: {&quot;coordinates&quot;: [0.0416666641831398, 8.125], &quot;type&quot;: &quot;Point&quot;}, &quot;id&quot;: &quot;5&quot;, &quot;properties&quot;: {}, &quot;type&quot;: &quot;Feature&quot;}, {&quot;bbox&quot;: [0.125, 8.125, 0.125, 8.125], &quot;geometry&quot;: {&quot;coordinates&quot;: [0.125, 8.125], &quot;type&quot;: &quot;Point&quot;}, &quot;id&quot;: &quot;6&quot;, &quot;properties&quot;: {}, &quot;type&quot;: &quot;Feature&quot;}, {&quot;bbox&quot;: [0.2083333283662796, 8.125, 0.2083333283662796, 8.125], &quot;geometry&quot;: {&quot;coordinates&quot;: [0.2083333283662796, 8.125], &quot;type&quot;: &quot;Point&quot;}, &quot;id&quot;: &quot;7&quot;, &quot;properties&quot;: {}, &quot;type&quot;: &quot;Feature&quot;}, {&quot;bbox&quot;: [0.2916666567325592, 8.125, 0.2916666567325592, 8.125], &quot;geometry&quot;: {&quot;coordinates&quot;: [0.2916666567325592, 8.125], &quot;type&quot;: &quot;Point&quot;}, &quot;id&quot;: &quot;8&quot;, &quot;properties&quot;: {}, &quot;type&quot;: &quot;Feature&quot;}, {&quot;bbox&quot;: [0.375, 8.125, 0.375, 8.125], &quot;geometry&quot;: {&quot;coordinates&quot;: [0.375, 8.125], &quot;type&quot;: &quot;Point&quot;}, &quot;id&quot;: &quot;9&quot;, &quot;properties&quot;: {}, &quot;type&quot;: &quot;Feature&quot;}, {&quot;bbox&quot;: [0.4583333134651184, 8.125, 0.4583333134651184, 8.125], &quot;geometry&quot;: {&quot;coordinates&quot;: [0.4583333134651184, 8.125], &quot;type&quot;: &quot;Point&quot;}, &quot;id&quot;: &quot;10&quot;, &quot;properties&quot;: {}, &quot;type&quot;: &quot;Feature&quot;}, {&quot;bbox&quot;: [0.5416666269302368, 8.125, 0.5416666269302368, 8.125], &quot;geometry&quot;: {&quot;coordinates&quot;: [0.5416666269302368, 8.125], &quot;type&quot;: &quot;Point&quot;}, &quot;id&quot;: &quot;11&quot;, &quot;properties&quot;: {}, &quot;type&quot;: &quot;Feature&quot;}, {&quot;bbox&quot;: [0.625, 8.125, 0.625, 8.125], &quot;geometry&quot;: {&quot;coordinates&quot;: [0.625, 8.125], &quot;type&quot;: &quot;Point&quot;}, &quot;id&quot;: &quot;12&quot;, &quot;properties&quot;: {}, &quot;type&quot;: &quot;Feature&quot;}, {&quot;bbox&quot;: [0.7083333134651184, 8.125, 0.7083333134651184, 8.125], &quot;geometry&quot;: {&quot;coordinates&quot;: [0.7083333134651184, 8.125], &quot;type&quot;: &quot;Point&quot;}, &quot;id&quot;: &quot;13&quot;, &quot;properties&quot;: {}, &quot;type&quot;: &quot;Feature&quot;}, {&quot;bbox&quot;: [0.7916666269302368, 8.125, 0.7916666269302368, 8.125], &quot;geometry&quot;: {&quot;coordinates&quot;: [0.7916666269302368, 8.125], &quot;type&quot;: &quot;Point&quot;}, &quot;id&quot;: &quot;14&quot;, &quot;properties&quot;: {}, &quot;type&quot;: &quot;Feature&quot;}, {&quot;bbox&quot;: [0.875, 8.125, 0.875, 8.125], &quot;geometry&quot;: {&quot;coordinates&quot;: [0.875, 8.125], &quot;type&quot;: &quot;Point&quot;}, &quot;id&quot;: &quot;15&quot;, &quot;properties&quot;: {}, &quot;type&quot;: &quot;Feature&quot;}, {&quot;bbox&quot;: [0.9583333134651184, 8.125, 0.9583333134651184, 8.125], &quot;geometry&quot;: {&quot;coordinates&quot;: [0.9583333134651184, 8.125], &quot;type&quot;: &quot;Point&quot;}, &quot;id&quot;: &quot;16&quot;, &quot;properties&quot;: {}, &quot;type&quot;: &quot;Feature&quot;}, {&quot;bbox&quot;: [1.0416666269302368, 8.125, 1.0416666269302368, 8.125], &quot;geometry&quot;: {&quot;coordinates&quot;: [1.0416666269302368, 8.125], &quot;type&quot;: &quot;Point&quot;}, &quot;id&quot;: &quot;17&quot;, &quot;properties&quot;: {}, &quot;type&quot;: &quot;Feature&quot;}, {&quot;bbox&quot;: [1.125, 8.125, 1.125, 8.125], &quot;geometry&quot;: {&quot;coordinates&quot;: [1.125, 8.125], &quot;type&quot;: &quot;Point&quot;}, &quot;id&quot;: &quot;18&quot;, &quot;properties&quot;: {}, &quot;type&quot;: &quot;Feature&quot;}, {&quot;bbox&quot;: [1.2083332538604736, 8.125, 1.2083332538604736, 8.125], &quot;geometry&quot;: {&quot;coordinates&quot;: [1.2083332538604736, 8.125], &quot;type&quot;: &quot;Point&quot;}, &quot;id&quot;: &quot;19&quot;, &quot;properties&quot;: {}, &quot;type&quot;: &quot;Feature&quot;}, {&quot;bbox&quot;: [1.2916666269302368, 8.125, 1.2916666269302368, 8.125], &quot;geometry&quot;: {&quot;coordinates&quot;: [1.2916666269302368, 8.125], &quot;type&quot;: &quot;Point&quot;}, &quot;id&quot;: &quot;20&quot;, &quot;properties&quot;: {}, &quot;type&quot;: &quot;Feature&quot;}, {&quot;bbox&quot;: [1.375, 8.125, 1.375, 8.125], &quot;geometry&quot;: {&quot;coordinates&quot;: [1.375, 8.125], &quot;type&quot;: &quot;Point&quot;}, &quot;id&quot;: &quot;21&quot;, &quot;properties&quot;: {}, &quot;type&quot;: &quot;Feature&quot;}, {&quot;bbox&quot;: [1.4583332538604736, 8.125, 1.4583332538604736, 8.125], &quot;geometry&quot;: {&quot;coordinates&quot;: [1.4583332538604736, 8.125], &quot;type&quot;: &quot;Point&quot;}, &quot;id&quot;: &quot;22&quot;, &quot;properties&quot;: {}, &quot;type&quot;: &quot;Feature&quot;}, {&quot;bbox&quot;: [1.5416666269302368, 8.125, 1.5416666269302368, 8.125], &quot;geometry&quot;: {&quot;coordinates&quot;: [1.5416666269302368, 8.125], &quot;type&quot;: &quot;Point&quot;}, &quot;id&quot;: &quot;23&quot;, &quot;properties&quot;: {}, &quot;type&quot;: &quot;Feature&quot;}, {&quot;bbox&quot;: [1.625, 8.125, 1.625, 8.125], &quot;geometry&quot;: {&quot;coordinates&quot;: [1.625, 8.125], &quot;type&quot;: &quot;Point&quot;}, &quot;id&quot;: &quot;24&quot;, &quot;properties&quot;: {}, &quot;type&quot;: &quot;Feature&quot;}, {&quot;bbox&quot;: [1.7083332538604736, 8.125, 1.7083332538604736, 8.125], &quot;geometry&quot;: {&quot;coordinates&quot;: [1.7083332538604736, 8.125], &quot;type&quot;: &quot;Point&quot;}, &quot;id&quot;: &quot;25&quot;, &quot;properties&quot;: {}, &quot;type&quot;: &quot;Feature&quot;}, {&quot;bbox&quot;: [1.7916666269302368, 8.125, 1.7916666269302368, 8.125], &quot;geometry&quot;: {&quot;coordinates&quot;: [1.7916666269302368, 8.125], &quot;type&quot;: &quot;Point&quot;}, &quot;id&quot;: &quot;26&quot;, &quot;properties&quot;: {}, &quot;type&quot;: &quot;Feature&quot;}, {&quot;bbox&quot;: [1.875, 8.125, 1.875, 8.125], &quot;geometry&quot;: {&quot;coordinates&quot;: [1.875, 8.125], &quot;type&quot;: &quot;Point&quot;}, &quot;id&quot;: &quot;27&quot;, &quot;properties&quot;: {}, &quot;type&quot;: &quot;Feature&quot;}, {&quot;bbox&quot;: [1.9583332538604736, 8.125, 1.9583332538604736, 8.125], &quot;geometry&quot;: {&quot;coordinates&quot;: [1.9583332538604736, 8.125], &quot;type&quot;: &quot;Point&quot;}, &quot;id&quot;: &quot;28&quot;, &quot;properties&quot;: {}, &quot;type&quot;: &quot;Feature&quot;}, {&quot;bbox&quot;: [2.0416665077209473, 8.125, 2.0416665077209473, 8.125], &quot;geometry&quot;: {&quot;coordinates&quot;: [2.0416665077209473, 8.125], &quot;type&quot;: &quot;Point&quot;}, &quot;id&quot;: &quot;29&quot;, &quot;properties&quot;: {}, &quot;type&quot;: &quot;Feature&quot;}, {&quot;bbox&quot;: [2.125, 8.125, 2.125, 8.125], &quot;geometry&quot;: {&quot;coordinates&quot;: [2.125, 8.125], &quot;type&quot;: &quot;Point&quot;}, &quot;id&quot;: &quot;30&quot;, &quot;properties&quot;: {}, &quot;type&quot;: &quot;Feature&quot;}, {&quot;bbox&quot;: [2.2083332538604736, 8.125, 2.2083332538604736, 8.125], &quot;geometry&quot;: {&quot;coordinates&quot;: [2.2083332538604736, 8.125], &quot;type&quot;: &quot;Point&quot;}, &quot;id&quot;: &quot;31&quot;, &quot;properties&quot;: {}, &quot;type&quot;: &quot;Feature&quot;}, {&quot;bbox&quot;: [2.2916665077209473, 8.125, 2.2916665077209473, 8.125], &quot;geometry&quot;: {&quot;coordinates&quot;: [2.2916665077209473, 8.125], &quot;type&quot;: &quot;Point&quot;}, &quot;id&quot;: &quot;32&quot;, &quot;properties&quot;: {}, &quot;type&quot;: &quot;Feature&quot;}, {&quot;bbox&quot;: [2.375, 8.125, 2.375, 8.125], &quot;geometry&quot;: {&quot;coordinates&quot;: [2.375, 8.125], &quot;type&quot;: &quot;Point&quot;}, &quot;id&quot;: &quot;33&quot;, &quot;properties&quot;: {}, &quot;type&quot;: &quot;Feature&quot;}, {&quot;bbox&quot;: [2.4583332538604736, 8.125, 2.4583332538604736, 8.125], &quot;geometry&quot;: {&quot;coordinates&quot;: [2.4583332538604736, 8.125], &quot;type&quot;: &quot;Point&quot;}, &quot;id&quot;: &quot;34&quot;, &quot;properties&quot;: {}, &quot;type&quot;: &quot;Feature&quot;}, {&quot;bbox&quot;: [2.5416665077209473, 8.125, 2.5416665077209473, 8.125], &quot;geometry&quot;: {&quot;coordinates&quot;: [2.5416665077209473, 8.125], &quot;type&quot;: &quot;Point&quot;}, &quot;id&quot;: &quot;35&quot;, &quot;properties&quot;: {}, &quot;type&quot;: &quot;Feature&quot;}, {&quot;bbox&quot;: [2.625, 8.125, 2.625, 8.125], &quot;geometry&quot;: {&quot;coordinates&quot;: [2.625, 8.125], &quot;type&quot;: &quot;Point&quot;}, &quot;id&quot;: &quot;36&quot;, &quot;properties&quot;: {}, &quot;type&quot;: &quot;Feature&quot;}, {&quot;bbox&quot;: [2.7083332538604736, 8.125, 2.7083332538604736, 8.125], &quot;geometry&quot;: {&quot;coordinates&quot;: [2.7083332538604736, 8.125], &quot;type&quot;: &quot;Point&quot;}, &quot;id&quot;: &quot;37&quot;, &quot;properties&quot;: {}, &quot;type&quot;: &quot;Feature&quot;}, {&quot;bbox&quot;: [2.7916665077209473, 8.125, 2.7916665077209473, 8.125], &quot;geometry&quot;: {&quot;coordinates&quot;: [2.7916665077209473, 8.125], &quot;type&quot;: &quot;Point&quot;}, &quot;id&quot;: &quot;38&quot;, &quot;properties&quot;: {}, &quot;type&quot;: &quot;Feature&quot;}, {&quot;bbox&quot;: [2.875, 8.125, 2.875, 8.125], &quot;geometry&quot;: {&quot;coordinates&quot;: [2.875, 8.125], &quot;type&quot;: &quot;Point&quot;}, &quot;id&quot;: &quot;39&quot;, &quot;properties&quot;: {}, &quot;type&quot;: &quot;Feature&quot;}, {&quot;bbox&quot;: [2.9583332538604736, 8.125, 2.9583332538604736, 8.125], &quot;geometry&quot;: {&quot;coordinates&quot;: [2.9583332538604736, 8.125], &quot;type&quot;: &quot;Point&quot;}, &quot;id&quot;: &quot;40&quot;, &quot;properties&quot;: {}, &quot;type&quot;: &quot;Feature&quot;}, {&quot;bbox&quot;: [3.0416665077209473, 8.125, 3.0416665077209473, 8.125], &quot;geometry&quot;: {&quot;coordinates&quot;: [3.0416665077209473, 8.125], &quot;type&quot;: &quot;Point&quot;}, &quot;id&quot;: &quot;41&quot;, &quot;properties&quot;: {}, &quot;type&quot;: &quot;Feature&quot;}, {&quot;bbox&quot;: [3.125, 8.125, 3.125, 8.125], &quot;geometry&quot;: {&quot;coordinates&quot;: [3.125, 8.125], &quot;type&quot;: &quot;Point&quot;}, &quot;id&quot;: &quot;42&quot;, &quot;properties&quot;: {}, &quot;type&quot;: &quot;Feature&quot;}, {&quot;bbox&quot;: [3.2083332538604736, 8.125, 3.2083332538604736, 8.125], &quot;geometry&quot;: {&quot;coordinates&quot;: [3.2083332538604736, 8.125], &quot;type&quot;: &quot;Point&quot;}, &quot;id&quot;: &quot;43&quot;, &quot;properties&quot;: {}, &quot;type&quot;: &quot;Feature&quot;}, {&quot;bbox&quot;: [3.2916665077209473, 8.125, 3.2916665077209473, 8.125], &quot;geometry&quot;: {&quot;coordinates&quot;: [3.2916665077209473, 8.125], &quot;type&quot;: &quot;Point&quot;}, &quot;id&quot;: &quot;44&quot;, &quot;properties&quot;: {}, &quot;type&quot;: &quot;Feature&quot;}, {&quot;bbox&quot;: [3.375, 8.125, 3.375, 8.125], &quot;geometry&quot;: {&quot;coordinates&quot;: [3.375, 8.125], &quot;type&quot;: &quot;Point&quot;}, &quot;id&quot;: &quot;45&quot;, &quot;properties&quot;: {}, &quot;type&quot;: &quot;Feature&quot;}, {&quot;bbox&quot;: [3.4583332538604736, 8.125, 3.4583332538604736, 8.125], &quot;geometry&quot;: {&quot;coordinates&quot;: [3.4583332538604736, 8.125], &quot;type&quot;: &quot;Point&quot;}, &quot;id&quot;: &quot;46&quot;, &quot;properties&quot;: {}, &quot;type&quot;: &quot;Feature&quot;}, {&quot;bbox&quot;: [3.5416665077209473, 8.125, 3.5416665077209473, 8.125], &quot;geometry&quot;: {&quot;coordinates&quot;: [3.5416665077209473, 8.125], &quot;type&quot;: &quot;Point&quot;}, &quot;id&quot;: &quot;47&quot;, &quot;properties&quot;: {}, &quot;type&quot;: &quot;Feature&quot;}, {&quot;bbox&quot;: [3.625, 8.125, 3.625, 8.125], &quot;geometry&quot;: {&quot;coordinates&quot;: [3.625, 8.125], &quot;type&quot;: &quot;Point&quot;}, &quot;id&quot;: &quot;48&quot;, &quot;properties&quot;: {}, &quot;type&quot;: &quot;Feature&quot;}, {&quot;bbox&quot;: [3.7083332538604736, 8.125, 3.7083332538604736, 8.125], &quot;geometry&quot;: {&quot;coordinates&quot;: [3.7083332538604736, 8.125], &quot;type&quot;: &quot;Point&quot;}, &quot;id&quot;: &quot;49&quot;, &quot;properties&quot;: {}, &quot;type&quot;: &quot;Feature&quot;}, {&quot;bbox&quot;: [3.7916665077209473, 8.125, 3.7916665077209473, 8.125], &quot;geometry&quot;: {&quot;coordinates&quot;: [3.7916665077209473, 8.125], &quot;type&quot;: &quot;Point&quot;}, &quot;id&quot;: &quot;50&quot;, &quot;properties&quot;: {}, &quot;type&quot;: &quot;Feature&quot;}, {&quot;bbox&quot;: [3.875, 8.125, 3.875, 8.125], &quot;geometry&quot;: {&quot;coordinates&quot;: [3.875, 8.125], &quot;type&quot;: &quot;Point&quot;}, &quot;id&quot;: &quot;51&quot;, &quot;properties&quot;: {}, &quot;type&quot;: &quot;Feature&quot;}, {&quot;bbox&quot;: [3.9583332538604736, 8.125, 3.9583332538604736, 8.125], &quot;geometry&quot;: {&quot;coordinates&quot;: [3.9583332538604736, 8.125], &quot;type&quot;: &quot;Point&quot;}, &quot;id&quot;: &quot;52&quot;, &quot;properties&quot;: {}, &quot;type&quot;: &quot;Feature&quot;}, {&quot;bbox&quot;: [4.041666507720947, 8.125, 4.041666507720947, 8.125], &quot;geometry&quot;: {&quot;coordinates&quot;: [4.041666507720947, 8.125], &quot;type&quot;: &quot;Point&quot;}, &quot;id&quot;: &quot;53&quot;, &quot;properties&quot;: {}, &quot;type&quot;: &quot;Feature&quot;}, {&quot;bbox&quot;: [4.125, 8.125, 4.125, 8.125], &quot;geometry&quot;: {&quot;coordinates&quot;: [4.125, 8.125], &quot;type&quot;: &quot;Point&quot;}, &quot;id&quot;: &quot;54&quot;, &quot;properties&quot;: {}, &quot;type&quot;: &quot;Feature&quot;}, {&quot;bbox&quot;: [4.2083330154418945, 8.125, 4.2083330154418945, 8.125], &quot;geometry&quot;: {&quot;coordinates&quot;: [4.2083330154418945, 8.125], &quot;type&quot;: &quot;Point&quot;}, &quot;id&quot;: &quot;55&quot;, &quot;properties&quot;: {}, &quot;type&quot;: &quot;Feature&quot;}, {&quot;bbox&quot;: [4.291666507720947, 8.125, 4.291666507720947, 8.125], &quot;geometry&quot;: {&quot;coordinates&quot;: [4.291666507720947, 8.125], &quot;type&quot;: &quot;Point&quot;}, &quot;id&quot;: &quot;56&quot;, &quot;properties&quot;: {}, &quot;type&quot;: &quot;Feature&quot;}, {&quot;bbox&quot;: [4.375, 8.125, 4.375, 8.125], &quot;geometry&quot;: {&quot;coordinates&quot;: [4.375, 8.125], &quot;type&quot;: &quot;Point&quot;}, &quot;id&quot;: &quot;57&quot;, &quot;properties&quot;: {}, &quot;type&quot;: &quot;Feature&quot;}, {&quot;bbox&quot;: [4.4583330154418945, 8.125, 4.4583330154418945, 8.125], &quot;geometry&quot;: {&quot;coordinates&quot;: [4.4583330154418945, 8.125], &quot;type&quot;: &quot;Point&quot;}, &quot;id&quot;: &quot;58&quot;, &quot;properties&quot;: {}, &quot;type&quot;: &quot;Feature&quot;}, {&quot;bbox&quot;: [4.541666507720947, 8.125, 4.541666507720947, 8.125], &quot;geometry&quot;: {&quot;coordinates&quot;: [4.541666507720947, 8.125], &quot;type&quot;: &quot;Point&quot;}, &quot;id&quot;: &quot;59&quot;, &quot;properties&quot;: {}, &quot;type&quot;: &quot;Feature&quot;}, {&quot;bbox&quot;: [4.625, 8.125, 4.625, 8.125], &quot;geometry&quot;: {&quot;coordinates&quot;: [4.625, 8.125], &quot;type&quot;: &quot;Point&quot;}, &quot;id&quot;: &quot;60&quot;, &quot;properties&quot;: {}, &quot;type&quot;: &quot;Feature&quot;}, {&quot;bbox&quot;: [4.7083330154418945, 8.125, 4.7083330154418945, 8.125], &quot;geometry&quot;: {&quot;coordinates&quot;: [4.7083330154418945, 8.125], &quot;type&quot;: &quot;Point&quot;}, &quot;id&quot;: &quot;61&quot;, &quot;properties&quot;: {}, &quot;type&quot;: &quot;Feature&quot;}, {&quot;bbox&quot;: [4.791666507720947, 8.125, 4.791666507720947, 8.125], &quot;geometry&quot;: {&quot;coordinates&quot;: [4.791666507720947, 8.125], &quot;type&quot;: &quot;Point&quot;}, &quot;id&quot;: &quot;62&quot;, &quot;properties&quot;: {}, &quot;type&quot;: &quot;Feature&quot;}, {&quot;bbox&quot;: [4.875, 8.125, 4.875, 8.125], &quot;geometry&quot;: {&quot;coordinates&quot;: [4.875, 8.125], &quot;type&quot;: &quot;Point&quot;}, &quot;id&quot;: &quot;63&quot;, &quot;properties&quot;: {}, &quot;type&quot;: &quot;Feature&quot;}, {&quot;bbox&quot;: [4.9583330154418945, 8.125, 4.9583330154418945, 8.125], &quot;geometry&quot;: {&quot;coordinates&quot;: [4.9583330154418945, 8.125], &quot;type&quot;: &quot;Point&quot;}, &quot;id&quot;: &quot;64&quot;, &quot;properties&quot;: {}, &quot;type&quot;: &quot;Feature&quot;}, {&quot;bbox&quot;: [5.041666507720947, 8.125, 5.041666507720947, 8.125], &quot;geometry&quot;: {&quot;coordinates&quot;: [5.041666507720947, 8.125], &quot;type&quot;: &quot;Point&quot;}, &quot;id&quot;: &quot;65&quot;, &quot;properties&quot;: {}, &quot;type&quot;: &quot;Feature&quot;}, {&quot;bbox&quot;: [5.125, 8.125, 5.125, 8.125], &quot;geometry&quot;: {&quot;coordinates&quot;: [5.125, 8.125], &quot;type&quot;: &quot;Point&quot;}, &quot;id&quot;: &quot;66&quot;, &quot;properties&quot;: {}, &quot;type&quot;: &quot;Feature&quot;}, {&quot;bbox&quot;: [5.2083330154418945, 8.125, 5.2083330154418945, 8.125], &quot;geometry&quot;: {&quot;coordinates&quot;: [5.2083330154418945, 8.125], &quot;type&quot;: &quot;Point&quot;}, &quot;id&quot;: &quot;67&quot;, &quot;properties&quot;: {}, &quot;type&quot;: &quot;Feature&quot;}, {&quot;bbox&quot;: [5.291666507720947, 8.125, 5.291666507720947, 8.125], &quot;geometry&quot;: {&quot;coordinates&quot;: [5.291666507720947, 8.125], &quot;type&quot;: &quot;Point&quot;}, &quot;id&quot;: &quot;68&quot;, &quot;properties&quot;: {}, &quot;type&quot;: &quot;Feature&quot;}, {&quot;bbox&quot;: [5.375, 8.125, 5.375, 8.125], &quot;geometry&quot;: {&quot;coordinates&quot;: [5.375, 8.125], &quot;type&quot;: &quot;Point&quot;}, &quot;id&quot;: &quot;69&quot;, &quot;properties&quot;: {}, &quot;type&quot;: &quot;Feature&quot;}, {&quot;bbox&quot;: [5.4583330154418945, 8.125, 5.4583330154418945, 8.125], &quot;geometry&quot;: {&quot;coordinates&quot;: [5.4583330154418945, 8.125], &quot;type&quot;: &quot;Point&quot;}, &quot;id&quot;: &quot;70&quot;, &quot;properties&quot;: {}, &quot;type&quot;: &quot;Feature&quot;}, {&quot;bbox&quot;: [5.541666507720947, 8.125, 5.541666507720947, 8.125], &quot;geometry&quot;: {&quot;coordinates&quot;: [5.541666507720947, 8.125], &quot;type&quot;: &quot;Point&quot;}, &quot;id&quot;: &quot;71&quot;, &quot;properties&quot;: {}, &quot;type&quot;: &quot;Feature&quot;}, {&quot;bbox&quot;: [5.625, 8.125, 5.625, 8.125], &quot;geometry&quot;: {&quot;coordinates&quot;: [5.625, 8.125], &quot;type&quot;: &quot;Point&quot;}, &quot;id&quot;: &quot;72&quot;, &quot;properties&quot;: {}, &quot;type&quot;: &quot;Feature&quot;}, {&quot;bbox&quot;: [5.7083330154418945, 8.125, 5.7083330154418945, 8.125], &quot;geometry&quot;: {&quot;coordinates&quot;: [5.7083330154418945, 8.125], &quot;type&quot;: &quot;Point&quot;}, &quot;id&quot;: &quot;73&quot;, &quot;properties&quot;: {}, &quot;type&quot;: &quot;Feature&quot;}, {&quot;bbox&quot;: [5.791666507720947, 8.125, 5.791666507720947, 8.125], &quot;geometry&quot;: {&quot;coordinates&quot;: [5.791666507720947, 8.125], &quot;type&quot;: &quot;Point&quot;}, &quot;id&quot;: &quot;74&quot;, &quot;properties&quot;: {}, &quot;type&quot;: &quot;Feature&quot;}, {&quot;bbox&quot;: [5.875, 8.125, 5.875, 8.125], &quot;geometry&quot;: {&quot;coordinates&quot;: [5.875, 8.125], &quot;type&quot;: &quot;Point&quot;}, &quot;id&quot;: &quot;75&quot;, &quot;properties&quot;: {}, &quot;type&quot;: &quot;Feature&quot;}, {&quot;bbox&quot;: [5.9583330154418945, 8.125, 5.9583330154418945, 8.125], &quot;geometry&quot;: {&quot;coordinates&quot;: [5.9583330154418945, 8.125], &quot;type&quot;: &quot;Point&quot;}, &quot;id&quot;: &quot;76&quot;, &quot;properties&quot;: {}, &quot;type&quot;: &quot;Feature&quot;}, {&quot;bbox&quot;: [6.041666507720947, 8.125, 6.041666507720947, 8.125], &quot;geometry&quot;: {&quot;coordinates&quot;: [6.041666507720947, 8.125], &quot;type&quot;: &quot;Point&quot;}, &quot;id&quot;: &quot;77&quot;, &quot;properties&quot;: {}, &quot;type&quot;: &quot;Feature&quot;}, {&quot;bbox&quot;: [6.125, 8.125, 6.125, 8.125], &quot;geometry&quot;: {&quot;coordinates&quot;: [6.125, 8.125], &quot;type&quot;: &quot;Point&quot;}, &quot;id&quot;: &quot;78&quot;, &quot;properties&quot;: {}, &quot;type&quot;: &quot;Feature&quot;}, {&quot;bbox&quot;: [6.2083330154418945, 8.125, 6.2083330154418945, 8.125], &quot;geometry&quot;: {&quot;coordinates&quot;: [6.2083330154418945, 8.125], &quot;type&quot;: &quot;Point&quot;}, &quot;id&quot;: &quot;79&quot;, &quot;properties&quot;: {}, &quot;type&quot;: &quot;Feature&quot;}, {&quot;bbox&quot;: [6.291666507720947, 8.125, 6.291666507720947, 8.125], &quot;geometry&quot;: {&quot;coordinates&quot;: [6.291666507720947, 8.125], &quot;type&quot;: &quot;Point&quot;}, &quot;id&quot;: &quot;80&quot;, &quot;properties&quot;: {}, &quot;type&quot;: &quot;Feature&quot;}, {&quot;bbox&quot;: [6.375, 8.125, 6.375, 8.125], &quot;geometry&quot;: {&quot;coordinates&quot;: [6.375, 8.125], &quot;type&quot;: &quot;Point&quot;}, &quot;id&quot;: &quot;81&quot;, &quot;properties&quot;: {}, &quot;type&quot;: &quot;Feature&quot;}, {&quot;bbox&quot;: [6.4583330154418945, 8.125, 6.4583330154418945, 8.125], &quot;geometry&quot;: {&quot;coordinates&quot;: [6.4583330154418945, 8.125], &quot;type&quot;: &quot;Point&quot;}, &quot;id&quot;: &quot;82&quot;, &quot;properties&quot;: {}, &quot;type&quot;: &quot;Feature&quot;}, {&quot;bbox&quot;: [6.541666507720947, 8.125, 6.541666507720947, 8.125], &quot;geometry&quot;: {&quot;coordinates&quot;: [6.541666507720947, 8.125], &quot;type&quot;: &quot;Point&quot;}, &quot;id&quot;: &quot;83&quot;, &quot;properties&quot;: {}, &quot;type&quot;: &quot;Feature&quot;}, {&quot;bbox&quot;: [6.625, 8.125, 6.625, 8.125], &quot;geometry&quot;: {&quot;coordinates&quot;: [6.625, 8.125], &quot;type&quot;: &quot;Point&quot;}, &quot;id&quot;: &quot;84&quot;, &quot;properties&quot;: {}, &quot;type&quot;: &quot;Feature&quot;}, {&quot;bbox&quot;: [6.7083330154418945, 8.125, 6.7083330154418945, 8.125], &quot;geometry&quot;: {&quot;coordinates&quot;: [6.7083330154418945, 8.125], &quot;type&quot;: &quot;Point&quot;}, &quot;id&quot;: &quot;85&quot;, &quot;properties&quot;: {}, &quot;type&quot;: &quot;Feature&quot;}, {&quot;bbox&quot;: [6.791666507720947, 8.125, 6.791666507720947, 8.125], &quot;geometry&quot;: {&quot;coordinates&quot;: [6.791666507720947, 8.125], &quot;type&quot;: &quot;Point&quot;}, &quot;id&quot;: &quot;86&quot;, &quot;properties&quot;: {}, &quot;type&quot;: &quot;Feature&quot;}, {&quot;bbox&quot;: [6.875, 8.125, 6.875, 8.125], &quot;geometry&quot;: {&quot;coordinates&quot;: [6.875, 8.125], &quot;type&quot;: &quot;Point&quot;}, &quot;id&quot;: &quot;87&quot;, &quot;properties&quot;: {}, &quot;type&quot;: &quot;Feature&quot;}, {&quot;bbox&quot;: [6.9583330154418945, 8.125, 6.9583330154418945, 8.125], &quot;geometry&quot;: {&quot;coordinates&quot;: [6.9583330154418945, 8.125], &quot;type&quot;: &quot;Point&quot;}, &quot;id&quot;: &quot;88&quot;, &quot;properties&quot;: {}, &quot;type&quot;: &quot;Feature&quot;}, {&quot;bbox&quot;: [7.041666507720947, 8.125, 7.041666507720947, 8.125], &quot;geometry&quot;: {&quot;coordinates&quot;: [7.041666507720947, 8.125], &quot;type&quot;: &quot;Point&quot;}, &quot;id&quot;: &quot;89&quot;, &quot;properties&quot;: {}, &quot;type&quot;: &quot;Feature&quot;}, {&quot;bbox&quot;: [7.125, 8.125, 7.125, 8.125], &quot;geometry&quot;: {&quot;coordinates&quot;: [7.125, 8.125], &quot;type&quot;: &quot;Point&quot;}, &quot;id&quot;: &quot;90&quot;, &quot;properties&quot;: {}, &quot;type&quot;: &quot;Feature&quot;}, {&quot;bbox&quot;: [7.2083330154418945, 8.125, 7.2083330154418945, 8.125], &quot;geometry&quot;: {&quot;coordinates&quot;: [7.2083330154418945, 8.125], &quot;type&quot;: &quot;Point&quot;}, &quot;id&quot;: &quot;91&quot;, &quot;properties&quot;: {}, &quot;type&quot;: &quot;Feature&quot;}, {&quot;bbox&quot;: [7.291666507720947, 8.125, 7.291666507720947, 8.125], &quot;geometry&quot;: {&quot;coordinates&quot;: [7.291666507720947, 8.125], &quot;type&quot;: &quot;Point&quot;}, &quot;id&quot;: &quot;92&quot;, &quot;properties&quot;: {}, &quot;type&quot;: &quot;Feature&quot;}, {&quot;bbox&quot;: [7.375, 8.125, 7.375, 8.125], &quot;geometry&quot;: {&quot;coordinates&quot;: [7.375, 8.125], &quot;type&quot;: &quot;Point&quot;}, &quot;id&quot;: &quot;93&quot;, &quot;properties&quot;: {}, &quot;type&quot;: &quot;Feature&quot;}, {&quot;bbox&quot;: [7.4583330154418945, 8.125, 7.4583330154418945, 8.125], &quot;geometry&quot;: {&quot;coordinates&quot;: [7.4583330154418945, 8.125], &quot;type&quot;: &quot;Point&quot;}, &quot;id&quot;: &quot;94&quot;, &quot;properties&quot;: {}, &quot;type&quot;: &quot;Feature&quot;}, {&quot;bbox&quot;: [7.541666507720947, 8.125, 7.541666507720947, 8.125], &quot;geometry&quot;: {&quot;coordinates&quot;: [7.541666507720947, 8.125], &quot;type&quot;: &quot;Point&quot;}, &quot;id&quot;: &quot;95&quot;, &quot;properties&quot;: {}, &quot;type&quot;: &quot;Feature&quot;}, {&quot;bbox&quot;: [7.625, 8.125, 7.625, 8.125], &quot;geometry&quot;: {&quot;coordinates&quot;: [7.625, 8.125], &quot;type&quot;: &quot;Point&quot;}, &quot;id&quot;: &quot;96&quot;, &quot;properties&quot;: {}, &quot;type&quot;: &quot;Feature&quot;}, {&quot;bbox&quot;: [7.7083330154418945, 8.125, 7.7083330154418945, 8.125], &quot;geometry&quot;: {&quot;coordinates&quot;: [7.7083330154418945, 8.125], &quot;type&quot;: &quot;Point&quot;}, &quot;id&quot;: &quot;97&quot;, &quot;properties&quot;: {}, &quot;type&quot;: &quot;Feature&quot;}, {&quot;bbox&quot;: [7.791666507720947, 8.125, 7.791666507720947, 8.125], &quot;geometry&quot;: {&quot;coordinates&quot;: [7.791666507720947, 8.125], &quot;type&quot;: &quot;Point&quot;}, &quot;id&quot;: &quot;98&quot;, &quot;properties&quot;: {}, &quot;type&quot;: &quot;Feature&quot;}, {&quot;bbox&quot;: [7.875, 8.125, 7.875, 8.125], &quot;geometry&quot;: {&quot;coordinates&quot;: [7.875, 8.125], &quot;type&quot;: &quot;Point&quot;}, &quot;id&quot;: &quot;99&quot;, &quot;properties&quot;: {}, &quot;type&quot;: &quot;Feature&quot;}, {&quot;bbox&quot;: [7.9583330154418945, 8.125, 7.9583330154418945, 8.125], &quot;geometry&quot;: {&quot;coordinates&quot;: [7.9583330154418945, 8.125], &quot;type&quot;: &quot;Point&quot;}, &quot;id&quot;: &quot;100&quot;, &quot;properties&quot;: {}, &quot;type&quot;: &quot;Feature&quot;}, {&quot;bbox&quot;: [8.041666030883789, 8.125, 8.041666030883789, 8.125], &quot;geometry&quot;: {&quot;coordinates&quot;: [8.041666030883789, 8.125], &quot;type&quot;: &quot;Point&quot;}, &quot;id&quot;: &quot;101&quot;, &quot;properties&quot;: {}, &quot;type&quot;: &quot;Feature&quot;}, {&quot;bbox&quot;: [8.125, 8.125, 8.125, 8.125], &quot;geometry&quot;: {&quot;coordinates&quot;: [8.125, 8.125], &quot;type&quot;: &quot;Point&quot;}, &quot;id&quot;: &quot;102&quot;, &quot;properties&quot;: {}, &quot;type&quot;: &quot;Feature&quot;}, {&quot;bbox&quot;: [8.208333015441895, 8.125, 8.208333015441895, 8.125], &quot;geometry&quot;: {&quot;coordinates&quot;: [8.208333015441895, 8.125], &quot;type&quot;: &quot;Point&quot;}, &quot;id&quot;: &quot;103&quot;, &quot;properties&quot;: {}, &quot;type&quot;: &quot;Feature&quot;}, {&quot;bbox&quot;: [8.291666030883789, 8.125, 8.291666030883789, 8.125], &quot;geometry&quot;: {&quot;coordinates&quot;: [8.291666030883789, 8.125], &quot;type&quot;: &quot;Point&quot;}, &quot;id&quot;: &quot;104&quot;, &quot;properties&quot;: {}, &quot;type&quot;: &quot;Feature&quot;}, {&quot;bbox&quot;: [8.375, 8.125, 8.375, 8.125], &quot;geometry&quot;: {&quot;coordinates&quot;: [8.375, 8.125], &quot;type&quot;: &quot;Point&quot;}, &quot;id&quot;: &quot;105&quot;, &quot;properties&quot;: {}, &quot;type&quot;: &quot;Feature&quot;}, {&quot;bbox&quot;: [8.458333015441895, 8.125, 8.458333015441895, 8.125], &quot;geometry&quot;: {&quot;coordinates&quot;: [8.458333015441895, 8.125], &quot;type&quot;: &quot;Point&quot;}, &quot;id&quot;: &quot;106&quot;, &quot;properties&quot;: {}, &quot;type&quot;: &quot;Feature&quot;}, {&quot;bbox&quot;: [8.541666030883789, 8.125, 8.541666030883789, 8.125], &quot;geometry&quot;: {&quot;coordinates&quot;: [8.541666030883789, 8.125], &quot;type&quot;: &quot;Point&quot;}, &quot;id&quot;: &quot;107&quot;, &quot;properties&quot;: {}, &quot;type&quot;: &quot;Feature&quot;}, {&quot;bbox&quot;: [8.625, 8.125, 8.625, 8.125], &quot;geometry&quot;: {&quot;coordinates&quot;: [8.625, 8.125], &quot;type&quot;: &quot;Point&quot;}, &quot;id&quot;: &quot;108&quot;, &quot;properties&quot;: {}, &quot;type&quot;: &quot;Feature&quot;}, {&quot;bbox&quot;: [8.708333015441895, 8.125, 8.708333015441895, 8.125], &quot;geometry&quot;: {&quot;coordinates&quot;: [8.708333015441895, 8.125], &quot;type&quot;: &quot;Point&quot;}, &quot;id&quot;: &quot;109&quot;, &quot;properties&quot;: {}, &quot;type&quot;: &quot;Feature&quot;}, {&quot;bbox&quot;: [8.791666030883789, 8.125, 8.791666030883789, 8.125], &quot;geometry&quot;: {&quot;coordinates&quot;: [8.791666030883789, 8.125], &quot;type&quot;: &quot;Point&quot;}, &quot;id&quot;: &quot;110&quot;, &quot;properties&quot;: {}, &quot;type&quot;: &quot;Feature&quot;}, {&quot;bbox&quot;: [8.875, 8.125, 8.875, 8.125], &quot;geometry&quot;: {&quot;coordinates&quot;: [8.875, 8.125], &quot;type&quot;: &quot;Point&quot;}, &quot;id&quot;: &quot;111&quot;, &quot;properties&quot;: {}, &quot;type&quot;: &quot;Feature&quot;}, {&quot;bbox&quot;: [8.958333015441895, 8.125, 8.958333015441895, 8.125], &quot;geometry&quot;: {&quot;coordinates&quot;: [8.958333015441895, 8.125], &quot;type&quot;: &quot;Point&quot;}, &quot;id&quot;: &quot;112&quot;, &quot;properties&quot;: {}, &quot;type&quot;: &quot;Feature&quot;}, {&quot;bbox&quot;: [9.041666030883789, 8.125, 9.041666030883789, 8.125], &quot;geometry&quot;: {&quot;coordinates&quot;: [9.041666030883789, 8.125], &quot;type&quot;: &quot;Point&quot;}, &quot;id&quot;: &quot;113&quot;, &quot;properties&quot;: {}, &quot;type&quot;: &quot;Feature&quot;}, {&quot;bbox&quot;: [9.125, 8.125, 9.125, 8.125], &quot;geometry&quot;: {&quot;coordinates&quot;: [9.125, 8.125], &quot;type&quot;: &quot;Point&quot;}, &quot;id&quot;: &quot;114&quot;, &quot;properties&quot;: {}, &quot;type&quot;: &quot;Feature&quot;}, {&quot;bbox&quot;: [9.208333015441895, 8.125, 9.208333015441895, 8.125], &quot;geometry&quot;: {&quot;coordinates&quot;: [9.208333015441895, 8.125], &quot;type&quot;: &quot;Point&quot;}, &quot;id&quot;: &quot;115&quot;, &quot;properties&quot;: {}, &quot;type&quot;: &quot;Feature&quot;}, {&quot;bbox&quot;: [9.291666030883789, 8.125, 9.291666030883789, 8.125], &quot;geometry&quot;: {&quot;coordinates&quot;: [9.291666030883789, 8.125], &quot;type&quot;: &quot;Point&quot;}, &quot;id&quot;: &quot;116&quot;, &quot;properties&quot;: {}, &quot;type&quot;: &quot;Feature&quot;}, {&quot;bbox&quot;: [9.375, 8.125, 9.375, 8.125], &quot;geometry&quot;: {&quot;coordinates&quot;: [9.375, 8.125], &quot;type&quot;: &quot;Point&quot;}, &quot;id&quot;: &quot;117&quot;, &quot;properties&quot;: {}, &quot;type&quot;: &quot;Feature&quot;}, {&quot;bbox&quot;: [9.458333015441895, 8.125, 9.458333015441895, 8.125], &quot;geometry&quot;: {&quot;coordinates&quot;: [9.458333015441895, 8.125], &quot;type&quot;: &quot;Point&quot;}, &quot;id&quot;: &quot;118&quot;, &quot;properties&quot;: {}, &quot;type&quot;: &quot;Feature&quot;}, {&quot;bbox&quot;: [9.541666030883789, 8.125, 9.541666030883789, 8.125], &quot;geometry&quot;: {&quot;coordinates&quot;: [9.541666030883789, 8.125], &quot;type&quot;: &quot;Point&quot;}, &quot;id&quot;: &quot;119&quot;, &quot;properties&quot;: {}, &quot;type&quot;: &quot;Feature&quot;}, {&quot;bbox&quot;: [9.625, 8.125, 9.625, 8.125], &quot;geometry&quot;: {&quot;coordinates&quot;: [9.625, 8.125], &quot;type&quot;: &quot;Point&quot;}, &quot;id&quot;: &quot;120&quot;, &quot;properties&quot;: {}, &quot;type&quot;: &quot;Feature&quot;}, {&quot;bbox&quot;: [9.708333015441895, 8.125, 9.708333015441895, 8.125], &quot;geometry&quot;: {&quot;coordinates&quot;: [9.708333015441895, 8.125], &quot;type&quot;: &quot;Point&quot;}, &quot;id&quot;: &quot;121&quot;, &quot;properties&quot;: {}, &quot;type&quot;: &quot;Feature&quot;}], &quot;type&quot;: &quot;FeatureCollection&quot;});\n",
       "\n",
       "        \n",
       "    \n",
       "    geo_json_0cd9fa2c5cf112da5571c0110458078d.bindTooltip(\n",
       "    function(layer){\n",
       "    let div = L.DomUtil.create(&#x27;div&#x27;);\n",
       "    \n",
       "    return div\n",
       "    }\n",
       "    ,{&quot;className&quot;: &quot;foliumtooltip&quot;, &quot;sticky&quot;: true});\n",
       "                     \n",
       "    \n",
       "            geo_json_0cd9fa2c5cf112da5571c0110458078d.addTo(map_63c7a149a5731a2bb8a349ff2996f5c0);\n",
       "        \n",
       "&lt;/script&gt;\n",
       "&lt;/html&gt;\" style=\"position:absolute;width:100%;height:100%;left:0;top:0;border:none !important;\" allowfullscreen webkitallowfullscreen mozallowfullscreen></iframe></div></div>"
      ],
      "text/plain": [
       "<folium.folium.Map at 0x3301c97c0>"
      ]
     },
     "execution_count": 57,
     "metadata": {},
     "output_type": "execute_result"
    }
   ],
   "source": [
    "gpd.GeoSeries.from_xy(rast_convert[\"lon\"],rast_convert[\"lat\"],crs=\"epsg:4326\").explore()"
   ]
  },
  {
   "cell_type": "code",
   "execution_count": null,
   "metadata": {},
   "outputs": [],
   "source": []
  }
 ],
 "metadata": {
  "kernelspec": {
   "display_name": "Python 3",
   "language": "python",
   "name": "python3"
  },
  "language_info": {
   "codemirror_mode": {
    "name": "ipython",
    "version": 3
   },
   "file_extension": ".py",
   "mimetype": "text/x-python",
   "name": "python",
   "nbconvert_exporter": "python",
   "pygments_lexer": "ipython3",
   "version": "3.12.6"
  }
 },
 "nbformat": 4,
 "nbformat_minor": 2
}
