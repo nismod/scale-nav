{
 "cells": [
  {
   "cell_type": "markdown",
   "metadata": {
    "vscode": {
     "languageId": "plaintext"
    }
   },
   "source": [
    "# Raster ingestion CL tool"
   ]
  },
  {
   "cell_type": "markdown",
   "metadata": {
    "vscode": {
     "languageId": "plaintext"
    }
   },
   "source": [
    "## RASTAPAR"
   ]
  },
  {
   "cell_type": "code",
   "execution_count": null,
   "metadata": {
    "vscode": {
     "languageId": "plaintext"
    }
   },
   "outputs": [],
   "source": [
    "rastapar -h"
   ]
  },
  {
   "cell_type": "markdown",
   "metadata": {},
   "source": [
    "usage: Rast Converter [-h] [--out_path [OUT_PATH]] [--out_crs [OUT_CRS]] [--include_negative [INCLUDE_NEGATIVE]] [--workers [WORKERS]] [in_path]\n",
    "\n",
    "Convert rasters to parquet files efficiently\n",
    "\n",
    "positional arguments:\n",
    "- in_path; A path to a raster for processing.\n",
    "\n",
    "options:\n",
    "  - -h, --help; show this help message and exit\n",
    "  - --out_path [OUT_PATH], -o_p [OUT_PATH]; A folder to save into. Will be created or overwriten on execution. Default: rast_convert_result\n",
    "  - --out_crs [OUT_CRS], -o_c [OUT_CRS]; A folder to save into. Will be created or overwriten on execution. Default: epsg:4326\n",
    "  - --include_negative [INCLUDE_NEGATIVE], -i_n [INCLUDE_NEGATIVE]; Whether the data to process includes relevant negative or 0 values. Can have a significant impact on running time and output size.\n",
    "  - --workers [WORKERS], -w [WORKERS]; The number of workers to run in parallel."
   ]
  }
 ],
 "metadata": {
  "language_info": {
   "name": "python"
  }
 },
 "nbformat": 4,
 "nbformat_minor": 2
}
