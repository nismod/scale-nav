{
 "cells": [
  {
   "cell_type": "markdown",
   "metadata": {
    "vscode": {
     "languageId": "plaintext"
    }
   },
   "source": [
    "# A OOP approach to hierarchically indexed data tables \n",
    "This notebook defines the schema and relations that will be implemented to facilitate the workflows projecting global data sets on a hierarchical index and manipulating different layers together. \n",
    "Mainly, this approach aims to solve the following challenges:\n",
    "- User friendly : ideally have a familiar sytax to pandas users\n",
    "- Scalable : be able to work with national, continetal and even global data sets of fine spatial resolution (ex: 100m,1000m grids)\n",
    "- Flexible : it should provide a easily exportable type of data to use across different types of processes and analyses.\n",
    "\n",
    "The main tools chosen to do this are : \n",
    "\n",
    "* Using H3 : https://uber.github.io/h3-py/\n",
    "* Using DuckDB : https://duckdb.org/docs/guides/python/execute_sql \n",
    "* Using ibis : https://ibis-project.org \n",
    "\n"
   ]
  },
  {
   "cell_type": "markdown",
   "metadata": {},
   "source": [
    "## Base workflow\n"
   ]
  },
  {
   "cell_type": "markdown",
   "metadata": {},
   "source": [
    "One of the main contributions of this workflow is a method to efficiently project raster grids of any size into a format that is more efficient to work with and perform geometric operations with other types. "
   ]
  },
  {
   "cell_type": "markdown",
   "metadata": {},
   "source": [
    "## Minimal input\n",
    "\n",
    "[polars.DataFrame, pyarrow.Table, pandas.DataFrame, geopandas.GeoDataFrame(not recommended), ibis.table (recommended)]\n",
    "\n",
    "WIth non ambiguous columns for the coordinates, ex ('x','y'), ('lon','lat') etc .... and variables containing numeric values with a suffix *var* or containing categorical values with suffix *cat* preceding the actual column name *{band}*."
   ]
  },
  {
   "cell_type": "markdown",
   "metadata": {},
   "source": [
    "\n",
    "| lon   | lat   | {band}_var  |    ...        |\n",
    "|-------|-------|-------------|---------------|\n",
    "| float | float | [float,int] | ...   |\n"
   ]
  },
  {
   "cell_type": "markdown",
   "metadata": {},
   "source": [
    "\n",
    "| lon   | lat   | {band}_cat | ... |\n",
    "|-------|-------|----------|-----|\n",
    "| float | float | str      | ... |"
   ]
  },
  {
   "cell_type": "markdown",
   "metadata": {},
   "source": [
    "## Minimal output\n",
    "\n",
    "The data is projected to the h3 grid for a resolution which is refered to later on as the native resolution. It should be the highest possible resolution that makes sense for a given data layer. For example for points data, any resolution is possible, and the choise will most likely depend on the type of processing that is done with it. \n",
    "In the case of polygons, a resolution high enough to give a good description of the original shape, but coarse enough to be efficient to work with. Once again, this is context specific and will most likely depend on the type of analysis.\n"
   ]
  },
  {
   "cell_type": "markdown",
   "metadata": {},
   "source": [
    "| lon   | lat   | {band}_cat | ... | h3_id     |\n",
    "|-------|-------|----------|-----|-----------|\n",
    "| float | float | str      | ... | [str,int] |"
   ]
  },
  {
   "cell_type": "markdown",
   "metadata": {},
   "source": [
    "| lon   | lat   | {band}_var  |    ... |   h3_id   |\n",
    "|-------|-------|-------------|--------|-----------|\n",
    "| float | float | [float,int] | ...    | [str,int] |\n"
   ]
  },
  {
   "cell_type": "markdown",
   "metadata": {},
   "source": [
    "A mix of the two previous tyopes of numeric or categorical variables can be present as long as the *coordinates* and *h3_id* columns are unambiguiously identified. "
   ]
  },
  {
   "cell_type": "markdown",
   "metadata": {},
   "source": [
    "The object to which the data is associated contains additional attributes and methods descrbed next:"
   ]
  },
  {
   "cell_type": "markdown",
   "metadata": {},
   "source": [
    "## Class"
   ]
  },
  {
   "cell_type": "markdown",
   "metadata": {},
   "source": [
    "### Attributes\n",
    "- base_res : base resolution, the original resolution into which the data was projected on the h3 grid\n",
    "- current_res : current resolution, the resolution in which the data currently is after potential processing. \n",
    "### Methods\n",
    "- set_res(res) : int(4,18), set the resolution of the data to a specifed one.\n",
    "- change_res(level) : int, change the resolution of the data by a value provided. the reuslting resolution will be equal to *current_res*+*level*\n",
    "- add_layer()"
   ]
  },
  {
   "cell_type": "markdown",
   "metadata": {
    "vscode": {
     "languageId": "plaintext"
    }
   },
   "source": [
    "## In practice"
   ]
  },
  {
   "cell_type": "code",
   "execution_count": 14,
   "metadata": {},
   "outputs": [],
   "source": [
    "import scalenav.oop as snoo\n",
    "import pandas as pd\n",
    "import numpy.random as rd\n",
    "import ibis as ib\n",
    "import ibis.selectors as s\n",
    "from ibis import _\n",
    "\n",
    "ib.options.interactive = True"
   ]
  },
  {
   "cell_type": "code",
   "execution_count": 2,
   "metadata": {},
   "outputs": [
    {
     "name": "stdout",
     "output_type": "stream",
     "text": [
      "Connecting to a temporary in-memory DB instance.\n",
      "Connecting to a temporary in-memory DB instance.\n"
     ]
    }
   ],
   "source": [
    "conn = snoo.ScalenavProcess()"
   ]
  },
  {
   "cell_type": "code",
   "execution_count": 3,
   "metadata": {},
   "outputs": [],
   "source": [
    "size = 10\n",
    "tab1 = pd.DataFrame({\"a_var\" : rd.uniform(0,10,size),\n",
    "\"lon\" : rd.uniform(0,180,size),\n",
    "\"lat\" : rd.uniform(-90,90,size),\n",
    "})\n",
    "\n",
    "# return an ibis table\n",
    "tab1 = conn.create_table(obj=tab1,name=\"tab1\",overwrite = True)"
   ]
  },
  {
   "cell_type": "code",
   "execution_count": 4,
   "metadata": {},
   "outputs": [
    {
     "data": {
      "text/html": [
       "<pre style=\"white-space:pre;overflow-x:auto;line-height:normal;font-family:Menlo,'DejaVu Sans Mono',consolas,'Courier New',monospace\">┏━━━━━━━━━━┳━━━━━━━━━━━━┳━━━━━━━━━━━━┓\n",
       "┃<span style=\"font-weight: bold\"> a_var    </span>┃<span style=\"font-weight: bold\"> lon        </span>┃<span style=\"font-weight: bold\"> lat        </span>┃\n",
       "┡━━━━━━━━━━╇━━━━━━━━━━━━╇━━━━━━━━━━━━┩\n",
       "│ <span style=\"color: #7f7f7f; text-decoration-color: #7f7f7f\">float64</span>  │ <span style=\"color: #7f7f7f; text-decoration-color: #7f7f7f\">float64</span>    │ <span style=\"color: #7f7f7f; text-decoration-color: #7f7f7f\">float64</span>    │\n",
       "├──────────┼────────────┼────────────┤\n",
       "│ <span style=\"color: #008080; text-decoration-color: #008080; font-weight: bold\">8.049506</span> │  <span style=\"color: #008080; text-decoration-color: #008080; font-weight: bold\">17.125325</span> │ <span style=\"color: #008080; text-decoration-color: #008080; font-weight: bold\">-56.296328</span> │\n",
       "│ <span style=\"color: #008080; text-decoration-color: #008080; font-weight: bold\">0.334255</span> │  <span style=\"color: #008080; text-decoration-color: #008080; font-weight: bold\">57.349014</span> │  <span style=\"color: #008080; text-decoration-color: #008080; font-weight: bold\">80.817268</span> │\n",
       "│ <span style=\"color: #008080; text-decoration-color: #008080; font-weight: bold\">6.471203</span> │  <span style=\"color: #008080; text-decoration-color: #008080; font-weight: bold\">86.807205</span> │ <span style=\"color: #008080; text-decoration-color: #008080; font-weight: bold\">-57.225707</span> │\n",
       "│ <span style=\"color: #008080; text-decoration-color: #008080; font-weight: bold\">7.528599</span> │  <span style=\"color: #008080; text-decoration-color: #008080; font-weight: bold\">58.095845</span> │  <span style=\"color: #008080; text-decoration-color: #008080; font-weight: bold\">82.683652</span> │\n",
       "│ <span style=\"color: #008080; text-decoration-color: #008080; font-weight: bold\">5.197592</span> │  <span style=\"color: #008080; text-decoration-color: #008080; font-weight: bold\">89.105492</span> │  <span style=\"color: #008080; text-decoration-color: #008080; font-weight: bold\">33.476202</span> │\n",
       "│ <span style=\"color: #008080; text-decoration-color: #008080; font-weight: bold\">9.912825</span> │ <span style=\"color: #008080; text-decoration-color: #008080; font-weight: bold\">156.084059</span> │ <span style=\"color: #008080; text-decoration-color: #008080; font-weight: bold\">-85.837527</span> │\n",
       "│ <span style=\"color: #008080; text-decoration-color: #008080; font-weight: bold\">6.605455</span> │ <span style=\"color: #008080; text-decoration-color: #008080; font-weight: bold\">147.971272</span> │  <span style=\"color: #008080; text-decoration-color: #008080; font-weight: bold\">69.892358</span> │\n",
       "│ <span style=\"color: #008080; text-decoration-color: #008080; font-weight: bold\">4.518133</span> │ <span style=\"color: #008080; text-decoration-color: #008080; font-weight: bold\">174.344491</span> │  <span style=\"color: #008080; text-decoration-color: #008080; font-weight: bold\">60.127325</span> │\n",
       "│ <span style=\"color: #008080; text-decoration-color: #008080; font-weight: bold\">3.248270</span> │  <span style=\"color: #008080; text-decoration-color: #008080; font-weight: bold\">77.541509</span> │  <span style=\"color: #008080; text-decoration-color: #008080; font-weight: bold\">65.233396</span> │\n",
       "│ <span style=\"color: #008080; text-decoration-color: #008080; font-weight: bold\">7.714036</span> │  <span style=\"color: #008080; text-decoration-color: #008080; font-weight: bold\">54.660095</span> │ <span style=\"color: #008080; text-decoration-color: #008080; font-weight: bold\">-35.042960</span> │\n",
       "└──────────┴────────────┴────────────┘\n",
       "</pre>\n"
      ],
      "text/plain": [
       "┏━━━━━━━━━━┳━━━━━━━━━━━━┳━━━━━━━━━━━━┓\n",
       "┃\u001b[1m \u001b[0m\u001b[1ma_var\u001b[0m\u001b[1m   \u001b[0m\u001b[1m \u001b[0m┃\u001b[1m \u001b[0m\u001b[1mlon\u001b[0m\u001b[1m       \u001b[0m\u001b[1m \u001b[0m┃\u001b[1m \u001b[0m\u001b[1mlat\u001b[0m\u001b[1m       \u001b[0m\u001b[1m \u001b[0m┃\n",
       "┡━━━━━━━━━━╇━━━━━━━━━━━━╇━━━━━━━━━━━━┩\n",
       "│ \u001b[2mfloat64\u001b[0m  │ \u001b[2mfloat64\u001b[0m    │ \u001b[2mfloat64\u001b[0m    │\n",
       "├──────────┼────────────┼────────────┤\n",
       "│ \u001b[1;36m8.049506\u001b[0m │  \u001b[1;36m17.125325\u001b[0m │ \u001b[1;36m-56.296328\u001b[0m │\n",
       "│ \u001b[1;36m0.334255\u001b[0m │  \u001b[1;36m57.349014\u001b[0m │  \u001b[1;36m80.817268\u001b[0m │\n",
       "│ \u001b[1;36m6.471203\u001b[0m │  \u001b[1;36m86.807205\u001b[0m │ \u001b[1;36m-57.225707\u001b[0m │\n",
       "│ \u001b[1;36m7.528599\u001b[0m │  \u001b[1;36m58.095845\u001b[0m │  \u001b[1;36m82.683652\u001b[0m │\n",
       "│ \u001b[1;36m5.197592\u001b[0m │  \u001b[1;36m89.105492\u001b[0m │  \u001b[1;36m33.476202\u001b[0m │\n",
       "│ \u001b[1;36m9.912825\u001b[0m │ \u001b[1;36m156.084059\u001b[0m │ \u001b[1;36m-85.837527\u001b[0m │\n",
       "│ \u001b[1;36m6.605455\u001b[0m │ \u001b[1;36m147.971272\u001b[0m │  \u001b[1;36m69.892358\u001b[0m │\n",
       "│ \u001b[1;36m4.518133\u001b[0m │ \u001b[1;36m174.344491\u001b[0m │  \u001b[1;36m60.127325\u001b[0m │\n",
       "│ \u001b[1;36m3.248270\u001b[0m │  \u001b[1;36m77.541509\u001b[0m │  \u001b[1;36m65.233396\u001b[0m │\n",
       "│ \u001b[1;36m7.714036\u001b[0m │  \u001b[1;36m54.660095\u001b[0m │ \u001b[1;36m-35.042960\u001b[0m │\n",
       "└──────────┴────────────┴────────────┘"
      ]
     },
     "execution_count": null,
     "metadata": {},
     "output_type": "execute_result"
    }
   ],
   "source": [
    "tab1"
   ]
  },
  {
   "cell_type": "code",
   "execution_count": 15,
   "metadata": {},
   "outputs": [
    {
     "name": "stdout",
     "output_type": "stream",
     "text": [
      "Assuming coordinates columns ('lon','lat')\n",
      "Assuming coordinates columns ('lon','lat')\n"
     ]
    },
    {
     "name": "stdout",
     "output_type": "stream",
     "text": [
      "┌────┐\n",
      "│ 10 │\n",
      "└────┘\n",
      "┌────┐\n",
      "│ 10 │\n",
      "└────┘\n"
     ]
    },
    {
     "name": "stdout",
     "output_type": "stream",
     "text": [
      "┏━━━━━━━━━━━━━━━━━┳━━━━━━━━━━┓\n",
      "┃ h3_id           ┃ a_var    ┃\n",
      "┡━━━━━━━━━━━━━━━━━╇━━━━━━━━━━┩\n",
      "│ string          │ float64  │\n",
      "├─────────────────┼──────────┤\n",
      "│ 88e6d64137fffff │ 8.049506 │\n",
      "│ 88001a003bfffff │ 0.334255 │\n",
      "│ 88e4ea6115fffff │ 6.471203 │\n",
      "│ 8800f5bb41fffff │ 7.528599 │\n",
      "│ 883d58d065fffff │ 5.197592 │\n",
      "└─────────────────┴──────────┘\n",
      "┏━━━━━━━━━━━━━━━━━┳━━━━━━━━━━┓\n",
      "┃ h3_id           ┃ a_var    ┃\n",
      "┡━━━━━━━━━━━━━━━━━╇━━━━━━━━━━┩\n",
      "│ string          │ float64  │\n",
      "├─────────────────┼──────────┤\n",
      "│ 88e6d64137fffff │ 8.049506 │\n",
      "│ 88001a003bfffff │ 0.334255 │\n",
      "│ 88e4ea6115fffff │ 6.471203 │\n",
      "│ 8800f5bb41fffff │ 7.528599 │\n",
      "│ 883d58d065fffff │ 5.197592 │\n",
      "└─────────────────┴──────────┘\n"
     ]
    }
   ],
   "source": [
    "tab1_h3 = snoo.sn_project(tab1).select(\"h3_id\",s.matches(\"_var\"),)\n",
    "snoo.sn_head(tab1_h3)"
   ]
  },
  {
   "cell_type": "code",
   "execution_count": 16,
   "metadata": {},
   "outputs": [
    {
     "name": "stdout",
     "output_type": "stream",
     "text": [
      "┌─────┐\n",
      "│ 490 │\n",
      "└─────┘\n",
      "┌─────┐\n",
      "│ 490 │\n",
      "└─────┘\n"
     ]
    },
    {
     "name": "stdout",
     "output_type": "stream",
     "text": [
      "┏━━━━━━━━━━┳━━━━━━━━━━━━━━━━━┓\n",
      "┃ a_var    ┃ h3_id           ┃\n",
      "┡━━━━━━━━━━╇━━━━━━━━━━━━━━━━━┩\n",
      "│ float64  │ string          │\n",
      "├──────────┼─────────────────┤\n",
      "│ 0.006822 │ 8a001a003a07fff │\n",
      "│ 0.006822 │ 8a001a003a0ffff │\n",
      "│ 0.006822 │ 8a001a003a17fff │\n",
      "│ 0.006822 │ 8a001a003a1ffff │\n",
      "│ 0.006822 │ 8a001a003a27fff │\n",
      "└──────────┴─────────────────┘\n",
      "┏━━━━━━━━━━┳━━━━━━━━━━━━━━━━━┓\n",
      "┃ a_var    ┃ h3_id           ┃\n",
      "┡━━━━━━━━━━╇━━━━━━━━━━━━━━━━━┩\n",
      "│ float64  │ string          │\n",
      "├──────────┼─────────────────┤\n",
      "│ 0.006822 │ 8a001a003a07fff │\n",
      "│ 0.006822 │ 8a001a003a0ffff │\n",
      "│ 0.006822 │ 8a001a003a17fff │\n",
      "│ 0.006822 │ 8a001a003a1ffff │\n",
      "│ 0.006822 │ 8a001a003a27fff │\n",
      "└──────────┴─────────────────┘\n"
     ]
    }
   ],
   "source": [
    "tab1_ds = snoo.sn_change_res(tab1_h3,levels=2)\n",
    "snoo.sn_head(tab1_ds)"
   ]
  },
  {
   "cell_type": "code",
   "execution_count": 19,
   "metadata": {},
   "outputs": [
    {
     "name": "stdout",
     "output_type": "stream",
     "text": [
      "┌────┐\n",
      "│ 10 │\n",
      "└────┘\n",
      "┌────┐\n",
      "│ 10 │\n",
      "└────┘\n"
     ]
    },
    {
     "name": "stdout",
     "output_type": "stream",
     "text": [
      "┏━━━━━━━━━━━━━━━━━┳━━━━━━━━━━┓\n",
      "┃ h3_id           ┃ a_var    ┃\n",
      "┡━━━━━━━━━━━━━━━━━╇━━━━━━━━━━┩\n",
      "│ string          │ float64  │\n",
      "├─────────────────┼──────────┤\n",
      "│ 8800f5bb41fffff │ 7.528599 │\n",
      "│ 88cb09696dfffff │ 7.714036 │\n",
      "│ 8804a91a6bfffff │ 6.605455 │\n",
      "│ 880b0b85ddfffff │ 3.248270 │\n",
      "│ 88f2b68dc3fffff │ 9.912825 │\n",
      "└─────────────────┴──────────┘\n",
      "┏━━━━━━━━━━━━━━━━━┳━━━━━━━━━━┓\n",
      "┃ h3_id           ┃ a_var    ┃\n",
      "┡━━━━━━━━━━━━━━━━━╇━━━━━━━━━━┩\n",
      "│ string          │ float64  │\n",
      "├─────────────────┼──────────┤\n",
      "│ 8800f5bb41fffff │ 7.528599 │\n",
      "│ 88cb09696dfffff │ 7.714036 │\n",
      "│ 8804a91a6bfffff │ 6.605455 │\n",
      "│ 880b0b85ddfffff │ 3.248270 │\n",
      "│ 88f2b68dc3fffff │ 9.912825 │\n",
      "└─────────────────┴──────────┘\n"
     ]
    }
   ],
   "source": [
    "tab1_ = snoo.sn_change_res(tab1_ds,levels=-2)\n",
    "snoo.sn_head(tab1_)"
   ]
  },
  {
   "cell_type": "code",
   "execution_count": 23,
   "metadata": {},
   "outputs": [
    {
     "data": {
      "text/html": [
       "<pre style=\"white-space:pre;overflow-x:auto;line-height:normal;font-family:Menlo,'DejaVu Sans Mono',consolas,'Courier New',monospace\">┏━━━━━━━━━━┓\n",
       "┃<span style=\"font-weight: bold\"> a_var    </span>┃\n",
       "┡━━━━━━━━━━┩\n",
       "│ <span style=\"color: #7f7f7f; text-decoration-color: #7f7f7f\">float64</span>  │\n",
       "├──────────┤\n",
       "│ <span style=\"color: #008080; text-decoration-color: #008080; font-weight: bold\">7.714036</span> │\n",
       "│ <span style=\"color: #008080; text-decoration-color: #008080; font-weight: bold\">0.334255</span> │\n",
       "│ <span style=\"color: #008080; text-decoration-color: #008080; font-weight: bold\">3.248270</span> │\n",
       "│ <span style=\"color: #008080; text-decoration-color: #008080; font-weight: bold\">5.197592</span> │\n",
       "│ <span style=\"color: #008080; text-decoration-color: #008080; font-weight: bold\">8.049506</span> │\n",
       "│ <span style=\"color: #008080; text-decoration-color: #008080; font-weight: bold\">4.518133</span> │\n",
       "│ <span style=\"color: #008080; text-decoration-color: #008080; font-weight: bold\">7.528599</span> │\n",
       "│ <span style=\"color: #008080; text-decoration-color: #008080; font-weight: bold\">9.912825</span> │\n",
       "│ <span style=\"color: #008080; text-decoration-color: #008080; font-weight: bold\">6.471203</span> │\n",
       "└──────────┘\n",
       "</pre>\n"
      ],
      "text/plain": [
       "┏━━━━━━━━━━┓\n",
       "┃\u001b[1m \u001b[0m\u001b[1ma_var\u001b[0m\u001b[1m   \u001b[0m\u001b[1m \u001b[0m┃\n",
       "┡━━━━━━━━━━┩\n",
       "│ \u001b[2mfloat64\u001b[0m  │\n",
       "├──────────┤\n",
       "│ \u001b[1;36m7.714036\u001b[0m │\n",
       "│ \u001b[1;36m0.334255\u001b[0m │\n",
       "│ \u001b[1;36m3.248270\u001b[0m │\n",
       "│ \u001b[1;36m5.197592\u001b[0m │\n",
       "│ \u001b[1;36m8.049506\u001b[0m │\n",
       "│ \u001b[1;36m4.518133\u001b[0m │\n",
       "│ \u001b[1;36m7.528599\u001b[0m │\n",
       "│ \u001b[1;36m9.912825\u001b[0m │\n",
       "│ \u001b[1;36m6.471203\u001b[0m │\n",
       "└──────────┘"
      ]
     },
     "execution_count": null,
     "metadata": {},
     "output_type": "execute_result"
    }
   ],
   "source": [
    "ib.difference(tab1_.select(\"a_var\"), tab1_h3.select(\"a_var\"))"
   ]
  },
  {
   "cell_type": "code",
   "execution_count": 24,
   "metadata": {},
   "outputs": [
    {
     "data": {
      "text/plain": [
       "0.02040816326530612"
      ]
     },
     "execution_count": null,
     "metadata": {},
     "output_type": "execute_result"
    }
   ],
   "source": [
    "7**(-2)"
   ]
  }
 ],
 "metadata": {
  "kernelspec": {
   "display_name": "Python 3",
   "language": "python",
   "name": "python3"
  },
  "language_info": {
   "codemirror_mode": {
    "name": "ipython",
    "version": 3
   },
   "file_extension": ".py",
   "mimetype": "text/x-python",
   "name": "python",
   "nbconvert_exporter": "python",
   "pygments_lexer": "ipython3",
   "version": "3.12.6"
  }
 },
 "nbformat": 4,
 "nbformat_minor": 2
}
