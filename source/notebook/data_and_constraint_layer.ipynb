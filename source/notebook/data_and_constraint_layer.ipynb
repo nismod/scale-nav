{
 "cells": [
  {
   "cell_type": "markdown",
   "metadata": {},
   "source": [
    "# Constraining layers"
   ]
  },
  {
   "cell_type": "markdown",
   "metadata": {},
   "source": [
    "Among the layers of data available, some have high granularity and will be used as a rescaling variables to distribute values that would otherwise be uniform in space at a coarser resolution.\n",
    "We to link certain economic activity related variables to some infrastructural and geographic layers, and assuming some form of homogeneity, distribute the coarse resolutions layers \n",
    "proportionally to the the distribution, say, of infrastrucutre in a location. This notebook will lay some basis for this and show the scalenav functionalities developped for that purpose."
   ]
  },
  {
   "cell_type": "code",
   "execution_count": 197,
   "metadata": {},
   "outputs": [],
   "source": [
    "import numpy as np\n",
    "\n",
    "# scalenav modules\n",
    "import scalenav.scale_nav as sd\n",
    "import scalenav.data as dt\n",
    "from scalenav.plotting import cmap\n",
    "import scalenav.oop as snoo\n",
    "\n",
    "# data engineering\n",
    "import pandas as pd\n",
    "import h3\n",
    "import ibis as ib\n",
    "from ibis import _\n",
    "ib.options.interactive = True\n",
    "\n",
    "### Visualisation\n",
    "import pydeck as pdk\n",
    "import pypalettes as pypal"
   ]
  },
  {
   "cell_type": "markdown",
   "metadata": {},
   "source": [
    "## H3 + DuckDB scale up\n",
    "\n",
    "Connect to a temporary duckdb database in which we will be running most of the computations. The output of the `sn_connect` function is a connection object to the duckdb instance with the necessary dependencies installed and ready to use. "
   ]
  },
  {
   "cell_type": "code",
   "execution_count": 7,
   "metadata": {},
   "outputs": [
    {
     "name": "stdout",
     "output_type": "stream",
     "text": [
      "Connecting to a temporary in-memory DB instance.\n"
     ]
    }
   ],
   "source": [
    "# For a detailed explanation of what goes on here, refer to the oop guide. \n",
    "conn = snoo.sn_connect()"
   ]
  },
  {
   "cell_type": "markdown",
   "metadata": {},
   "source": [
    "### H3 and grid parameters"
   ]
  },
  {
   "cell_type": "markdown",
   "metadata": {},
   "source": [
    "## Reading data layers\n",
    "To read layers into our newly created database, we call the `sn_table` function, which will receive as parameter the connection object representing the database into which the table should be loaded, the name that we want to assign to the table in the backend and the path ro find the data. It will return an `ibis.Table` object. "
   ]
  },
  {
   "cell_type": "code",
   "execution_count": 8,
   "metadata": {},
   "outputs": [],
   "source": [
    "dose_wdi_geo_file = \"/Users/cenv1069/Documents/data/datasets/local_data/dose-wdi/0_3/dose_wdi_geo.parquet\"\n",
    "mapspam_file = \"/Users/cenv1069/Documents/data/datasets/mapspam/processed/spam_2020_yield_v2.parquet\""
   ]
  },
  {
   "cell_type": "code",
   "execution_count": 9,
   "metadata": {},
   "outputs": [],
   "source": [
    "dwg = snoo.sn_table(conn=conn,name=\"dwg\",path=dose_wdi_geo_file)\n",
    "spam = snoo.sn_table(conn,name=\"spam\",path=mapspam_file)"
   ]
  },
  {
   "cell_type": "code",
   "execution_count": 10,
   "metadata": {},
   "outputs": [
    {
     "data": {
      "text/html": [
       "<pre style=\"white-space:pre;overflow-x:auto;line-height:normal;font-family:Menlo,'DejaVu Sans Mono',consolas,'Courier New',monospace\">┏━━━━━━━━┳━━━━━━━━━┳━━━━━━━━━┳━━━━━━━━━━━━━━┳━━━━━━━━━━━━━━━━━━━┳━━━━━━━━━━━━━━━━━━━━━━━━┳━━━━━━━━━━━━━━━━━━━━━━┳━━━━━━━━━━━━━━━━━━━━━━━━━━━━━━━━━━━━━━━━━━━━━━━━━━━━━━━━━━━━━━━━━┳━━━━━━━━━━━━━━━━━━━━━━━━━━━━━━━━━━━━━━━━━━━━━━━━━━━━━━━━━━━━━━━━━━━━━━━━━━━━━━━━━━━━━━━━━━━━━━━━━━━━━━━━━━━━━━━━━━━━━━━━━━━━━━━━━━━━━━━━━━━━━━━━━━━━━━━━━━━━━━━━━━━━━━━━━━━━━━━━━━━━━━━━━━━━━━━━━━━━━━━━━━━━━━━━━━━━━━━━━━━━━━━━━━━━━━━━━━━━━┳━━━━━━━━━━━━━━━━━━━┳━━━━━━━━━━━┳━━━━━━━━━━━┳━━━━━━━━━━━┓\n",
       "┃<span style=\"font-weight: bold\"> gid_0  </span>┃<span style=\"font-weight: bold\"> country </span>┃<span style=\"font-weight: bold\"> gid_1   </span>┃<span style=\"font-weight: bold\"> grp_usd_2015 </span>┃<span style=\"font-weight: bold\"> services_usd_2015 </span>┃<span style=\"font-weight: bold\"> manufacturing_usd_2015 </span>┃<span style=\"font-weight: bold\"> agriculture_usd_2015 </span>┃<span style=\"font-weight: bold\"> centr                                                           </span>┃<span style=\"font-weight: bold\"> geometry                                                                                                                                                                                                                                    </span>┃<span style=\"font-weight: bold\"> color             </span>┃<span style=\"font-weight: bold\"> radius    </span>┃<span style=\"font-weight: bold\"> x         </span>┃<span style=\"font-weight: bold\"> y         </span>┃\n",
       "┡━━━━━━━━╇━━━━━━━━━╇━━━━━━━━━╇━━━━━━━━━━━━━━╇━━━━━━━━━━━━━━━━━━━╇━━━━━━━━━━━━━━━━━━━━━━━━╇━━━━━━━━━━━━━━━━━━━━━━╇━━━━━━━━━━━━━━━━━━━━━━━━━━━━━━━━━━━━━━━━━━━━━━━━━━━━━━━━━━━━━━━━━╇━━━━━━━━━━━━━━━━━━━━━━━━━━━━━━━━━━━━━━━━━━━━━━━━━━━━━━━━━━━━━━━━━━━━━━━━━━━━━━━━━━━━━━━━━━━━━━━━━━━━━━━━━━━━━━━━━━━━━━━━━━━━━━━━━━━━━━━━━━━━━━━━━━━━━━━━━━━━━━━━━━━━━━━━━━━━━━━━━━━━━━━━━━━━━━━━━━━━━━━━━━━━━━━━━━━━━━━━━━━━━━━━━━━━━━━━━━━━━╇━━━━━━━━━━━━━━━━━━━╇━━━━━━━━━━━╇━━━━━━━━━━━╇━━━━━━━━━━━┩\n",
       "│ <span style=\"color: #7f7f7f; text-decoration-color: #7f7f7f\">string</span> │ <span style=\"color: #7f7f7f; text-decoration-color: #7f7f7f\">string</span>  │ <span style=\"color: #7f7f7f; text-decoration-color: #7f7f7f\">string</span>  │ <span style=\"color: #7f7f7f; text-decoration-color: #7f7f7f\">float64</span>      │ <span style=\"color: #7f7f7f; text-decoration-color: #7f7f7f\">float64</span>           │ <span style=\"color: #7f7f7f; text-decoration-color: #7f7f7f\">float64</span>                │ <span style=\"color: #7f7f7f; text-decoration-color: #7f7f7f\">float64</span>              │ <span style=\"color: #7f7f7f; text-decoration-color: #7f7f7f\">binary</span>                                                          │ <span style=\"color: #7f7f7f; text-decoration-color: #7f7f7f\">binary</span>                                                                                                                                                                                                                                      │ <span style=\"color: #7f7f7f; text-decoration-color: #7f7f7f\">array&lt;int64&gt;</span>      │ <span style=\"color: #7f7f7f; text-decoration-color: #7f7f7f\">float64</span>   │ <span style=\"color: #7f7f7f; text-decoration-color: #7f7f7f\">float64</span>   │ <span style=\"color: #7f7f7f; text-decoration-color: #7f7f7f\">float64</span>   │\n",
       "├────────┼─────────┼─────────┼──────────────┼───────────────────┼────────────────────────┼──────────────────────┼─────────────────────────────────────────────────────────────────┼─────────────────────────────────────────────────────────────────────────────────────────────────────────────────────────────────────────────────────────────────────────────────────────────────────────────────────────────────────────────┼───────────────────┼───────────┼───────────┼───────────┤\n",
       "│ <span style=\"color: #008000; text-decoration-color: #008000\">ALB   </span> │ <span style=\"color: #008000; text-decoration-color: #008000\">Albania</span> │ <span style=\"color: #008000; text-decoration-color: #008000\">ALB.1_1</span> │ <span style=\"color: #008080; text-decoration-color: #008080; font-weight: bold\">4.341915e+08</span> │      <span style=\"color: #008080; text-decoration-color: #008080; font-weight: bold\">2.009631e+08</span> │           <span style=\"color: #008080; text-decoration-color: #008080; font-weight: bold\">9.449606e+07</span> │         <span style=\"color: #008080; text-decoration-color: #008080; font-weight: bold\">8.588401e+07</span> │ <span style=\"color: #008000; text-decoration-color: #008000\">b'\\x01\\x01\\x00\\x00\\x00@\\xa0\\x88\\x02=\\x174@\\x9d\\xa3\\xc5\\xb3rPD@'</span> │ <span style=\"color: #008000; text-decoration-color: #008000\">b'\\x01\\x03\\x00\\x00\\x00\\x01\\x00\\x00\\x00\\xbe\\x02\\x00\\x00\\x07h\\x11@ a4@\\xd3\\xa9\\x02 \\xb47D@\\xcd\\x15\\x10 d`4@\\xc4G\\xfe?\\xd27D@\\xa0*\\xf0_j_4@\\xd8\\x98\\xf8\\x1f\\xf07D@$\\xb3\\xfe\\xbf\\x7f^4@.:\\xf6?\\x028D@\\x88\\xce\\xf8'</span>+<span style=\"color: #008080; text-decoration-color: #008080; font-weight: bold\">11165</span>                        │ <span style=\"font-weight: bold\">[</span><span style=\"color: #008080; text-decoration-color: #008080; font-weight: bold\">238</span>, <span style=\"color: #008080; text-decoration-color: #008080; font-weight: bold\">97</span>, <span style=\"color: #808000; text-decoration-color: #808000\">...</span> +<span style=\"color: #008080; text-decoration-color: #008080; font-weight: bold\">2</span><span style=\"font-weight: bold\">]</span> │ <span style=\"color: #008080; text-decoration-color: #008080; font-weight: bold\">19.888996</span> │ <span style=\"color: #008080; text-decoration-color: #008080; font-weight: bold\">20.090775</span> │ <span style=\"color: #008080; text-decoration-color: #008080; font-weight: bold\">40.628500</span> │\n",
       "│ <span style=\"color: #008000; text-decoration-color: #008000\">ALB   </span> │ <span style=\"color: #008000; text-decoration-color: #008000\">Albania</span> │ <span style=\"color: #008000; text-decoration-color: #008000\">ALB.2_1</span> │ <span style=\"color: #008080; text-decoration-color: #008080; font-weight: bold\">3.719427e+08</span> │      <span style=\"color: #008080; text-decoration-color: #008080; font-weight: bold\">1.721516e+08</span> │           <span style=\"color: #008080; text-decoration-color: #008080; font-weight: bold\">8.094841e+07</span> │         <span style=\"color: #008080; text-decoration-color: #008080; font-weight: bold\">7.357106e+07</span> │ <span style=\"color: #008000; text-decoration-color: #008000\">b'\\x01\\x01\\x00\\x00\\x00\\xe6M\\xcan\\xe1?4@\\x87\\xf1\\xed\\xcdg\\xcbD@'</span> │ <span style=\"color: #008000; text-decoration-color: #008000\">b'\\x01\\x03\\x00\\x00\\x00\\x01\\x00\\x00\\x00\\xbb\\x02\\x00\\x00\\xa0\\x16\\x07\\xc0\\rl4@\\xf5\\x0e\\xf9_\\x15\\xa4D@\\xdfC\\x15@)l4@u\\xe3\\xfe\\x9f\\x1a\\xa4D@\\x1f\\x99\\xf5\\xff\\xfdk4@:\\xa9\\xf5\\x9f1\\xa4D@\\xb5O\\t\\x80\\xd8k4@\\xab\\xc4\\x02\\x80_\\xa4D@\\x9fY\\x12'</span>+<span style=\"color: #008080; text-decoration-color: #008080; font-weight: bold\">11117</span> │ <span style=\"font-weight: bold\">[</span><span style=\"color: #008080; text-decoration-color: #008080; font-weight: bold\">238</span>, <span style=\"color: #008080; text-decoration-color: #008080; font-weight: bold\">97</span>, <span style=\"color: #808000; text-decoration-color: #808000\">...</span> +<span style=\"color: #008080; text-decoration-color: #008080; font-weight: bold\">2</span><span style=\"font-weight: bold\">]</span> │ <span style=\"color: #008080; text-decoration-color: #008080; font-weight: bold\">19.734250</span> │ <span style=\"color: #008080; text-decoration-color: #008080; font-weight: bold\">20.249534</span> │ <span style=\"color: #008080; text-decoration-color: #008080; font-weight: bold\">41.589105</span> │\n",
       "│ <span style=\"color: #008000; text-decoration-color: #008000\">ALB   </span> │ <span style=\"color: #008000; text-decoration-color: #008000\">Albania</span> │ <span style=\"color: #008000; text-decoration-color: #008000\">ALB.3_1</span> │ <span style=\"color: #008080; text-decoration-color: #008080; font-weight: bold\">1.113524e+09</span> │      <span style=\"color: #008080; text-decoration-color: #008080; font-weight: bold\">5.153885e+08</span> │           <span style=\"color: #008080; text-decoration-color: #008080; font-weight: bold\">2.423439e+08</span> │         <span style=\"color: #008080; text-decoration-color: #008080; font-weight: bold\">2.202575e+08</span> │ <span style=\"color: #008000; text-decoration-color: #008000\">b'\\x01\\x01\\x00\\x00\\x00\\xb5?\\xc3\\x1e`\\xa13@\\x14\\x15\\xcd2B\\xb9D@'</span> │ <span style=\"color: #008000; text-decoration-color: #008000\">b'\\x01\\x03\\x00\\x00\\x00\\x01\\x00\\x00\\x00\\x8f\\x0c\\x00\\x00\\xb3@\\xfd_\\\\\\xa33@9\\xad\\x04 \\xa8\\xabD@\\x85\\x1a\\xf0\\xbf\\xb6\\xa23@\\x13U\\t`\\x14\\xabD@~r\\x14 \\n\\xa33@+\\xf0\\xfc?\\xda\\xaaD@\\xa8O\\xf6\\xbf\\xf1\\xa33@\\xd1\\x9a\\xf6\\xff7\\xaaD@\\xc0@\\x10'</span>+<span style=\"color: #008080; text-decoration-color: #008080; font-weight: bold\">51373</span>   │ <span style=\"font-weight: bold\">[</span><span style=\"color: #008080; text-decoration-color: #008080; font-weight: bold\">238</span>, <span style=\"color: #008080; text-decoration-color: #008080; font-weight: bold\">97</span>, <span style=\"color: #808000; text-decoration-color: #808000\">...</span> +<span style=\"color: #008080; text-decoration-color: #008080; font-weight: bold\">2</span><span style=\"font-weight: bold\">]</span> │ <span style=\"color: #008080; text-decoration-color: #008080; font-weight: bold\">20.830796</span> │ <span style=\"color: #008080; text-decoration-color: #008080; font-weight: bold\">19.630373</span> │ <span style=\"color: #008080; text-decoration-color: #008080; font-weight: bold\">41.447333</span> │\n",
       "│ <span style=\"color: #008000; text-decoration-color: #008000\">ALB   </span> │ <span style=\"color: #008000; text-decoration-color: #008000\">Albania</span> │ <span style=\"color: #008000; text-decoration-color: #008000\">ALB.4_1</span> │ <span style=\"color: #008080; text-decoration-color: #008080; font-weight: bold\">7.954835e+08</span> │      <span style=\"color: #008080; text-decoration-color: #008080; font-weight: bold\">3.681851e+08</span> │           <span style=\"color: #008080; text-decoration-color: #008080; font-weight: bold\">1.731265e+08</span> │         <span style=\"color: #008080; text-decoration-color: #008080; font-weight: bold\">1.573483e+08</span> │ <span style=\"color: #008000; text-decoration-color: #008000\">b'\\x01\\x01\\x00\\x00\\x00\\x17\\xb66{\\xbb/4@m\\xda[\\xa0\\x1f\\x85D@'</span>    │ <span style=\"color: #008000; text-decoration-color: #008000\">b'\\x01\\x03\\x00\\x00\\x00\\x01\\x00\\x00\\x00\\xc5\\x02\\x00\\x00\\xe3\\xe0\\xf3?\\xd0o4@\\xe3\\xa1\\xf7\\xdf\\xadlD@ti\\x15`\\xcco4@\\xb0\\xb3\\xf8\\x7f\\x9blD@A\\x93\\x0e \\x8dp4@\\x1f\\x03\\x05 flD@\\xd8E\\x13 \\xf1p4@\\xd5\\x0f\\x03\\xc0\\xa5kD@\\xa6,\\x01'</span>+<span style=\"color: #008080; text-decoration-color: #008080; font-weight: bold\">11277</span>            │ <span style=\"font-weight: bold\">[</span><span style=\"color: #008080; text-decoration-color: #008080; font-weight: bold\">238</span>, <span style=\"color: #008080; text-decoration-color: #008080; font-weight: bold\">97</span>, <span style=\"color: #808000; text-decoration-color: #808000\">...</span> +<span style=\"color: #008080; text-decoration-color: #008080; font-weight: bold\">2</span><span style=\"font-weight: bold\">]</span> │ <span style=\"color: #008080; text-decoration-color: #008080; font-weight: bold\">20.494461</span> │ <span style=\"color: #008080; text-decoration-color: #008080; font-weight: bold\">20.186454</span> │ <span style=\"color: #008080; text-decoration-color: #008080; font-weight: bold\">41.040028</span> │\n",
       "│ <span style=\"color: #008000; text-decoration-color: #008000\">ALB   </span> │ <span style=\"color: #008000; text-decoration-color: #008000\">Albania</span> │ <span style=\"color: #008000; text-decoration-color: #008000\">ALB.5_1</span> │ <span style=\"color: #008080; text-decoration-color: #008080; font-weight: bold\">1.345159e+09</span> │      <span style=\"color: #008080; text-decoration-color: #008080; font-weight: bold\">6.225993e+08</span> │           <span style=\"color: #008080; text-decoration-color: #008080; font-weight: bold\">2.927561e+08</span> │         <span style=\"color: #008080; text-decoration-color: #008080; font-weight: bold\">2.660753e+08</span> │ <span style=\"color: #008000; text-decoration-color: #008000\">b\"\\x01\\x01\\x00\\x00\\x00\\xee\\x16g\\xe7\\xda\\x9e3@Y\\x90\\xfc/'cD@\"</span>    │ <span style=\"color: #008000; text-decoration-color: #008000\">b'\\x01\\x03\\x00\\x00\\x00\\x01\\x00\\x00\\x00,\\n\\x00\\x00x\\x06\\xf4_s\\xbe3@\\xfc\\x0c\\xfb\\x7f\\xcd9D@+\\xb1\\x00\\xe0\\xb7\\xbe3@\\x8c\\xc1\\xfd_y:D@\\xf2.\\x0f\\x80U\\xbe3@\\x159\\x02\\xc0\\xca:D@\\xdf\\xed\\xee\\xbf\\x9d\\xbd3@\\xf6\\xb7\\x04\\xe0\\x1f;D@,B\\x14'</span>+<span style=\"color: #008080; text-decoration-color: #008080; font-weight: bold\">41597</span>     │ <span style=\"font-weight: bold\">[</span><span style=\"color: #008080; text-decoration-color: #008080; font-weight: bold\">238</span>, <span style=\"color: #008080; text-decoration-color: #008080; font-weight: bold\">97</span>, <span style=\"color: #808000; text-decoration-color: #808000\">...</span> +<span style=\"color: #008080; text-decoration-color: #008080; font-weight: bold\">2</span><span style=\"font-weight: bold\">]</span> │ <span style=\"color: #008080; text-decoration-color: #008080; font-weight: bold\">21.019778</span> │ <span style=\"color: #008080; text-decoration-color: #008080; font-weight: bold\">19.620528</span> │ <span style=\"color: #008080; text-decoration-color: #008080; font-weight: bold\">40.774633</span> │\n",
       "└────────┴─────────┴─────────┴──────────────┴───────────────────┴────────────────────────┴──────────────────────┴─────────────────────────────────────────────────────────────────┴─────────────────────────────────────────────────────────────────────────────────────────────────────────────────────────────────────────────────────────────────────────────────────────────────────────────────────────────────────────────┴───────────────────┴───────────┴───────────┴───────────┘\n",
       "</pre>\n"
      ],
      "text/plain": [
       "┏━━━━━━━━┳━━━━━━━━━┳━━━━━━━━━┳━━━━━━━━━━━━━━┳━━━━━━━━━━━━━━━━━━━┳━━━━━━━━━━━━━━━━━━━━━━━━┳━━━━━━━━━━━━━━━━━━━━━━┳━━━━━━━━━━━━━━━━━━━━━━━━━━━━━━━━━━━━━━━━━━━━━━━━━━━━━━━━━━━━━━━━━┳━━━━━━━━━━━━━━━━━━━━━━━━━━━━━━━━━━━━━━━━━━━━━━━━━━━━━━━━━━━━━━━━━━━━━━━━━━━━━━━━━━━━━━━━━━━━━━━━━━━━━━━━━━━━━━━━━━━━━━━━━━━━━━━━━━━━━━━━━━━━━━━━━━━━━━━━━━━━━━━━━━━━━━━━━━━━━━━━━━━━━━━━━━━━━━━━━━━━━━━━━━━━━━━━━━━━━━━━━━━━━━━━━━━━━━━━━━━━━┳━━━━━━━━━━━━━━━━━━━┳━━━━━━━━━━━┳━━━━━━━━━━━┳━━━━━━━━━━━┓\n",
       "┃\u001b[1m \u001b[0m\u001b[1mgid_0\u001b[0m\u001b[1m \u001b[0m\u001b[1m \u001b[0m┃\u001b[1m \u001b[0m\u001b[1mcountry\u001b[0m\u001b[1m \u001b[0m┃\u001b[1m \u001b[0m\u001b[1mgid_1\u001b[0m\u001b[1m  \u001b[0m\u001b[1m \u001b[0m┃\u001b[1m \u001b[0m\u001b[1mgrp_usd_2015\u001b[0m\u001b[1m \u001b[0m┃\u001b[1m \u001b[0m\u001b[1mservices_usd_2015\u001b[0m\u001b[1m \u001b[0m┃\u001b[1m \u001b[0m\u001b[1mmanufacturing_usd_2015\u001b[0m\u001b[1m \u001b[0m┃\u001b[1m \u001b[0m\u001b[1magriculture_usd_2015\u001b[0m\u001b[1m \u001b[0m┃\u001b[1m \u001b[0m\u001b[1mcentr\u001b[0m\u001b[1m                                                          \u001b[0m\u001b[1m \u001b[0m┃\u001b[1m \u001b[0m\u001b[1mgeometry\u001b[0m\u001b[1m                                                                                                                                                                                                                                   \u001b[0m\u001b[1m \u001b[0m┃\u001b[1m \u001b[0m\u001b[1mcolor\u001b[0m\u001b[1m            \u001b[0m\u001b[1m \u001b[0m┃\u001b[1m \u001b[0m\u001b[1mradius\u001b[0m\u001b[1m   \u001b[0m\u001b[1m \u001b[0m┃\u001b[1m \u001b[0m\u001b[1mx\u001b[0m\u001b[1m        \u001b[0m\u001b[1m \u001b[0m┃\u001b[1m \u001b[0m\u001b[1my\u001b[0m\u001b[1m        \u001b[0m\u001b[1m \u001b[0m┃\n",
       "┡━━━━━━━━╇━━━━━━━━━╇━━━━━━━━━╇━━━━━━━━━━━━━━╇━━━━━━━━━━━━━━━━━━━╇━━━━━━━━━━━━━━━━━━━━━━━━╇━━━━━━━━━━━━━━━━━━━━━━╇━━━━━━━━━━━━━━━━━━━━━━━━━━━━━━━━━━━━━━━━━━━━━━━━━━━━━━━━━━━━━━━━━╇━━━━━━━━━━━━━━━━━━━━━━━━━━━━━━━━━━━━━━━━━━━━━━━━━━━━━━━━━━━━━━━━━━━━━━━━━━━━━━━━━━━━━━━━━━━━━━━━━━━━━━━━━━━━━━━━━━━━━━━━━━━━━━━━━━━━━━━━━━━━━━━━━━━━━━━━━━━━━━━━━━━━━━━━━━━━━━━━━━━━━━━━━━━━━━━━━━━━━━━━━━━━━━━━━━━━━━━━━━━━━━━━━━━━━━━━━━━━━╇━━━━━━━━━━━━━━━━━━━╇━━━━━━━━━━━╇━━━━━━━━━━━╇━━━━━━━━━━━┩\n",
       "│ \u001b[2mstring\u001b[0m │ \u001b[2mstring\u001b[0m  │ \u001b[2mstring\u001b[0m  │ \u001b[2mfloat64\u001b[0m      │ \u001b[2mfloat64\u001b[0m           │ \u001b[2mfloat64\u001b[0m                │ \u001b[2mfloat64\u001b[0m              │ \u001b[2mbinary\u001b[0m                                                          │ \u001b[2mbinary\u001b[0m                                                                                                                                                                                                                                      │ \u001b[2marray<int64>\u001b[0m      │ \u001b[2mfloat64\u001b[0m   │ \u001b[2mfloat64\u001b[0m   │ \u001b[2mfloat64\u001b[0m   │\n",
       "├────────┼─────────┼─────────┼──────────────┼───────────────────┼────────────────────────┼──────────────────────┼─────────────────────────────────────────────────────────────────┼─────────────────────────────────────────────────────────────────────────────────────────────────────────────────────────────────────────────────────────────────────────────────────────────────────────────────────────────────────────────┼───────────────────┼───────────┼───────────┼───────────┤\n",
       "│ \u001b[32mALB   \u001b[0m │ \u001b[32mAlbania\u001b[0m │ \u001b[32mALB.1_1\u001b[0m │ \u001b[1;36m4.341915e+08\u001b[0m │      \u001b[1;36m2.009631e+08\u001b[0m │           \u001b[1;36m9.449606e+07\u001b[0m │         \u001b[1;36m8.588401e+07\u001b[0m │ \u001b[32mb'\\x01\\x01\\x00\\x00\\x00@\\xa0\\x88\\\u001b[0m\u001b[32mx02\u001b[0m\u001b[32m=\\x174@\\x9d\\xa3\\xc5\\xb3rPD@'\u001b[0m │ \u001b[32mb'\\x01\\x03\\x00\\x00\\x00\\x01\\x00\\x00\\x00\\xbe\\x02\\x00\\x00\\x07h\\x11@ a4@\\xd3\\xa9\\x02 \\xb47D@\\xcd\\x15\\x10 d`4@\\xc4G\\xfe?\\xd27D@\\xa0*\\xf0_j_4@\\xd8\\x98\\xf8\\x1f\\xf07D@$\\xb3\\xfe\\xbf\\x7f^4@.:\\xf6?\\x028D@\\x88\\xce\\xf8'\u001b[0m+\u001b[1;36m11165\u001b[0m                        │ \u001b[1m[\u001b[0m\u001b[1;36m238\u001b[0m, \u001b[1;36m97\u001b[0m, \u001b[33m...\u001b[0m +\u001b[1;36m2\u001b[0m\u001b[1m]\u001b[0m │ \u001b[1;36m19.888996\u001b[0m │ \u001b[1;36m20.090775\u001b[0m │ \u001b[1;36m40.628500\u001b[0m │\n",
       "│ \u001b[32mALB   \u001b[0m │ \u001b[32mAlbania\u001b[0m │ \u001b[32mALB.2_1\u001b[0m │ \u001b[1;36m3.719427e+08\u001b[0m │      \u001b[1;36m1.721516e+08\u001b[0m │           \u001b[1;36m8.094841e+07\u001b[0m │         \u001b[1;36m7.357106e+07\u001b[0m │ \u001b[32mb'\\x01\\x01\\x00\\x00\\x00\\xe6M\\xcan\\xe1?4@\\x87\\xf1\\xed\\xcdg\\xcbD@'\u001b[0m │ \u001b[32mb'\\x01\\x03\\x00\\x00\\x00\\x01\\x00\\x00\\x00\\xbb\\x02\\x00\\x00\\xa0\\x16\\x07\\xc0\\rl4@\\xf5\\x0e\\xf9_\\x15\\xa4D@\\xdfC\\x15@\u001b[0m\u001b[32m)\u001b[0m\u001b[32ml4@u\\xe3\\xfe\\x9f\\x1a\\xa4D@\\x1f\\x99\\xf5\\xff\\xfdk4@:\\xa9\\xf5\\x9f1\\xa4D@\\xb5O\\t\\x80\\xd8k4@\\xab\\xc4\\x02\\x80_\\xa4D@\\x9fY\\x12'\u001b[0m+\u001b[1;36m11117\u001b[0m │ \u001b[1m[\u001b[0m\u001b[1;36m238\u001b[0m, \u001b[1;36m97\u001b[0m, \u001b[33m...\u001b[0m +\u001b[1;36m2\u001b[0m\u001b[1m]\u001b[0m │ \u001b[1;36m19.734250\u001b[0m │ \u001b[1;36m20.249534\u001b[0m │ \u001b[1;36m41.589105\u001b[0m │\n",
       "│ \u001b[32mALB   \u001b[0m │ \u001b[32mAlbania\u001b[0m │ \u001b[32mALB.3_1\u001b[0m │ \u001b[1;36m1.113524e+09\u001b[0m │      \u001b[1;36m5.153885e+08\u001b[0m │           \u001b[1;36m2.423439e+08\u001b[0m │         \u001b[1;36m2.202575e+08\u001b[0m │ \u001b[32mb'\\x01\\x01\\x00\\x00\\x00\\xb5?\\xc3\\x1e`\\xa13@\\x14\\x15\\xcd2B\\xb9D@'\u001b[0m │ \u001b[32mb'\\x01\\x03\\x00\\x00\\x00\\x01\\x00\\x00\\x00\\x8f\\x0c\\x00\\x00\\xb3@\\xfd_\\\\\\xa33@9\\xad\\x04 \\xa8\\xabD@\\x85\\x1a\\xf0\\xbf\\xb6\\xa23@\\x13U\\t`\\x14\\xabD@~r\\x14 \\n\\xa33@+\\xf0\\xfc?\\xda\\xaaD@\\xa8O\\xf6\\xbf\\xf1\\xa33@\\xd1\\x9a\\xf6\\xff7\\xaaD@\\xc0@\\x10'\u001b[0m+\u001b[1;36m51373\u001b[0m   │ \u001b[1m[\u001b[0m\u001b[1;36m238\u001b[0m, \u001b[1;36m97\u001b[0m, \u001b[33m...\u001b[0m +\u001b[1;36m2\u001b[0m\u001b[1m]\u001b[0m │ \u001b[1;36m20.830796\u001b[0m │ \u001b[1;36m19.630373\u001b[0m │ \u001b[1;36m41.447333\u001b[0m │\n",
       "│ \u001b[32mALB   \u001b[0m │ \u001b[32mAlbania\u001b[0m │ \u001b[32mALB.4_1\u001b[0m │ \u001b[1;36m7.954835e+08\u001b[0m │      \u001b[1;36m3.681851e+08\u001b[0m │           \u001b[1;36m1.731265e+08\u001b[0m │         \u001b[1;36m1.573483e+08\u001b[0m │ \u001b[32mb'\\x01\\x01\\x00\\x00\\x00\\x17\\xb66\u001b[0m\u001b[32m{\u001b[0m\u001b[32m\\xbb/4@m\\xda\u001b[0m\u001b[32m[\u001b[0m\u001b[32m\\xa0\\x1f\\x85D@'\u001b[0m    │ \u001b[32mb'\\x01\\x03\\x00\\x00\\x00\\x01\\x00\\x00\\x00\\xc5\\x02\\x00\\x00\\xe3\\xe0\\xf3?\\xd0o4@\\xe3\\xa1\\xf7\\xdf\\xadlD@ti\\x15`\\xcco4@\\xb0\\xb3\\xf8\\x7f\\x9blD@A\\x93\\x0e \\x8dp4@\\x1f\\x03\\x05 flD@\\xd8E\\x13 \\xf1p4@\\xd5\\x0f\\x03\\xc0\\xa5kD@\\xa6,\\x01'\u001b[0m+\u001b[1;36m11277\u001b[0m            │ \u001b[1m[\u001b[0m\u001b[1;36m238\u001b[0m, \u001b[1;36m97\u001b[0m, \u001b[33m...\u001b[0m +\u001b[1;36m2\u001b[0m\u001b[1m]\u001b[0m │ \u001b[1;36m20.494461\u001b[0m │ \u001b[1;36m20.186454\u001b[0m │ \u001b[1;36m41.040028\u001b[0m │\n",
       "│ \u001b[32mALB   \u001b[0m │ \u001b[32mAlbania\u001b[0m │ \u001b[32mALB.5_1\u001b[0m │ \u001b[1;36m1.345159e+09\u001b[0m │      \u001b[1;36m6.225993e+08\u001b[0m │           \u001b[1;36m2.927561e+08\u001b[0m │         \u001b[1;36m2.660753e+08\u001b[0m │ \u001b[32mb\"\\x01\\x01\\x00\\x00\\x00\\xee\\x16g\\xe7\\xda\\x9e3@Y\\x90\\xfc/'cD@\"\u001b[0m    │ \u001b[32mb'\\x01\\x03\\x00\\x00\\x00\\x01\\x00\\x00\\x00,\\n\\x00\\x00x\\x06\\xf4_s\\xbe3@\\xfc\\x0c\\xfb\\x7f\\xcd9D@+\\xb1\\x00\\xe0\\xb7\\xbe3@\\x8c\\xc1\\xfd_y:D@\\xf2.\\x0f\\x80U\\xbe3@\\x159\\x02\\xc0\\xca:D@\\xdf\\xed\\xee\\xbf\\x9d\\xbd3@\\xf6\\xb7\\x04\\xe0\\x1f;D@,B\\x14'\u001b[0m+\u001b[1;36m41597\u001b[0m     │ \u001b[1m[\u001b[0m\u001b[1;36m238\u001b[0m, \u001b[1;36m97\u001b[0m, \u001b[33m...\u001b[0m +\u001b[1;36m2\u001b[0m\u001b[1m]\u001b[0m │ \u001b[1;36m21.019778\u001b[0m │ \u001b[1;36m19.620528\u001b[0m │ \u001b[1;36m40.774633\u001b[0m │\n",
       "└────────┴─────────┴─────────┴──────────────┴───────────────────┴────────────────────────┴──────────────────────┴─────────────────────────────────────────────────────────────────┴─────────────────────────────────────────────────────────────────────────────────────────────────────────────────────────────────────────────────────────────────────────────────────────────────────────────────────────────────────────────┴───────────────────┴───────────┴───────────┴───────────┘"
      ]
     },
     "execution_count": 10,
     "metadata": {},
     "output_type": "execute_result"
    }
   ],
   "source": [
    "# Have a look at the data:\n",
    "dwg.head()"
   ]
  },
  {
   "cell_type": "code",
   "execution_count": 11,
   "metadata": {},
   "outputs": [
    {
     "data": {
      "text/html": [
       "<pre style=\"white-space:pre;overflow-x:auto;line-height:normal;font-family:Menlo,'DejaVu Sans Mono',consolas,'Courier New',monospace\">┏━━━━━━━━━━━━┳━━━━━━━━━━━┳━━━━━━━━━━━━━┓\n",
       "┃<span style=\"font-weight: bold\"> lon        </span>┃<span style=\"font-weight: bold\"> lat       </span>┃<span style=\"font-weight: bold\"> band_var    </span>┃\n",
       "┡━━━━━━━━━━━━╇━━━━━━━━━━━╇━━━━━━━━━━━━━┩\n",
       "│ <span style=\"color: #7f7f7f; text-decoration-color: #7f7f7f\">float32</span>    │ <span style=\"color: #7f7f7f; text-decoration-color: #7f7f7f\">float32</span>   │ <span style=\"color: #7f7f7f; text-decoration-color: #7f7f7f\">float32</span>     │\n",
       "├────────────┼───────────┼─────────────┤\n",
       "│ <span style=\"color: #008080; text-decoration-color: #008080; font-weight: bold\">120.041664</span> │ <span style=\"color: #008080; text-decoration-color: #008080; font-weight: bold\">49.375000</span> │  <span style=\"color: #008080; text-decoration-color: #008080; font-weight: bold\">857.500000</span> │\n",
       "│ <span style=\"color: #008080; text-decoration-color: #008080; font-weight: bold\">119.791664</span> │ <span style=\"color: #008080; text-decoration-color: #008080; font-weight: bold\">49.291668</span> │ <span style=\"color: #008080; text-decoration-color: #008080; font-weight: bold\">1027.000000</span> │\n",
       "│ <span style=\"color: #008080; text-decoration-color: #008080; font-weight: bold\">119.875000</span> │ <span style=\"color: #008080; text-decoration-color: #008080; font-weight: bold\">49.291668</span> │ <span style=\"color: #008080; text-decoration-color: #008080; font-weight: bold\">1050.800049</span> │\n",
       "│ <span style=\"color: #008080; text-decoration-color: #008080; font-weight: bold\">120.041664</span> │ <span style=\"color: #008080; text-decoration-color: #008080; font-weight: bold\">49.291668</span> │ <span style=\"color: #008080; text-decoration-color: #008080; font-weight: bold\">1065.599976</span> │\n",
       "│ <span style=\"color: #008080; text-decoration-color: #008080; font-weight: bold\">120.125000</span> │ <span style=\"color: #008080; text-decoration-color: #008080; font-weight: bold\">49.291668</span> │ <span style=\"color: #008080; text-decoration-color: #008080; font-weight: bold\">1005.900024</span> │\n",
       "└────────────┴───────────┴─────────────┘\n",
       "</pre>\n"
      ],
      "text/plain": [
       "┏━━━━━━━━━━━━┳━━━━━━━━━━━┳━━━━━━━━━━━━━┓\n",
       "┃\u001b[1m \u001b[0m\u001b[1mlon\u001b[0m\u001b[1m       \u001b[0m\u001b[1m \u001b[0m┃\u001b[1m \u001b[0m\u001b[1mlat\u001b[0m\u001b[1m      \u001b[0m\u001b[1m \u001b[0m┃\u001b[1m \u001b[0m\u001b[1mband_var\u001b[0m\u001b[1m   \u001b[0m\u001b[1m \u001b[0m┃\n",
       "┡━━━━━━━━━━━━╇━━━━━━━━━━━╇━━━━━━━━━━━━━┩\n",
       "│ \u001b[2mfloat32\u001b[0m    │ \u001b[2mfloat32\u001b[0m   │ \u001b[2mfloat32\u001b[0m     │\n",
       "├────────────┼───────────┼─────────────┤\n",
       "│ \u001b[1;36m120.041664\u001b[0m │ \u001b[1;36m49.375000\u001b[0m │  \u001b[1;36m857.500000\u001b[0m │\n",
       "│ \u001b[1;36m119.791664\u001b[0m │ \u001b[1;36m49.291668\u001b[0m │ \u001b[1;36m1027.000000\u001b[0m │\n",
       "│ \u001b[1;36m119.875000\u001b[0m │ \u001b[1;36m49.291668\u001b[0m │ \u001b[1;36m1050.800049\u001b[0m │\n",
       "│ \u001b[1;36m120.041664\u001b[0m │ \u001b[1;36m49.291668\u001b[0m │ \u001b[1;36m1065.599976\u001b[0m │\n",
       "│ \u001b[1;36m120.125000\u001b[0m │ \u001b[1;36m49.291668\u001b[0m │ \u001b[1;36m1005.900024\u001b[0m │\n",
       "└────────────┴───────────┴─────────────┘"
      ]
     },
     "execution_count": 11,
     "metadata": {},
     "output_type": "execute_result"
    }
   ],
   "source": [
    "spam.head()"
   ]
  },
  {
   "cell_type": "code",
   "execution_count": 12,
   "metadata": {},
   "outputs": [
    {
     "data": {
      "text/plain": [
       "['dwg', 'spam']"
      ]
     },
     "execution_count": 12,
     "metadata": {},
     "output_type": "execute_result"
    }
   ],
   "source": [
    "# have a look at the table in the backend : \n",
    "conn.list_tables()"
   ]
  },
  {
   "cell_type": "markdown",
   "metadata": {},
   "source": [
    "## Data"
   ]
  },
  {
   "cell_type": "code",
   "execution_count": 13,
   "metadata": {},
   "outputs": [],
   "source": [
    "# known grid parameter of the data.\n",
    "grid_param = 10_000"
   ]
  },
  {
   "cell_type": "markdown",
   "metadata": {},
   "source": [
    "Some typical recommended H3 resolution values for projecting raster grids based on the size were precomputed and provided in a dictionary :"
   ]
  },
  {
   "cell_type": "code",
   "execution_count": 14,
   "metadata": {},
   "outputs": [],
   "source": [
    "h3_res = dt.rast_to_h3[str(grid_param)][\"h3_res\"]"
   ]
  },
  {
   "cell_type": "code",
   "execution_count": 15,
   "metadata": {},
   "outputs": [
    {
     "name": "stdout",
     "output_type": "stream",
     "text": [
      "8\n"
     ]
    }
   ],
   "source": [
    "print(h3_res)"
   ]
  },
  {
   "cell_type": "markdown",
   "metadata": {},
   "source": [
    "Then apply the `sn_project` function, it will try to automatically detect the coordinates columns, but they can be given as parameter in case it fails. "
   ]
  },
  {
   "cell_type": "code",
   "execution_count": 16,
   "metadata": {},
   "outputs": [
    {
     "name": "stdout",
     "output_type": "stream",
     "text": [
      "Using base H3 resolution :  8\n",
      "Assuming coordinates columns ('lon','lat')\n"
     ]
    }
   ],
   "source": [
    "print(\"Using base H3 resolution : \", h3_res)\n",
    "spam_h3 = snoo.sn_project(spam,res=h3_res)"
   ]
  },
  {
   "cell_type": "markdown",
   "metadata": {},
   "source": [
    "This will result in a new table expression containing the newly created `h3_id` column."
   ]
  },
  {
   "cell_type": "code",
   "execution_count": 17,
   "metadata": {},
   "outputs": [
    {
     "data": {
      "text/html": [
       "<pre style=\"white-space:pre;overflow-x:auto;line-height:normal;font-family:Menlo,'DejaVu Sans Mono',consolas,'Courier New',monospace\"></pre>\n"
      ],
      "text/plain": []
     },
     "metadata": {},
     "output_type": "display_data"
    },
    {
     "name": "stdout",
     "output_type": "stream",
     "text": [
      "┌──────────┐\n",
      "│ \u001b[1;36m19459073\u001b[0m │\n",
      "└──────────┘\n"
     ]
    },
    {
     "data": {
      "text/html": [
       "<pre style=\"white-space:pre;overflow-x:auto;line-height:normal;font-family:Menlo,'DejaVu Sans Mono',consolas,'Courier New',monospace\"></pre>\n"
      ],
      "text/plain": []
     },
     "metadata": {},
     "output_type": "display_data"
    },
    {
     "name": "stdout",
     "output_type": "stream",
     "text": [
      "┏━━━━━━━━━━━━┳━━━━━━━━━━━┳━━━━━━━━━━━━━┳━━━━━━━━━━━━━━━━━┓\n",
      "┃\u001b[1m \u001b[0m\u001b[1mlon\u001b[0m\u001b[1m       \u001b[0m\u001b[1m \u001b[0m┃\u001b[1m \u001b[0m\u001b[1mlat\u001b[0m\u001b[1m      \u001b[0m\u001b[1m \u001b[0m┃\u001b[1m \u001b[0m\u001b[1mband_var\u001b[0m\u001b[1m   \u001b[0m\u001b[1m \u001b[0m┃\u001b[1m \u001b[0m\u001b[1mh3_id\u001b[0m\u001b[1m          \u001b[0m\u001b[1m \u001b[0m┃\n",
      "┡━━━━━━━━━━━━╇━━━━━━━━━━━╇━━━━━━━━━━━━━╇━━━━━━━━━━━━━━━━━┩\n",
      "│ \u001b[2mfloat32\u001b[0m    │ \u001b[2mfloat32\u001b[0m   │ \u001b[2mfloat32\u001b[0m     │ \u001b[2mstring\u001b[0m          │\n",
      "├────────────┼───────────┼─────────────┼─────────────────┤\n",
      "│ \u001b[1;36m120.041664\u001b[0m │ \u001b[1;36m49.375000\u001b[0m │  \u001b[1;36m857.500000\u001b[0m │ \u001b[32m88159c7aa3fffff\u001b[0m │\n",
      "│ \u001b[1;36m119.791664\u001b[0m │ \u001b[1;36m49.291668\u001b[0m │ \u001b[1;36m1027.000000\u001b[0m │ \u001b[32m88159c4e03fffff\u001b[0m │\n",
      "│ \u001b[1;36m119.875000\u001b[0m │ \u001b[1;36m49.291668\u001b[0m │ \u001b[1;36m1050.800049\u001b[0m │ \u001b[32m88159c4ea3fffff\u001b[0m │\n",
      "│ \u001b[1;36m120.041664\u001b[0m │ \u001b[1;36m49.291668\u001b[0m │ \u001b[1;36m1065.599976\u001b[0m │ \u001b[32m88159c793bfffff\u001b[0m │\n",
      "│ \u001b[1;36m120.125000\u001b[0m │ \u001b[1;36m49.291668\u001b[0m │ \u001b[1;36m1005.900024\u001b[0m │ \u001b[32m88159c6b4bfffff\u001b[0m │\n",
      "└────────────┴───────────┴─────────────┴─────────────────┘\n"
     ]
    }
   ],
   "source": [
    "snoo.sn_head(spam_h3)"
   ]
  },
  {
   "cell_type": "code",
   "execution_count": 18,
   "metadata": {},
   "outputs": [
    {
     "data": {
      "text/html": [
       "<pre style=\"white-space:pre;overflow-x:auto;line-height:normal;font-family:Menlo,'DejaVu Sans Mono',consolas,'Courier New',monospace\"></pre>\n"
      ],
      "text/plain": []
     },
     "metadata": {},
     "output_type": "display_data"
    },
    {
     "data": {
      "text/plain": [
       "┌────────┐\n",
       "│ \u001b[1;36m514471\u001b[0m │\n",
       "└────────┘"
      ]
     },
     "execution_count": 18,
     "metadata": {},
     "output_type": "execute_result"
    }
   ],
   "source": [
    "# check the ids\n",
    "spam_h3.h3_id.nunique()"
   ]
  },
  {
   "cell_type": "code",
   "execution_count": 19,
   "metadata": {},
   "outputs": [],
   "source": [
    "spam_h3 = spam_h3.group_by(\"h3_id\").agg(band=_.band_var.sum(),\n",
    "                                        x=_.lon.first(),\n",
    "                                        y=_.lat.first(),)"
   ]
  },
  {
   "cell_type": "code",
   "execution_count": 20,
   "metadata": {},
   "outputs": [
    {
     "data": {
      "text/html": [
       "<pre style=\"white-space:pre;overflow-x:auto;line-height:normal;font-family:Menlo,'DejaVu Sans Mono',consolas,'Courier New',monospace\"></pre>\n"
      ],
      "text/plain": []
     },
     "metadata": {},
     "output_type": "display_data"
    },
    {
     "data": {
      "text/plain": [
       "┌────────┐\n",
       "│ \u001b[1;36m514471\u001b[0m │\n",
       "└────────┘"
      ]
     },
     "execution_count": 20,
     "metadata": {},
     "output_type": "execute_result"
    }
   ],
   "source": [
    "spam_h3.count()\n"
   ]
  },
  {
   "cell_type": "code",
   "execution_count": 21,
   "metadata": {},
   "outputs": [
    {
     "data": {
      "text/plain": [
       "['dwg', 'spam']"
      ]
     },
     "execution_count": 21,
     "metadata": {},
     "output_type": "execute_result"
    }
   ],
   "source": [
    "conn.list_tables()"
   ]
  },
  {
   "cell_type": "markdown",
   "metadata": {},
   "source": [
    "One very important aspect of this workflow is that apart from the original data sets that we read into the database, no other data frames exist in the environment. The table expressions that ibis creates in the background and shows us in python are unrealised SQL queries. They only compute the minimum required for us to work with in the environment, say when we call the `sn_head(n)` function, it only needs to know the first n elements and will not bother computing all of them just to show us how the head of the table looks like. In SQL language, the table expressions correspond to views. The table expressions that we end up working with on the python side a just unrealised queries. \n",
    "\n",
    "Let us now have a look at the data, for that we execute the table expression and set a limit to keep things smaller. This will result in a traditional `pandas.DataFrame`."
   ]
  },
  {
   "cell_type": "code",
   "execution_count": 22,
   "metadata": {},
   "outputs": [],
   "source": [
    "spam_h3_df = spam_h3.execute(limit=10_000)"
   ]
  },
  {
   "cell_type": "code",
   "execution_count": 23,
   "metadata": {},
   "outputs": [
    {
     "data": {
      "application/vnd.microsoft.datawrangler.viewer.v0+json": {
       "columns": [
        {
         "name": "index",
         "rawType": "int64",
         "type": "integer"
        },
        {
         "name": "h3_id",
         "rawType": "object",
         "type": "string"
        },
        {
         "name": "band",
         "rawType": "float64",
         "type": "float"
        },
        {
         "name": "x",
         "rawType": "float32",
         "type": "float"
        },
        {
         "name": "y",
         "rawType": "float32",
         "type": "float"
        }
       ],
       "conversionMethod": "pd.DataFrame",
       "ref": "15e2a9bc-5f70-4446-b1e1-6c0d6b4c2455",
       "rows": [
        [
         "0",
         "886b690a39fffff",
         "5359.599914550781",
         "34.291668",
         "15.291667"
        ],
        [
         "1",
         "88521b18c9fffff",
         "56822.80041503906",
         "43.791668",
         "15.291667"
        ],
        [
         "2",
         "8852e6d965fffff",
         "57313.79943847656",
         "44.375",
         "15.291667"
        ],
        [
         "3",
         "8852e6c73bfffff",
         "54263.199533462524",
         "44.708332",
         "15.291667"
        ],
        [
         "4",
         "88525228b3fffff",
         "58432.401428222656",
         "47.958332",
         "15.291667"
        ]
       ],
       "shape": {
        "columns": 4,
        "rows": 5
       }
      },
      "text/html": [
       "<div>\n",
       "<style scoped>\n",
       "    .dataframe tbody tr th:only-of-type {\n",
       "        vertical-align: middle;\n",
       "    }\n",
       "\n",
       "    .dataframe tbody tr th {\n",
       "        vertical-align: top;\n",
       "    }\n",
       "\n",
       "    .dataframe thead th {\n",
       "        text-align: right;\n",
       "    }\n",
       "</style>\n",
       "<table border=\"1\" class=\"dataframe\">\n",
       "  <thead>\n",
       "    <tr style=\"text-align: right;\">\n",
       "      <th></th>\n",
       "      <th>h3_id</th>\n",
       "      <th>band</th>\n",
       "      <th>x</th>\n",
       "      <th>y</th>\n",
       "    </tr>\n",
       "  </thead>\n",
       "  <tbody>\n",
       "    <tr>\n",
       "      <th>0</th>\n",
       "      <td>886b690a39fffff</td>\n",
       "      <td>5359.599915</td>\n",
       "      <td>34.291668</td>\n",
       "      <td>15.291667</td>\n",
       "    </tr>\n",
       "    <tr>\n",
       "      <th>1</th>\n",
       "      <td>88521b18c9fffff</td>\n",
       "      <td>56822.800415</td>\n",
       "      <td>43.791668</td>\n",
       "      <td>15.291667</td>\n",
       "    </tr>\n",
       "    <tr>\n",
       "      <th>2</th>\n",
       "      <td>8852e6d965fffff</td>\n",
       "      <td>57313.799438</td>\n",
       "      <td>44.375000</td>\n",
       "      <td>15.291667</td>\n",
       "    </tr>\n",
       "    <tr>\n",
       "      <th>3</th>\n",
       "      <td>8852e6c73bfffff</td>\n",
       "      <td>54263.199533</td>\n",
       "      <td>44.708332</td>\n",
       "      <td>15.291667</td>\n",
       "    </tr>\n",
       "    <tr>\n",
       "      <th>4</th>\n",
       "      <td>88525228b3fffff</td>\n",
       "      <td>58432.401428</td>\n",
       "      <td>47.958332</td>\n",
       "      <td>15.291667</td>\n",
       "    </tr>\n",
       "  </tbody>\n",
       "</table>\n",
       "</div>"
      ],
      "text/plain": [
       "             h3_id          band          x          y\n",
       "0  886b690a39fffff   5359.599915  34.291668  15.291667\n",
       "1  88521b18c9fffff  56822.800415  43.791668  15.291667\n",
       "2  8852e6d965fffff  57313.799438  44.375000  15.291667\n",
       "3  8852e6c73bfffff  54263.199533  44.708332  15.291667\n",
       "4  88525228b3fffff  58432.401428  47.958332  15.291667"
      ]
     },
     "execution_count": 23,
     "metadata": {},
     "output_type": "execute_result"
    }
   ],
   "source": [
    "spam_h3_df.head()"
   ]
  },
  {
   "cell_type": "markdown",
   "metadata": {},
   "source": [
    "### Coordinates to plot only points"
   ]
  },
  {
   "cell_type": "code",
   "execution_count": 24,
   "metadata": {},
   "outputs": [],
   "source": [
    "\n",
    "# h3_layer_ghsl_h3 = pdk.Layer(\n",
    "#     \"H3HexagonLayer\",\n",
    "#     spam_h3_df,\n",
    "#     pickable=True,\n",
    "#     stroked=True,\n",
    "#     filled=True,\n",
    "#     opacity=1,\n",
    "#     extruded=False,\n",
    "#     get_hexagon= \"h3_id\",\n",
    "#     get_fill_color = [200,200,100,255],\n",
    "#     get_line_color=[0, 0, 0, 100],\n",
    "#     line_width_min_pixels=0,\n",
    "#     line_width_max_pixels=1,\n",
    "# )\n",
    "\n",
    "\n",
    "points_layer = pdk.Layer(\n",
    "    \"ScatterplotLayer\",\n",
    "    spam_h3_df,\n",
    "    pickable=False,\n",
    "    opacity=0.8,\n",
    "    stroked=False,\n",
    "    filled=True,\n",
    "    radius_scale=1,\n",
    "    radius_min_pixels=1,\n",
    "    radius_max_pixels=20,\n",
    "    line_width_min_pixels=1,\n",
    "    get_position = [\"x\",\"y\"],\n",
    "    get_radius=50,\n",
    "    get_fill_color=[255, 140, 0, 255],\n",
    "    get_line_color=[0, 0, 0, 0],\n",
    ")\n"
   ]
  },
  {
   "cell_type": "code",
   "execution_count": 11,
   "metadata": {},
   "outputs": [],
   "source": [
    "# view_state_global = pdk.data_utils.compute_view(spam_h3_df[[\"x\",\"y\"]])\n",
    "\n",
    "# # Create mapdeck object\n",
    "# deck_map_ghsl_h3 = pdk.Deck(layers=[\n",
    "#     points_layer,\n",
    "#     ]\n",
    "#              ,initial_view_state=view_state_global\n",
    "#              ,tooltip= {\"text\": \"Value :  {band}\"}\n",
    "#              ,map_style=\"road\"\n",
    "#              )\n",
    "\n",
    "# deck_map_ghsl_h3.to_html(\"../../deck_maps/deck_ghsl_h3_grid.html\",\n",
    "#                          iframe_height=800,\n",
    "#                          )"
   ]
  },
  {
   "cell_type": "markdown",
   "metadata": {},
   "source": [
    "### Selecting an area\n",
    "\n",
    "Let's now restrict our area of interest : "
   ]
  },
  {
   "cell_type": "code",
   "execution_count": 26,
   "metadata": {},
   "outputs": [
    {
     "data": {
      "text/html": [
       "<pre style=\"white-space:pre;overflow-x:auto;line-height:normal;font-family:Menlo,'DejaVu Sans Mono',consolas,'Courier New',monospace\">┏━━━━━━━━┳━━━━━━━━━┓\n",
       "┃<span style=\"font-weight: bold\"> gid_0  </span>┃<span style=\"font-weight: bold\"> country </span>┃\n",
       "┡━━━━━━━━╇━━━━━━━━━┩\n",
       "│ <span style=\"color: #7f7f7f; text-decoration-color: #7f7f7f\">string</span> │ <span style=\"color: #7f7f7f; text-decoration-color: #7f7f7f\">string</span>  │\n",
       "├────────┼─────────┤\n",
       "│ <span style=\"color: #008000; text-decoration-color: #008000\">NGA   </span> │ <span style=\"color: #008000; text-decoration-color: #008000\">Nigeria</span> │\n",
       "│ <span style=\"color: #008000; text-decoration-color: #008000\">NGA   </span> │ <span style=\"color: #008000; text-decoration-color: #008000\">Nigeria</span> │\n",
       "│ <span style=\"color: #008000; text-decoration-color: #008000\">NGA   </span> │ <span style=\"color: #008000; text-decoration-color: #008000\">Nigeria</span> │\n",
       "│ <span style=\"color: #008000; text-decoration-color: #008000\">NGA   </span> │ <span style=\"color: #008000; text-decoration-color: #008000\">Nigeria</span> │\n",
       "│ <span style=\"color: #008000; text-decoration-color: #008000\">NGA   </span> │ <span style=\"color: #008000; text-decoration-color: #008000\">Nigeria</span> │\n",
       "│ <span style=\"color: #008000; text-decoration-color: #008000\">NGA   </span> │ <span style=\"color: #008000; text-decoration-color: #008000\">Nigeria</span> │\n",
       "│ <span style=\"color: #008000; text-decoration-color: #008000\">NGA   </span> │ <span style=\"color: #008000; text-decoration-color: #008000\">Nigeria</span> │\n",
       "│ <span style=\"color: #008000; text-decoration-color: #008000\">NGA   </span> │ <span style=\"color: #008000; text-decoration-color: #008000\">Nigeria</span> │\n",
       "│ <span style=\"color: #008000; text-decoration-color: #008000\">NGA   </span> │ <span style=\"color: #008000; text-decoration-color: #008000\">Nigeria</span> │\n",
       "│ <span style=\"color: #008000; text-decoration-color: #008000\">NGA   </span> │ <span style=\"color: #008000; text-decoration-color: #008000\">Nigeria</span> │\n",
       "│ <span style=\"color: #7f7f7f; text-decoration-color: #7f7f7f\">…</span>      │ <span style=\"color: #7f7f7f; text-decoration-color: #7f7f7f\">…</span>       │\n",
       "└────────┴─────────┘\n",
       "</pre>\n"
      ],
      "text/plain": [
       "┏━━━━━━━━┳━━━━━━━━━┓\n",
       "┃\u001b[1m \u001b[0m\u001b[1mgid_0\u001b[0m\u001b[1m \u001b[0m\u001b[1m \u001b[0m┃\u001b[1m \u001b[0m\u001b[1mcountry\u001b[0m\u001b[1m \u001b[0m┃\n",
       "┡━━━━━━━━╇━━━━━━━━━┩\n",
       "│ \u001b[2mstring\u001b[0m │ \u001b[2mstring\u001b[0m  │\n",
       "├────────┼─────────┤\n",
       "│ \u001b[32mNGA   \u001b[0m │ \u001b[32mNigeria\u001b[0m │\n",
       "│ \u001b[32mNGA   \u001b[0m │ \u001b[32mNigeria\u001b[0m │\n",
       "│ \u001b[32mNGA   \u001b[0m │ \u001b[32mNigeria\u001b[0m │\n",
       "│ \u001b[32mNGA   \u001b[0m │ \u001b[32mNigeria\u001b[0m │\n",
       "│ \u001b[32mNGA   \u001b[0m │ \u001b[32mNigeria\u001b[0m │\n",
       "│ \u001b[32mNGA   \u001b[0m │ \u001b[32mNigeria\u001b[0m │\n",
       "│ \u001b[32mNGA   \u001b[0m │ \u001b[32mNigeria\u001b[0m │\n",
       "│ \u001b[32mNGA   \u001b[0m │ \u001b[32mNigeria\u001b[0m │\n",
       "│ \u001b[32mNGA   \u001b[0m │ \u001b[32mNigeria\u001b[0m │\n",
       "│ \u001b[32mNGA   \u001b[0m │ \u001b[32mNigeria\u001b[0m │\n",
       "│ \u001b[2m…\u001b[0m      │ \u001b[2m…\u001b[0m       │\n",
       "└────────┴─────────┘"
      ]
     },
     "execution_count": 26,
     "metadata": {},
     "output_type": "execute_result"
    }
   ],
   "source": [
    "dwg.filter(_.country.re_search(\"Nigeria\")).select(\"gid_0\",\"country\")"
   ]
  },
  {
   "cell_type": "code",
   "execution_count": 27,
   "metadata": {},
   "outputs": [],
   "source": [
    "selected_country = \"NGA\""
   ]
  },
  {
   "cell_type": "markdown",
   "metadata": {},
   "source": [
    "## Rescaling approach to econ data \n",
    "We will now restrict the area of interest and combine the layers at hand, namely the economic output per regions and the mapspam agricultural yield, into one table. For that, we need to do a bit of sql and create the corresponding table expression."
   ]
  },
  {
   "cell_type": "code",
   "execution_count": 28,
   "metadata": {},
   "outputs": [],
   "source": [
    "country = conn.sql(f\"\"\"\n",
    "SELECT sel_country.* EXCLUDE (color,centr,geom,radius,x,y,grp_usd_2015,services_usd_2015,manufacturing_usd_2015),\n",
    "         spam.*\n",
    "         FROM spam AS spam\n",
    "         JOIN (SELECT * EXCLUDE geometry, ST_GeomFromWKB(geometry) as geom FROM dwg where gid_0='{selected_country}') AS sel_country\n",
    "         ON ST_Intersects(ST_Point(spam.lon,spam.lat),sel_country.geom);\n",
    "\"\"\")"
   ]
  },
  {
   "cell_type": "code",
   "execution_count": 29,
   "metadata": {},
   "outputs": [
    {
     "data": {
      "application/vnd.jupyter.widget-view+json": {
       "model_id": "fd6a0e3f9c3a44c9b9abbbd27304ad1e",
       "version_major": 2,
       "version_minor": 0
      },
      "text/plain": [
       "FloatProgress(value=0.0, layout=Layout(width='auto'), style=ProgressStyle(bar_color='black'))"
      ]
     },
     "metadata": {},
     "output_type": "display_data"
    },
    {
     "data": {
      "text/html": [
       "<pre style=\"white-space:pre;overflow-x:auto;line-height:normal;font-family:Menlo,'DejaVu Sans Mono',consolas,'Courier New',monospace\"></pre>\n"
      ],
      "text/plain": []
     },
     "metadata": {},
     "output_type": "display_data"
    },
    {
     "name": "stdout",
     "output_type": "stream",
     "text": [
      "┌────────┐\n",
      "│ \u001b[1;36m292275\u001b[0m │\n",
      "└────────┘\n"
     ]
    },
    {
     "data": {
      "text/html": [
       "<pre style=\"white-space:pre;overflow-x:auto;line-height:normal;font-family:Menlo,'DejaVu Sans Mono',consolas,'Courier New',monospace\">┏━━━━━━━━┳━━━━━━━━━┳━━━━━━━━━━┳━━━━━━━━━━━━━━━━━━━━━━┳━━━━━━━━━━┳━━━━━━━━━━━┳━━━━━━━━━━━━┓\n",
       "┃<span style=\"font-weight: bold\"> gid_0  </span>┃<span style=\"font-weight: bold\"> country </span>┃<span style=\"font-weight: bold\"> gid_1    </span>┃<span style=\"font-weight: bold\"> agriculture_usd_2015 </span>┃<span style=\"font-weight: bold\"> lon      </span>┃<span style=\"font-weight: bold\"> lat       </span>┃<span style=\"font-weight: bold\"> band_var   </span>┃\n",
       "┡━━━━━━━━╇━━━━━━━━━╇━━━━━━━━━━╇━━━━━━━━━━━━━━━━━━━━━━╇━━━━━━━━━━╇━━━━━━━━━━━╇━━━━━━━━━━━━┩\n",
       "│ <span style=\"color: #7f7f7f; text-decoration-color: #7f7f7f\">string</span> │ <span style=\"color: #7f7f7f; text-decoration-color: #7f7f7f\">string</span>  │ <span style=\"color: #7f7f7f; text-decoration-color: #7f7f7f\">string</span>   │ <span style=\"color: #7f7f7f; text-decoration-color: #7f7f7f\">float64</span>              │ <span style=\"color: #7f7f7f; text-decoration-color: #7f7f7f\">float32</span>  │ <span style=\"color: #7f7f7f; text-decoration-color: #7f7f7f\">float32</span>   │ <span style=\"color: #7f7f7f; text-decoration-color: #7f7f7f\">float32</span>    │\n",
       "├────────┼─────────┼──────────┼──────────────────────┼──────────┼───────────┼────────────┤\n",
       "│ <span style=\"color: #008000; text-decoration-color: #008000\">NGA   </span> │ <span style=\"color: #008000; text-decoration-color: #008000\">Nigeria</span> │ <span style=\"color: #008000; text-decoration-color: #008000\">NGA.19_1</span> │         <span style=\"color: #008080; text-decoration-color: #008080; font-weight: bold\">4.318394e+09</span> │ <span style=\"color: #008080; text-decoration-color: #008080; font-weight: bold\">7.458333</span> │ <span style=\"color: #008080; text-decoration-color: #008080; font-weight: bold\">11.208333</span> │ <span style=\"color: #008080; text-decoration-color: #008080; font-weight: bold\">269.200012</span> │\n",
       "│ <span style=\"color: #008000; text-decoration-color: #008000\">NGA   </span> │ <span style=\"color: #008000; text-decoration-color: #008000\">Nigeria</span> │ <span style=\"color: #008000; text-decoration-color: #008000\">NGA.19_1</span> │         <span style=\"color: #008080; text-decoration-color: #008080; font-weight: bold\">4.318394e+09</span> │ <span style=\"color: #008080; text-decoration-color: #008080; font-weight: bold\">7.541667</span> │ <span style=\"color: #008080; text-decoration-color: #008080; font-weight: bold\">11.208333</span> │ <span style=\"color: #008080; text-decoration-color: #008080; font-weight: bold\">269.100006</span> │\n",
       "│ <span style=\"color: #008000; text-decoration-color: #008000\">NGA   </span> │ <span style=\"color: #008000; text-decoration-color: #008000\">Nigeria</span> │ <span style=\"color: #008000; text-decoration-color: #008000\">NGA.19_1</span> │         <span style=\"color: #008080; text-decoration-color: #008080; font-weight: bold\">4.318394e+09</span> │ <span style=\"color: #008080; text-decoration-color: #008080; font-weight: bold\">7.625000</span> │ <span style=\"color: #008080; text-decoration-color: #008080; font-weight: bold\">11.208333</span> │ <span style=\"color: #008080; text-decoration-color: #008080; font-weight: bold\">269.200012</span> │\n",
       "└────────┴─────────┴──────────┴──────────────────────┴──────────┴───────────┴────────────┘\n",
       "</pre>\n"
      ],
      "text/plain": [
       "┏━━━━━━━━┳━━━━━━━━━┳━━━━━━━━━━┳━━━━━━━━━━━━━━━━━━━━━━┳━━━━━━━━━━┳━━━━━━━━━━━┳━━━━━━━━━━━━┓\n",
       "┃\u001b[1m \u001b[0m\u001b[1mgid_0\u001b[0m\u001b[1m \u001b[0m\u001b[1m \u001b[0m┃\u001b[1m \u001b[0m\u001b[1mcountry\u001b[0m\u001b[1m \u001b[0m┃\u001b[1m \u001b[0m\u001b[1mgid_1\u001b[0m\u001b[1m   \u001b[0m\u001b[1m \u001b[0m┃\u001b[1m \u001b[0m\u001b[1magriculture_usd_2015\u001b[0m\u001b[1m \u001b[0m┃\u001b[1m \u001b[0m\u001b[1mlon\u001b[0m\u001b[1m     \u001b[0m\u001b[1m \u001b[0m┃\u001b[1m \u001b[0m\u001b[1mlat\u001b[0m\u001b[1m      \u001b[0m\u001b[1m \u001b[0m┃\u001b[1m \u001b[0m\u001b[1mband_var\u001b[0m\u001b[1m  \u001b[0m\u001b[1m \u001b[0m┃\n",
       "┡━━━━━━━━╇━━━━━━━━━╇━━━━━━━━━━╇━━━━━━━━━━━━━━━━━━━━━━╇━━━━━━━━━━╇━━━━━━━━━━━╇━━━━━━━━━━━━┩\n",
       "│ \u001b[2mstring\u001b[0m │ \u001b[2mstring\u001b[0m  │ \u001b[2mstring\u001b[0m   │ \u001b[2mfloat64\u001b[0m              │ \u001b[2mfloat32\u001b[0m  │ \u001b[2mfloat32\u001b[0m   │ \u001b[2mfloat32\u001b[0m    │\n",
       "├────────┼─────────┼──────────┼──────────────────────┼──────────┼───────────┼────────────┤\n",
       "│ \u001b[32mNGA   \u001b[0m │ \u001b[32mNigeria\u001b[0m │ \u001b[32mNGA.19_1\u001b[0m │         \u001b[1;36m4.318394e+09\u001b[0m │ \u001b[1;36m7.458333\u001b[0m │ \u001b[1;36m11.208333\u001b[0m │ \u001b[1;36m269.200012\u001b[0m │\n",
       "│ \u001b[32mNGA   \u001b[0m │ \u001b[32mNigeria\u001b[0m │ \u001b[32mNGA.19_1\u001b[0m │         \u001b[1;36m4.318394e+09\u001b[0m │ \u001b[1;36m7.541667\u001b[0m │ \u001b[1;36m11.208333\u001b[0m │ \u001b[1;36m269.100006\u001b[0m │\n",
       "│ \u001b[32mNGA   \u001b[0m │ \u001b[32mNigeria\u001b[0m │ \u001b[32mNGA.19_1\u001b[0m │         \u001b[1;36m4.318394e+09\u001b[0m │ \u001b[1;36m7.625000\u001b[0m │ \u001b[1;36m11.208333\u001b[0m │ \u001b[1;36m269.200012\u001b[0m │\n",
       "└────────┴─────────┴──────────┴──────────────────────┴──────────┴───────────┴────────────┘"
      ]
     },
     "execution_count": 29,
     "metadata": {},
     "output_type": "execute_result"
    }
   ],
   "source": [
    "print(country.count())\n",
    "country.head(3)"
   ]
  },
  {
   "cell_type": "code",
   "execution_count": 30,
   "metadata": {},
   "outputs": [
    {
     "name": "stdout",
     "output_type": "stream",
     "text": [
      "Assuming coordinates columns ('lon','lat')\n"
     ]
    }
   ],
   "source": [
    "country = snoo.sn_project(country,h3_res)"
   ]
  },
  {
   "cell_type": "markdown",
   "metadata": {},
   "source": [
    "The previous cell runs for a long time compared due to the fact that it has to actually perform the relatively compelex query in order to give us the head of the data. Generally, we will avoid calling this kind of functions in the middle of a workflow. If we want the results of a query to be available right away, we can either 'cache' the output, or promote the table expression to an actual backend table."
   ]
  },
  {
   "cell_type": "markdown",
   "metadata": {},
   "source": [
    "### Summaries\n",
    "Let's compute some simple summary statistics on our data, for example the yield per region :"
   ]
  },
  {
   "cell_type": "code",
   "execution_count": 31,
   "metadata": {},
   "outputs": [
    {
     "data": {
      "application/vnd.jupyter.widget-view+json": {
       "model_id": "19b4aa459baa420295bda844c596a5ff",
       "version_major": 2,
       "version_minor": 0
      },
      "text/plain": [
       "FloatProgress(value=0.0, layout=Layout(width='auto'), style=ProgressStyle(bar_color='black'))"
      ]
     },
     "metadata": {},
     "output_type": "display_data"
    },
    {
     "data": {
      "text/html": [
       "<pre style=\"white-space:pre;overflow-x:auto;line-height:normal;font-family:Menlo,'DejaVu Sans Mono',consolas,'Courier New',monospace\">┏━━━━━━━━━━┳━━━━━━━━━━━━━━┓\n",
       "┃<span style=\"font-weight: bold\"> gid_1    </span>┃<span style=\"font-weight: bold\"> total_band   </span>┃\n",
       "┡━━━━━━━━━━╇━━━━━━━━━━━━━━┩\n",
       "│ <span style=\"color: #7f7f7f; text-decoration-color: #7f7f7f\">string</span>   │ <span style=\"color: #7f7f7f; text-decoration-color: #7f7f7f\">float64</span>      │\n",
       "├──────────┼──────────────┤\n",
       "│ <span style=\"color: #008000; text-decoration-color: #008000\">NGA.31_1</span> │ <span style=\"color: #008080; text-decoration-color: #008080; font-weight: bold\">5.000652e+07</span> │\n",
       "│ <span style=\"color: #008000; text-decoration-color: #008000\">NGA.12_1</span> │ <span style=\"color: #008080; text-decoration-color: #008080; font-weight: bold\">4.038842e+07</span> │\n",
       "│ <span style=\"color: #008000; text-decoration-color: #008000\">NGA.19_1</span> │ <span style=\"color: #008080; text-decoration-color: #008080; font-weight: bold\">7.312160e+07</span> │\n",
       "│ <span style=\"color: #008000; text-decoration-color: #008000\">NGA.23_1</span> │ <span style=\"color: #008080; text-decoration-color: #008080; font-weight: bold\">6.812528e+07</span> │\n",
       "│ <span style=\"color: #008000; text-decoration-color: #008000\">NGA.13_1</span> │ <span style=\"color: #008080; text-decoration-color: #008080; font-weight: bold\">1.131993e+07</span> │\n",
       "│ <span style=\"color: #008000; text-decoration-color: #008000\">NGA.37_1</span> │ <span style=\"color: #008080; text-decoration-color: #008080; font-weight: bold\">4.579285e+07</span> │\n",
       "│ <span style=\"color: #008000; text-decoration-color: #008000\">NGA.16_1</span> │ <span style=\"color: #008080; text-decoration-color: #008080; font-weight: bold\">3.300971e+07</span> │\n",
       "│ <span style=\"color: #008000; text-decoration-color: #008000\">NGA.30_1</span> │ <span style=\"color: #008080; text-decoration-color: #008080; font-weight: bold\">2.064093e+07</span> │\n",
       "│ <span style=\"color: #008000; text-decoration-color: #008000\">NGA.9_1 </span> │ <span style=\"color: #008080; text-decoration-color: #008080; font-weight: bold\">4.657446e+07</span> │\n",
       "│ <span style=\"color: #008000; text-decoration-color: #008000\">NGA.20_1</span> │ <span style=\"color: #008080; text-decoration-color: #008080; font-weight: bold\">4.123441e+07</span> │\n",
       "│ <span style=\"color: #7f7f7f; text-decoration-color: #7f7f7f\">…</span>        │            <span style=\"color: #7f7f7f; text-decoration-color: #7f7f7f\">…</span> │\n",
       "└──────────┴──────────────┘\n",
       "</pre>\n"
      ],
      "text/plain": [
       "┏━━━━━━━━━━┳━━━━━━━━━━━━━━┓\n",
       "┃\u001b[1m \u001b[0m\u001b[1mgid_1\u001b[0m\u001b[1m   \u001b[0m\u001b[1m \u001b[0m┃\u001b[1m \u001b[0m\u001b[1mtotal_band\u001b[0m\u001b[1m  \u001b[0m\u001b[1m \u001b[0m┃\n",
       "┡━━━━━━━━━━╇━━━━━━━━━━━━━━┩\n",
       "│ \u001b[2mstring\u001b[0m   │ \u001b[2mfloat64\u001b[0m      │\n",
       "├──────────┼──────────────┤\n",
       "│ \u001b[32mNGA.31_1\u001b[0m │ \u001b[1;36m5.000652e+07\u001b[0m │\n",
       "│ \u001b[32mNGA.12_1\u001b[0m │ \u001b[1;36m4.038842e+07\u001b[0m │\n",
       "│ \u001b[32mNGA.19_1\u001b[0m │ \u001b[1;36m7.312160e+07\u001b[0m │\n",
       "│ \u001b[32mNGA.23_1\u001b[0m │ \u001b[1;36m6.812528e+07\u001b[0m │\n",
       "│ \u001b[32mNGA.13_1\u001b[0m │ \u001b[1;36m1.131993e+07\u001b[0m │\n",
       "│ \u001b[32mNGA.37_1\u001b[0m │ \u001b[1;36m4.579285e+07\u001b[0m │\n",
       "│ \u001b[32mNGA.16_1\u001b[0m │ \u001b[1;36m3.300971e+07\u001b[0m │\n",
       "│ \u001b[32mNGA.30_1\u001b[0m │ \u001b[1;36m2.064093e+07\u001b[0m │\n",
       "│ \u001b[32mNGA.9_1 \u001b[0m │ \u001b[1;36m4.657446e+07\u001b[0m │\n",
       "│ \u001b[32mNGA.20_1\u001b[0m │ \u001b[1;36m4.123441e+07\u001b[0m │\n",
       "│ \u001b[2m…\u001b[0m        │            \u001b[2m…\u001b[0m │\n",
       "└──────────┴──────────────┘"
      ]
     },
     "execution_count": 31,
     "metadata": {},
     "output_type": "execute_result"
    }
   ],
   "source": [
    "gid_1_band = country.group_by(\"gid_1\").agg(total_band=_.band_var.sum())\n",
    "gid_1_band"
   ]
  },
  {
   "cell_type": "markdown",
   "metadata": {},
   "source": [
    "Now that we have restricted our analysis to a smaller region of interest and have significantly decreased the size of the data that we work with, we can switch to python for the rest fo the analysis. Let us export the data for the selected country into a pandas dataFrame. But before, we will perform the rescaling operation with our regional outputs."
   ]
  },
  {
   "cell_type": "code",
   "execution_count": 32,
   "metadata": {},
   "outputs": [
    {
     "data": {
      "application/vnd.jupyter.widget-view+json": {
       "model_id": "4cb1b235d0874a44ac1544137fab7cac",
       "version_major": 2,
       "version_minor": 0
      },
      "text/plain": [
       "FloatProgress(value=0.0, layout=Layout(width='auto'), style=ProgressStyle(bar_color='black'))"
      ]
     },
     "metadata": {},
     "output_type": "display_data"
    }
   ],
   "source": [
    "country_gdf = (country\n",
    "           .join(gid_1_band,\"gid_1\",how=\"left\")\n",
    "           .mutate(band_frac=_.band_var/_.total_band)\n",
    "            # .mutate(h3_id_gdp=_.band_frac*_.build_gdp)\n",
    "           ).to_pandas()"
   ]
  },
  {
   "cell_type": "markdown",
   "metadata": {},
   "source": [
    "The previous step has added a variable `band_frac` which corresponds to the fractions of the agricultural yield that each h3 cell contributes to the regional total. In other words we have rescaled the yield variable to be a density other the the raster (or h3) cells whithin each regions. "
   ]
  },
  {
   "cell_type": "code",
   "execution_count": 33,
   "metadata": {},
   "outputs": [
    {
     "name": "stdout",
     "output_type": "stream",
     "text": [
      "(292275, 11)\n"
     ]
    },
    {
     "data": {
      "application/vnd.microsoft.datawrangler.viewer.v0+json": {
       "columns": [
        {
         "name": "index",
         "rawType": "int64",
         "type": "integer"
        },
        {
         "name": "gid_0",
         "rawType": "object",
         "type": "string"
        },
        {
         "name": "country",
         "rawType": "object",
         "type": "string"
        },
        {
         "name": "gid_1",
         "rawType": "object",
         "type": "string"
        },
        {
         "name": "agriculture_usd_2015",
         "rawType": "float64",
         "type": "float"
        },
        {
         "name": "lon",
         "rawType": "float32",
         "type": "float"
        },
        {
         "name": "lat",
         "rawType": "float32",
         "type": "float"
        },
        {
         "name": "band_var",
         "rawType": "float32",
         "type": "float"
        },
        {
         "name": "h3_id",
         "rawType": "object",
         "type": "string"
        },
        {
         "name": "gid_1_right",
         "rawType": "object",
         "type": "string"
        },
        {
         "name": "total_band",
         "rawType": "float64",
         "type": "float"
        },
        {
         "name": "band_frac",
         "rawType": "float64",
         "type": "float"
        }
       ],
       "conversionMethod": "pd.DataFrame",
       "ref": "a0738bcb-9a9c-4a04-91c1-f8db9ca3d0fb",
       "rows": [
        [
         "0",
         "NGA",
         "Nigeria",
         "NGA.37_1",
         "1815482717.6746967",
         "6.624997",
         "12.791668",
         "8120.8",
         "8858034957fffff",
         "NGA.37_1",
         "45792846.66666412",
         "0.0001773377371317518"
        ],
        [
         "1",
         "NGA",
         "Nigeria",
         "NGA.37_1",
         "1815482717.6746967",
         "6.70833",
         "12.791668",
         "8120.8",
         "88580348abfffff",
         "NGA.37_1",
         "45792846.66666412",
         "0.0001773377371317518"
        ],
        [
         "2",
         "NGA",
         "Nigeria",
         "NGA.37_1",
         "1815482717.6746967",
         "6.7916636",
         "12.791668",
         "8120.8",
         "8858034d1bfffff",
         "NGA.37_1",
         "45792846.66666412",
         "0.0001773377371317518"
        ],
        [
         "3",
         "NGA",
         "Nigeria",
         "NGA.18_1",
         "2143235516.446304",
         "8.45833",
         "12.791668",
         "8120.8",
         "88580a9a1dfffff",
         "NGA.18_1",
         "35578005.07924843",
         "0.0002282533769557562"
        ],
        [
         "4",
         "NGA",
         "Nigeria",
         "NGA.18_1",
         "2143235516.446304",
         "8.541664",
         "12.791668",
         "8120.8",
         "88580a91abfffff",
         "NGA.18_1",
         "35578005.07924843",
         "0.0002282533769557562"
        ]
       ],
       "shape": {
        "columns": 11,
        "rows": 5
       }
      },
      "text/html": [
       "<div>\n",
       "<style scoped>\n",
       "    .dataframe tbody tr th:only-of-type {\n",
       "        vertical-align: middle;\n",
       "    }\n",
       "\n",
       "    .dataframe tbody tr th {\n",
       "        vertical-align: top;\n",
       "    }\n",
       "\n",
       "    .dataframe thead th {\n",
       "        text-align: right;\n",
       "    }\n",
       "</style>\n",
       "<table border=\"1\" class=\"dataframe\">\n",
       "  <thead>\n",
       "    <tr style=\"text-align: right;\">\n",
       "      <th></th>\n",
       "      <th>gid_0</th>\n",
       "      <th>country</th>\n",
       "      <th>gid_1</th>\n",
       "      <th>agriculture_usd_2015</th>\n",
       "      <th>lon</th>\n",
       "      <th>lat</th>\n",
       "      <th>band_var</th>\n",
       "      <th>h3_id</th>\n",
       "      <th>gid_1_right</th>\n",
       "      <th>total_band</th>\n",
       "      <th>band_frac</th>\n",
       "    </tr>\n",
       "  </thead>\n",
       "  <tbody>\n",
       "    <tr>\n",
       "      <th>0</th>\n",
       "      <td>NGA</td>\n",
       "      <td>Nigeria</td>\n",
       "      <td>NGA.37_1</td>\n",
       "      <td>1.815483e+09</td>\n",
       "      <td>6.624997</td>\n",
       "      <td>12.791668</td>\n",
       "      <td>8120.799805</td>\n",
       "      <td>8858034957fffff</td>\n",
       "      <td>NGA.37_1</td>\n",
       "      <td>4.579285e+07</td>\n",
       "      <td>0.000177</td>\n",
       "    </tr>\n",
       "    <tr>\n",
       "      <th>1</th>\n",
       "      <td>NGA</td>\n",
       "      <td>Nigeria</td>\n",
       "      <td>NGA.37_1</td>\n",
       "      <td>1.815483e+09</td>\n",
       "      <td>6.708330</td>\n",
       "      <td>12.791668</td>\n",
       "      <td>8120.799805</td>\n",
       "      <td>88580348abfffff</td>\n",
       "      <td>NGA.37_1</td>\n",
       "      <td>4.579285e+07</td>\n",
       "      <td>0.000177</td>\n",
       "    </tr>\n",
       "    <tr>\n",
       "      <th>2</th>\n",
       "      <td>NGA</td>\n",
       "      <td>Nigeria</td>\n",
       "      <td>NGA.37_1</td>\n",
       "      <td>1.815483e+09</td>\n",
       "      <td>6.791664</td>\n",
       "      <td>12.791668</td>\n",
       "      <td>8120.799805</td>\n",
       "      <td>8858034d1bfffff</td>\n",
       "      <td>NGA.37_1</td>\n",
       "      <td>4.579285e+07</td>\n",
       "      <td>0.000177</td>\n",
       "    </tr>\n",
       "    <tr>\n",
       "      <th>3</th>\n",
       "      <td>NGA</td>\n",
       "      <td>Nigeria</td>\n",
       "      <td>NGA.18_1</td>\n",
       "      <td>2.143236e+09</td>\n",
       "      <td>8.458330</td>\n",
       "      <td>12.791668</td>\n",
       "      <td>8120.799805</td>\n",
       "      <td>88580a9a1dfffff</td>\n",
       "      <td>NGA.18_1</td>\n",
       "      <td>3.557801e+07</td>\n",
       "      <td>0.000228</td>\n",
       "    </tr>\n",
       "    <tr>\n",
       "      <th>4</th>\n",
       "      <td>NGA</td>\n",
       "      <td>Nigeria</td>\n",
       "      <td>NGA.18_1</td>\n",
       "      <td>2.143236e+09</td>\n",
       "      <td>8.541664</td>\n",
       "      <td>12.791668</td>\n",
       "      <td>8120.799805</td>\n",
       "      <td>88580a91abfffff</td>\n",
       "      <td>NGA.18_1</td>\n",
       "      <td>3.557801e+07</td>\n",
       "      <td>0.000228</td>\n",
       "    </tr>\n",
       "  </tbody>\n",
       "</table>\n",
       "</div>"
      ],
      "text/plain": [
       "  gid_0  country     gid_1  agriculture_usd_2015       lon        lat  \\\n",
       "0   NGA  Nigeria  NGA.37_1          1.815483e+09  6.624997  12.791668   \n",
       "1   NGA  Nigeria  NGA.37_1          1.815483e+09  6.708330  12.791668   \n",
       "2   NGA  Nigeria  NGA.37_1          1.815483e+09  6.791664  12.791668   \n",
       "3   NGA  Nigeria  NGA.18_1          2.143236e+09  8.458330  12.791668   \n",
       "4   NGA  Nigeria  NGA.18_1          2.143236e+09  8.541664  12.791668   \n",
       "\n",
       "      band_var            h3_id gid_1_right    total_band  band_frac  \n",
       "0  8120.799805  8858034957fffff    NGA.37_1  4.579285e+07   0.000177  \n",
       "1  8120.799805  88580348abfffff    NGA.37_1  4.579285e+07   0.000177  \n",
       "2  8120.799805  8858034d1bfffff    NGA.37_1  4.579285e+07   0.000177  \n",
       "3  8120.799805  88580a9a1dfffff    NGA.18_1  3.557801e+07   0.000228  \n",
       "4  8120.799805  88580a91abfffff    NGA.18_1  3.557801e+07   0.000228  "
      ]
     },
     "execution_count": 33,
     "metadata": {},
     "output_type": "execute_result"
    }
   ],
   "source": [
    "print(country_gdf.shape)\n",
    "country_gdf.head()"
   ]
  },
  {
   "cell_type": "markdown",
   "metadata": {},
   "source": [
    "### Check that things add up\n",
    "The previous rescaling operations has resulted in density distributions whithin each region. If we add up the density values for each region, we should get 1. This density has the same behaviour as a standard probability distribution."
   ]
  },
  {
   "cell_type": "code",
   "execution_count": 34,
   "metadata": {},
   "outputs": [
    {
     "data": {
      "application/vnd.microsoft.datawrangler.viewer.v0+json": {
       "columns": [
        {
         "name": "gid_1",
         "rawType": "object",
         "type": "string"
        },
        {
         "name": "band_frac",
         "rawType": "float64",
         "type": "float"
        }
       ],
       "conversionMethod": "pd.DataFrame",
       "ref": "1458d073-8ee7-4927-a83a-afd2f84e300f",
       "rows": [
        [
         "NGA.10_1",
         "1.0"
        ],
        [
         "NGA.11_1",
         "1.0"
        ],
        [
         "NGA.12_1",
         "1.0"
        ],
        [
         "NGA.13_1",
         "1.0"
        ],
        [
         "NGA.15_1",
         "1.0"
        ],
        [
         "NGA.16_1",
         "1.0"
        ],
        [
         "NGA.18_1",
         "1.0"
        ],
        [
         "NGA.19_1",
         "1.0"
        ],
        [
         "NGA.20_1",
         "1.0"
        ],
        [
         "NGA.23_1",
         "1.0"
        ],
        [
         "NGA.27_1",
         "1.0"
        ],
        [
         "NGA.28_1",
         "1.0"
        ],
        [
         "NGA.29_1",
         "1.0"
        ],
        [
         "NGA.30_1",
         "1.0"
        ],
        [
         "NGA.31_1",
         "1.0"
        ],
        [
         "NGA.33_1",
         "1.0"
        ],
        [
         "NGA.37_1",
         "1.0"
        ],
        [
         "NGA.3_1",
         "1.0"
        ],
        [
         "NGA.4_1",
         "1.0"
        ],
        [
         "NGA.5_1",
         "1.0"
        ],
        [
         "NGA.6_1",
         "1.0"
        ],
        [
         "NGA.9_1",
         "1.0"
        ]
       ],
       "shape": {
        "columns": 1,
        "rows": 22
       }
      },
      "text/html": [
       "<div>\n",
       "<style scoped>\n",
       "    .dataframe tbody tr th:only-of-type {\n",
       "        vertical-align: middle;\n",
       "    }\n",
       "\n",
       "    .dataframe tbody tr th {\n",
       "        vertical-align: top;\n",
       "    }\n",
       "\n",
       "    .dataframe thead th {\n",
       "        text-align: right;\n",
       "    }\n",
       "</style>\n",
       "<table border=\"1\" class=\"dataframe\">\n",
       "  <thead>\n",
       "    <tr style=\"text-align: right;\">\n",
       "      <th></th>\n",
       "      <th>band_frac</th>\n",
       "    </tr>\n",
       "    <tr>\n",
       "      <th>gid_1</th>\n",
       "      <th></th>\n",
       "    </tr>\n",
       "  </thead>\n",
       "  <tbody>\n",
       "    <tr>\n",
       "      <th>NGA.10_1</th>\n",
       "      <td>1.0</td>\n",
       "    </tr>\n",
       "    <tr>\n",
       "      <th>NGA.11_1</th>\n",
       "      <td>1.0</td>\n",
       "    </tr>\n",
       "    <tr>\n",
       "      <th>NGA.12_1</th>\n",
       "      <td>1.0</td>\n",
       "    </tr>\n",
       "    <tr>\n",
       "      <th>NGA.13_1</th>\n",
       "      <td>1.0</td>\n",
       "    </tr>\n",
       "    <tr>\n",
       "      <th>NGA.15_1</th>\n",
       "      <td>1.0</td>\n",
       "    </tr>\n",
       "    <tr>\n",
       "      <th>NGA.16_1</th>\n",
       "      <td>1.0</td>\n",
       "    </tr>\n",
       "    <tr>\n",
       "      <th>NGA.18_1</th>\n",
       "      <td>1.0</td>\n",
       "    </tr>\n",
       "    <tr>\n",
       "      <th>NGA.19_1</th>\n",
       "      <td>1.0</td>\n",
       "    </tr>\n",
       "    <tr>\n",
       "      <th>NGA.20_1</th>\n",
       "      <td>1.0</td>\n",
       "    </tr>\n",
       "    <tr>\n",
       "      <th>NGA.23_1</th>\n",
       "      <td>1.0</td>\n",
       "    </tr>\n",
       "    <tr>\n",
       "      <th>NGA.27_1</th>\n",
       "      <td>1.0</td>\n",
       "    </tr>\n",
       "    <tr>\n",
       "      <th>NGA.28_1</th>\n",
       "      <td>1.0</td>\n",
       "    </tr>\n",
       "    <tr>\n",
       "      <th>NGA.29_1</th>\n",
       "      <td>1.0</td>\n",
       "    </tr>\n",
       "    <tr>\n",
       "      <th>NGA.30_1</th>\n",
       "      <td>1.0</td>\n",
       "    </tr>\n",
       "    <tr>\n",
       "      <th>NGA.31_1</th>\n",
       "      <td>1.0</td>\n",
       "    </tr>\n",
       "    <tr>\n",
       "      <th>NGA.33_1</th>\n",
       "      <td>1.0</td>\n",
       "    </tr>\n",
       "    <tr>\n",
       "      <th>NGA.37_1</th>\n",
       "      <td>1.0</td>\n",
       "    </tr>\n",
       "    <tr>\n",
       "      <th>NGA.3_1</th>\n",
       "      <td>1.0</td>\n",
       "    </tr>\n",
       "    <tr>\n",
       "      <th>NGA.4_1</th>\n",
       "      <td>1.0</td>\n",
       "    </tr>\n",
       "    <tr>\n",
       "      <th>NGA.5_1</th>\n",
       "      <td>1.0</td>\n",
       "    </tr>\n",
       "    <tr>\n",
       "      <th>NGA.6_1</th>\n",
       "      <td>1.0</td>\n",
       "    </tr>\n",
       "    <tr>\n",
       "      <th>NGA.9_1</th>\n",
       "      <td>1.0</td>\n",
       "    </tr>\n",
       "  </tbody>\n",
       "</table>\n",
       "</div>"
      ],
      "text/plain": [
       "          band_frac\n",
       "gid_1              \n",
       "NGA.10_1        1.0\n",
       "NGA.11_1        1.0\n",
       "NGA.12_1        1.0\n",
       "NGA.13_1        1.0\n",
       "NGA.15_1        1.0\n",
       "NGA.16_1        1.0\n",
       "NGA.18_1        1.0\n",
       "NGA.19_1        1.0\n",
       "NGA.20_1        1.0\n",
       "NGA.23_1        1.0\n",
       "NGA.27_1        1.0\n",
       "NGA.28_1        1.0\n",
       "NGA.29_1        1.0\n",
       "NGA.30_1        1.0\n",
       "NGA.31_1        1.0\n",
       "NGA.33_1        1.0\n",
       "NGA.37_1        1.0\n",
       "NGA.3_1         1.0\n",
       "NGA.4_1         1.0\n",
       "NGA.5_1         1.0\n",
       "NGA.6_1         1.0\n",
       "NGA.9_1         1.0"
      ]
     },
     "execution_count": 34,
     "metadata": {},
     "output_type": "execute_result"
    }
   ],
   "source": [
    "country_gdf[[\"gid_1\",\"band_frac\"]].groupby(\"gid_1\").agg(\"sum\")\n"
   ]
  },
  {
   "cell_type": "markdown",
   "metadata": {},
   "source": [
    "### Mapping"
   ]
  },
  {
   "cell_type": "markdown",
   "metadata": {},
   "source": [
    "Let's have a look at this. To help us, the `cmap` function from the scalenav plotting module will transform the values into RGB code that pydeck will read : "
   ]
  },
  {
   "cell_type": "code",
   "execution_count": 35,
   "metadata": {},
   "outputs": [],
   "source": [
    "col_pal = \"viridis\"\n",
    "col_pal = pypal.load_cmap(col_pal)"
   ]
  },
  {
   "cell_type": "code",
   "execution_count": 36,
   "metadata": {},
   "outputs": [
    {
     "name": "stdout",
     "output_type": "stream",
     "text": [
      "Max input : 11.06, palette colors : 10\n"
     ]
    },
    {
     "data": {
      "application/vnd.microsoft.datawrangler.viewer.v0+json": {
       "columns": [
        {
         "name": "index",
         "rawType": "int64",
         "type": "integer"
        },
        {
         "name": "gid_0",
         "rawType": "object",
         "type": "string"
        },
        {
         "name": "country",
         "rawType": "object",
         "type": "string"
        },
        {
         "name": "gid_1",
         "rawType": "object",
         "type": "string"
        },
        {
         "name": "agriculture_usd_2015",
         "rawType": "float64",
         "type": "float"
        },
        {
         "name": "lon",
         "rawType": "float32",
         "type": "float"
        },
        {
         "name": "lat",
         "rawType": "float32",
         "type": "float"
        },
        {
         "name": "band_var",
         "rawType": "float32",
         "type": "float"
        },
        {
         "name": "h3_id",
         "rawType": "object",
         "type": "string"
        },
        {
         "name": "gid_1_right",
         "rawType": "object",
         "type": "string"
        },
        {
         "name": "total_band",
         "rawType": "float64",
         "type": "float"
        },
        {
         "name": "band_frac",
         "rawType": "float64",
         "type": "float"
        },
        {
         "name": "color",
         "rawType": "object",
         "type": "unknown"
        }
       ],
       "conversionMethod": "pd.DataFrame",
       "ref": "b3b078cd-21b9-41d8-a098-f7044d93a8f9",
       "rows": [
        [
         "0",
         "NGA",
         "Nigeria",
         "NGA.37_1",
         "1815482717.6746967",
         "6.624997",
         "12.791668",
         "8120.8",
         "8858034957fffff",
         "NGA.37_1",
         "45792846.66666412",
         "0.0001773377371317518",
         "[134, 213, 73, 255]"
        ],
        [
         "1",
         "NGA",
         "Nigeria",
         "NGA.37_1",
         "1815482717.6746967",
         "6.70833",
         "12.791668",
         "8120.8",
         "88580348abfffff",
         "NGA.37_1",
         "45792846.66666412",
         "0.0001773377371317518",
         "[134, 213, 73, 255]"
        ],
        [
         "2",
         "NGA",
         "Nigeria",
         "NGA.37_1",
         "1815482717.6746967",
         "6.7916636",
         "12.791668",
         "8120.8",
         "8858034d1bfffff",
         "NGA.37_1",
         "45792846.66666412",
         "0.0001773377371317518",
         "[134, 213, 73, 255]"
        ],
        [
         "3",
         "NGA",
         "Nigeria",
         "NGA.18_1",
         "2143235516.446304",
         "8.45833",
         "12.791668",
         "8120.8",
         "88580a9a1dfffff",
         "NGA.18_1",
         "35578005.07924843",
         "0.0002282533769557562",
         "[134, 213, 73, 255]"
        ],
        [
         "4",
         "NGA",
         "Nigeria",
         "NGA.18_1",
         "2143235516.446304",
         "8.541664",
         "12.791668",
         "8120.8",
         "88580a91abfffff",
         "NGA.18_1",
         "35578005.07924843",
         "0.0002282533769557562",
         "[134, 213, 73, 255]"
        ]
       ],
       "shape": {
        "columns": 12,
        "rows": 5
       }
      },
      "text/html": [
       "<div>\n",
       "<style scoped>\n",
       "    .dataframe tbody tr th:only-of-type {\n",
       "        vertical-align: middle;\n",
       "    }\n",
       "\n",
       "    .dataframe tbody tr th {\n",
       "        vertical-align: top;\n",
       "    }\n",
       "\n",
       "    .dataframe thead th {\n",
       "        text-align: right;\n",
       "    }\n",
       "</style>\n",
       "<table border=\"1\" class=\"dataframe\">\n",
       "  <thead>\n",
       "    <tr style=\"text-align: right;\">\n",
       "      <th></th>\n",
       "      <th>gid_0</th>\n",
       "      <th>country</th>\n",
       "      <th>gid_1</th>\n",
       "      <th>agriculture_usd_2015</th>\n",
       "      <th>lon</th>\n",
       "      <th>lat</th>\n",
       "      <th>band_var</th>\n",
       "      <th>h3_id</th>\n",
       "      <th>gid_1_right</th>\n",
       "      <th>total_band</th>\n",
       "      <th>band_frac</th>\n",
       "      <th>color</th>\n",
       "    </tr>\n",
       "  </thead>\n",
       "  <tbody>\n",
       "    <tr>\n",
       "      <th>0</th>\n",
       "      <td>NGA</td>\n",
       "      <td>Nigeria</td>\n",
       "      <td>NGA.37_1</td>\n",
       "      <td>1.815483e+09</td>\n",
       "      <td>6.624997</td>\n",
       "      <td>12.791668</td>\n",
       "      <td>8120.799805</td>\n",
       "      <td>8858034957fffff</td>\n",
       "      <td>NGA.37_1</td>\n",
       "      <td>4.579285e+07</td>\n",
       "      <td>0.000177</td>\n",
       "      <td>[134, 213, 73, 255]</td>\n",
       "    </tr>\n",
       "    <tr>\n",
       "      <th>1</th>\n",
       "      <td>NGA</td>\n",
       "      <td>Nigeria</td>\n",
       "      <td>NGA.37_1</td>\n",
       "      <td>1.815483e+09</td>\n",
       "      <td>6.708330</td>\n",
       "      <td>12.791668</td>\n",
       "      <td>8120.799805</td>\n",
       "      <td>88580348abfffff</td>\n",
       "      <td>NGA.37_1</td>\n",
       "      <td>4.579285e+07</td>\n",
       "      <td>0.000177</td>\n",
       "      <td>[134, 213, 73, 255]</td>\n",
       "    </tr>\n",
       "    <tr>\n",
       "      <th>2</th>\n",
       "      <td>NGA</td>\n",
       "      <td>Nigeria</td>\n",
       "      <td>NGA.37_1</td>\n",
       "      <td>1.815483e+09</td>\n",
       "      <td>6.791664</td>\n",
       "      <td>12.791668</td>\n",
       "      <td>8120.799805</td>\n",
       "      <td>8858034d1bfffff</td>\n",
       "      <td>NGA.37_1</td>\n",
       "      <td>4.579285e+07</td>\n",
       "      <td>0.000177</td>\n",
       "      <td>[134, 213, 73, 255]</td>\n",
       "    </tr>\n",
       "    <tr>\n",
       "      <th>3</th>\n",
       "      <td>NGA</td>\n",
       "      <td>Nigeria</td>\n",
       "      <td>NGA.18_1</td>\n",
       "      <td>2.143236e+09</td>\n",
       "      <td>8.458330</td>\n",
       "      <td>12.791668</td>\n",
       "      <td>8120.799805</td>\n",
       "      <td>88580a9a1dfffff</td>\n",
       "      <td>NGA.18_1</td>\n",
       "      <td>3.557801e+07</td>\n",
       "      <td>0.000228</td>\n",
       "      <td>[134, 213, 73, 255]</td>\n",
       "    </tr>\n",
       "    <tr>\n",
       "      <th>4</th>\n",
       "      <td>NGA</td>\n",
       "      <td>Nigeria</td>\n",
       "      <td>NGA.18_1</td>\n",
       "      <td>2.143236e+09</td>\n",
       "      <td>8.541664</td>\n",
       "      <td>12.791668</td>\n",
       "      <td>8120.799805</td>\n",
       "      <td>88580a91abfffff</td>\n",
       "      <td>NGA.18_1</td>\n",
       "      <td>3.557801e+07</td>\n",
       "      <td>0.000228</td>\n",
       "      <td>[134, 213, 73, 255]</td>\n",
       "    </tr>\n",
       "  </tbody>\n",
       "</table>\n",
       "</div>"
      ],
      "text/plain": [
       "  gid_0  country     gid_1  agriculture_usd_2015       lon        lat  \\\n",
       "0   NGA  Nigeria  NGA.37_1          1.815483e+09  6.624997  12.791668   \n",
       "1   NGA  Nigeria  NGA.37_1          1.815483e+09  6.708330  12.791668   \n",
       "2   NGA  Nigeria  NGA.37_1          1.815483e+09  6.791664  12.791668   \n",
       "3   NGA  Nigeria  NGA.18_1          2.143236e+09  8.458330  12.791668   \n",
       "4   NGA  Nigeria  NGA.18_1          2.143236e+09  8.541664  12.791668   \n",
       "\n",
       "      band_var            h3_id gid_1_right    total_band  band_frac  \\\n",
       "0  8120.799805  8858034957fffff    NGA.37_1  4.579285e+07   0.000177   \n",
       "1  8120.799805  88580348abfffff    NGA.37_1  4.579285e+07   0.000177   \n",
       "2  8120.799805  8858034d1bfffff    NGA.37_1  4.579285e+07   0.000177   \n",
       "3  8120.799805  88580a9a1dfffff    NGA.18_1  3.557801e+07   0.000228   \n",
       "4  8120.799805  88580a91abfffff    NGA.18_1  3.557801e+07   0.000228   \n",
       "\n",
       "                 color  \n",
       "0  [134, 213, 73, 255]  \n",
       "1  [134, 213, 73, 255]  \n",
       "2  [134, 213, 73, 255]  \n",
       "3  [134, 213, 73, 255]  \n",
       "4  [134, 213, 73, 255]  "
      ]
     },
     "execution_count": 36,
     "metadata": {},
     "output_type": "execute_result"
    }
   ],
   "source": [
    "cols =  cmap((country_gdf.band_var),palette=col_pal,log=True) #pd.Series([[255*j for j in x] for x in bmlunge(compact_geo_downscaled[\"log_value\"])])\n",
    "country_gdf[\"color\"] = cols\n",
    "country_gdf.head(5)"
   ]
  },
  {
   "cell_type": "code",
   "execution_count": 37,
   "metadata": {},
   "outputs": [],
   "source": [
    "view_state = pdk.data_utils.compute_view(points=country_gdf[[\"lon\",\"lat\"]])\n"
   ]
  },
  {
   "cell_type": "code",
   "execution_count": 38,
   "metadata": {},
   "outputs": [],
   "source": [
    "# # this map is not really usefull at high resolutions\n",
    "\n",
    "# h3_layer_down = pdk.Layer(\n",
    "#     \"H3HexagonLayer\",\n",
    "#     country_gdf[[\"gid_0\",\"gid_1\",\"h3_id\",\"total_band\",\"color\"]],\n",
    "#     pickable=True,\n",
    "#     stroked=True,\n",
    "#     filled=True,\n",
    "#     opacity=.8,\n",
    "#     extruded=False,\n",
    "#     get_hexagon= \"h3_id\",\n",
    "#     get_fill_color = \"color\",\n",
    "#     get_line_color= [0, 0, 0, 100],\n",
    "#     line_width_min_pixels=0,\n",
    "#     line_width_max_pixels=1,\n",
    "# )\n",
    "\n",
    "\n",
    "layer_down = pdk.Layer(\n",
    "    \"ScatterplotLayer\",\n",
    "    country_gdf[[\"lon\",\"lat\"]],\n",
    "    pickable=False,\n",
    "    opacity=0.4,\n",
    "    stroked=False,\n",
    "    filled=True,\n",
    "    radius_scale=6,\n",
    "    radius_min_pixels=1,\n",
    "    radius_max_pixels=10,\n",
    "    line_width_min_pixels=1,\n",
    "    get_position = [\"lon\",\"lat\"],\n",
    "    get_radius=50,\n",
    "    get_fill_color=[255, 140, 0, 255],\n",
    "    get_line_color=[0, 0, 0, 0],\n",
    ")\n"
   ]
  },
  {
   "cell_type": "code",
   "execution_count": 10,
   "metadata": {},
   "outputs": [],
   "source": [
    "# # Create mapdeck object\n",
    "# deck_map_down = pdk.Deck(layers=[\n",
    "#     # h3_layer_down,\n",
    "#     layer_down\n",
    "#     ]\n",
    "#              ,initial_view_state=view_state\n",
    "#             #  ,tooltip= {\"text\": \"Value :  {h3_id_gdp}\"}\n",
    "#              ,height=800\n",
    "#              ,map_style=\"road\"\n",
    "#              )\n",
    "\n",
    "# deck_map_down.to_html(\"../../deck_maps/deck_ghsl_h3_down_grid.html\")"
   ]
  },
  {
   "cell_type": "markdown",
   "metadata": {},
   "source": [
    "## Gridding\n",
    "\n",
    "At this point, we come to a limitation. The developed process to convert raster grids into their centroids, and then projecting the centroids into h3 only gives the index values for the centroids. Ideally, we want to have an H3 grid covering the area that was covered by the rater in which the cells have an assigned value from the original. For this, a process referred to as gridding was implemented. It consists in filling the empty space between cell centroids with other cells, and then redistributing the variable on them based on the proximity to the centroid.\n",
    "\n",
    "The following function assists us with that, it computes the neighbourhood (set of h3 neighbouring cells) needed to fill the space around a given centre cell, covering an area roughly equivalent to the original raster grid cell."
   ]
  },
  {
   "cell_type": "code",
   "execution_count": 40,
   "metadata": {},
   "outputs": [
    {
     "name": "stdout",
     "output_type": "stream",
     "text": [
      "Using angles for meter grid.\n"
     ]
    }
   ],
   "source": [
    "rast_to_h3 = dt.rast_to_h3_map(x=country_gdf[\"lon\"].mean(),y = country_gdf[\"lat\"].mean())"
   ]
  },
  {
   "cell_type": "code",
   "execution_count": 41,
   "metadata": {},
   "outputs": [],
   "source": [
    "# ideally, this is precomputed, but for some reason it has not worked...\n",
    "neighbs = rast_to_h3[str(grid_param)][\"nn\"]\n",
    "\n",
    "country_gdf[\"h3_gridded\"] = pd.Series(country_gdf.apply(lambda row: dt.centre_cell_to_square(h3_cell = row[\"h3_id\"],neighbs=neighbs),axis=1).tolist())"
   ]
  },
  {
   "cell_type": "code",
   "execution_count": 42,
   "metadata": {},
   "outputs": [],
   "source": [
    "country_gdf.dropna(subset=[\"h3_gridded\"],inplace=True)"
   ]
  },
  {
   "cell_type": "markdown",
   "metadata": {},
   "source": [
    "As a result of this process, a new variable is added to the dataframe containing a list of cells that are asigned to the centroid. Similarly to a voronoi process."
   ]
  },
  {
   "cell_type": "code",
   "execution_count": 43,
   "metadata": {},
   "outputs": [
    {
     "data": {
      "application/vnd.microsoft.datawrangler.viewer.v0+json": {
       "columns": [
        {
         "name": "index",
         "rawType": "int64",
         "type": "integer"
        },
        {
         "name": "gid_0",
         "rawType": "object",
         "type": "string"
        },
        {
         "name": "country",
         "rawType": "object",
         "type": "string"
        },
        {
         "name": "gid_1",
         "rawType": "object",
         "type": "string"
        },
        {
         "name": "agriculture_usd_2015",
         "rawType": "float64",
         "type": "float"
        },
        {
         "name": "lon",
         "rawType": "float32",
         "type": "float"
        },
        {
         "name": "lat",
         "rawType": "float32",
         "type": "float"
        },
        {
         "name": "band_var",
         "rawType": "float32",
         "type": "float"
        },
        {
         "name": "h3_id",
         "rawType": "object",
         "type": "string"
        },
        {
         "name": "gid_1_right",
         "rawType": "object",
         "type": "string"
        },
        {
         "name": "total_band",
         "rawType": "float64",
         "type": "float"
        },
        {
         "name": "band_frac",
         "rawType": "float64",
         "type": "float"
        },
        {
         "name": "color",
         "rawType": "object",
         "type": "unknown"
        },
        {
         "name": "h3_gridded",
         "rawType": "object",
         "type": "unknown"
        }
       ],
       "conversionMethod": "pd.DataFrame",
       "ref": "a3a604d6-d07d-49f4-b414-fdf322165ad8",
       "rows": [
        [
         "0",
         "NGA",
         "Nigeria",
         "NGA.37_1",
         "1815482717.6746967",
         "6.624997",
         "12.791668",
         "8120.8",
         "8858034957fffff",
         "NGA.37_1",
         "45792846.66666412",
         "0.0001773377371317518",
         "[134, 213, 73, 255]",
         "['8858034839fffff', '8858034911fffff', '88581c86c1fffff', '885803482dfffff', '885803480bfffff', '88581c8657fffff', '88580349c9fffff', '88581c9497fffff', '885803495bfffff', '88580349cdfffff', '8858034913fffff', '8858034951fffff', '8858034935fffff', '8858034b03fffff', '885803481dfffff', '8858034825fffff', '8858034953fffff', '88581c861bfffff', '8858034937fffff', '8858034801fffff', '8858034827fffff', '8858034865fffff', '88581c86ddfffff', '88581c86cdfffff', '88581c865bfffff', '88581c86c9fffff', '8858034837fffff', '8858034989fffff', '8858034803fffff', '885803491bfffff', '8858034919fffff', '8858034867fffff', '88581c8611fffff', '885803492dfffff', '8858034855fffff', '8858034843fffff', '8858034959fffff', '88581c8651fffff', '8858034815fffff', '88581c86dbfffff', '8858034b39fffff', '8858034857fffff', '88581c86cbfffff', '885803492bfffff', '8858034925fffff', '88581c8653fffff', '8858034835fffff', '88580349adfffff', '8858034949fffff', '8858034809fffff', '885803493dfffff', '885803496bfffff', '8858034927fffff', '8858034965fffff', '88581c86d1fffff', '8858034921fffff', '885803496dfffff', '885803490dfffff', '88580349abfffff', '88581c8619fffff', '8858034b17fffff', '8858034967fffff', '88581c86d3fffff', '8858034923fffff', '8858034961fffff', '88580349ebfffff', '88580349c3fffff', '88581c8659fffff', '8858034b37fffff', '8858034909fffff', '88580349e5fffff', '8858034b13fffff', '8858034905fffff', '8858034963fffff', '88580349a1fffff', '885803498dfffff', '88580349e7fffff', '88581c949bfffff', '8858034831fffff', '8858034907fffff', '8858034b15fffff', '8858034945fffff', '88580349a3fffff', '88580349e1fffff', '88581c86d9fffff', '88581c861dfffff', '88580349c1fffff', '885803494dfffff', '8858034b35fffff', '8858034957fffff', '8858034929fffff', '8858034947fffff', '8858034985fffff', '88580349e3fffff', '8858034853fffff', '88581c9491fffff', '8858034b2dfffff', '8858034969fffff', '88580349c5fffff', '88581c9493fffff', '8858034b33fffff', '885803493bfffff', '88580349a9fffff', '88580349c7fffff', '8858034b2bfffff', '88581c860bfffff', '88580349ddfffff', '8858034981fffff', '8858034943fffff', '8858034955fffff', '8858034b25fffff', '88580349edfffff', '88580349e9fffff', '8858034b3dfffff', '8858034b27fffff', '8858034931fffff', '8858034b21fffff', '885803482bfffff', '8858034933fffff', '8858034b23fffff', '8858034b31fffff', '885803483dfffff', '885803486bfffff', '8858034915fffff', '8858034b05fffff', '8858034b63fffff', '88580349cbfffff', '8858034821fffff', '8858034941fffff', '8858034903fffff', '885803480dfffff', '8858034917fffff', '8858034b07fffff', '8858034823fffff', '8858034861fffff', '8858034939fffff', '8858034b29fffff', '8858034869fffff', '8858034805fffff', '8858034863fffff', '885803486dfffff', '885803490bfffff', '8858034807fffff', '8858034845fffff', '885803491dfffff', '885803494bfffff', '8858034b3bfffff', '8858034829fffff', '885803495dfffff', '8858034901fffff', '8858034847fffff']"
        ],
        [
         "1",
         "NGA",
         "Nigeria",
         "NGA.37_1",
         "1815482717.6746967",
         "6.70833",
         "12.791668",
         "8120.8",
         "88580348abfffff",
         "NGA.37_1",
         "45792846.66666412",
         "0.0001773377371317518",
         "[134, 213, 73, 255]",
         "['8858034d4dfffff', '88580348b5fffff', '88581cb265fffff', '8858034883fffff', '8858034f21fffff', '88580349abfffff', '8858034d6dfffff', '88580349cbfffff', '8858034881fffff', '88580348b3fffff', '88580348b7fffff', '8858034885fffff', '88581cb269fffff', '8858034aa7fffff', '8858034f23fffff', '88580348b9fffff', '8858034887fffff', '88580349b1fffff', '88581cb26bfffff', '8858034f25fffff', '88580348bbfffff', '8858034889fffff', '88581cb263fffff', '88580349b3fffff', '8858034981fffff', '88581cb26dfffff', '8858034d6bfffff', '8858034d2dfffff', '8858034f27fffff', '88580348b1fffff', '88580348bdfffff', '885803488bfffff', '88580349b5fffff', '8858034983fffff', '8858034f29fffff', '8858034f67fffff', '885803488dfffff', '8858034985fffff', '8858034d49fffff', '88581cb201fffff', '88580348cdfffff', '8858034f2bfffff', '88581cb261fffff', '8858034991fffff', '88580349b9fffff', '8858034987fffff', '8858034d69fffff', '88581cb203fffff', '88580348edfffff', '8858034f2dfffff', '8858034993fffff', '88580349d1fffff', '88580349bbfffff', '8858034989fffff', '88581cb205fffff', '8858034995fffff', '88580349c3fffff', '88580349d3fffff', '88581cb211fffff', '88580349bdfffff', '88580348cbfffff', '885803498bfffff', '88581cb207fffff', '8858034997fffff', '88580349d5fffff', '88581cb251fffff', '8858034d67fffff', '885803498dfffff', '88580348ebfffff', '88580348adfffff', '88581cb209fffff', '8858034ab7fffff', '8858034999fffff', '88580349d7fffff', '88581cb215fffff', '88581cb253fffff', '88581cb20bfffff', '8858034831fffff', '8858034d45fffff', '885803499bfffff', '88580348c9fffff', '88580349d9fffff', '88581cb217fffff', '88581cb255fffff', '88581cb20dfffff', '88580349a3fffff', '8858034d65fffff', '8858034833fffff', '88580348e9fffff', '88580348abfffff', '885803499dfffff', '88580349dbfffff', '88581cb219fffff', '88581cb257fffff', '8858034f07fffff', '8858034835fffff', '8858034803fffff', '88580349ddfffff', '88581cb259fffff', '8858034837fffff', '88580348c7fffff', '88581cb241fffff', '88581cb21dfffff', '88581cb25bfffff', '8858034811fffff', '88580349a1fffff', '8858034d63fffff', '8858034d25fffff', '88580348e7fffff', '88580348a9fffff', '8858034839fffff', '88581cb243fffff', '88581cb25dfffff', '8858034813fffff', '885803483bfffff', '88581cb245fffff', '8858034815fffff', '8858034891fffff', '88581cb247fffff', '8858034817fffff', '88580348c5fffff', '8858034893fffff', '88580348d1fffff', '88581cb249fffff', '8858034819fffff', '8858034857fffff', '8858034d61fffff', '8858034895fffff', '88580348e5fffff', '88580348a7fffff', '88580348d3fffff', '88581cb24bfffff', '885803481bfffff', '8858034897fffff', '88580348d5fffff', '88581cb24dfffff', '885803481dfffff', '88580348ddfffff', '8858034899fffff', '88580348d7fffff', '88580348c3fffff', '88580348a1fffff', '885803489bfffff', '88580348d9fffff', '88580348a3fffff', '88580348e1fffff', '88580348c1fffff', '885803489dfffff', '88580348e3fffff', '88580348a5fffff', '88580348dbfffff']"
        ],
        [
         "2",
         "NGA",
         "Nigeria",
         "NGA.37_1",
         "1815482717.6746967",
         "6.7916636",
         "12.791668",
         "8120.8",
         "8858034d1bfffff",
         "NGA.37_1",
         "45792846.66666412",
         "0.0001773377371317518",
         "[134, 213, 73, 255]",
         "['8858034cedfffff', '8858034dc5fffff', '88581cb2d5fffff', '8858034c23fffff', '8858034c11fffff', '88581cb21bfffff', '8858034dddfffff', '8858034d6bfffff', '8858034c21fffff', '8858034dc3fffff', '8858034dc7fffff', '8858034c25fffff', '88581cb2d9fffff', '8858034f17fffff', '8858034c13fffff', '8858034dc9fffff', '8858034c27fffff', '88581cb2c1fffff', '88581cb2dbfffff', '8858034c15fffff', '8858034dcbfffff', '8858034c29fffff', '88581cb2d3fffff', '88581cb2c3fffff', '8858034d21fffff', '88581cb2ddfffff', '8858034ddbfffff', '8858034d9dfffff', '8858034c17fffff', '8858034dc1fffff', '8858034dcdfffff', '8858034c2bfffff', '88581cb2c5fffff', '8858034d23fffff', '8858034c19fffff', '8858034c57fffff', '8858034c2dfffff', '8858034d25fffff', '8858034ce9fffff', '8858034da1fffff', '8858034c6dfffff', '8858034c1bfffff', '88581cb2d1fffff', '8858034d31fffff', '88581cb2c9fffff', '8858034d27fffff', '8858034dd9fffff', '8858034da3fffff', '8858034d5dfffff', '8858034c1dfffff', '8858034d33fffff', '8858034d01fffff', '88581cb2cbfffff', '8858034d29fffff', '8858034da5fffff', '8858034d35fffff', '8858034d63fffff', '8858034d03fffff', '8858034db1fffff', '88581cb2cdfffff', '8858034c6bfffff', '8858034d2bfffff', '8858034da7fffff', '8858034d37fffff', '8858034d05fffff', '8858034d81fffff', '8858034dd7fffff', '8858034d2dfffff', '8858034d5bfffff', '8858034d1dfffff', '8858034da9fffff', '8858034c47fffff', '8858034d39fffff', '8858034d07fffff', '8858034db5fffff', '8858034d83fffff', '8858034dabfffff', '8858034d41fffff', '8858034ce5fffff', '8858034d3bfffff', '8858034c69fffff', '8858034d09fffff', '8858034db7fffff', '8858034d85fffff', '8858034dadfffff', '88581cb213fffff', '8858034dd5fffff', '8858034d43fffff', '8858034d59fffff', '8858034d1bfffff', '8858034d3dfffff', '8858034d0bfffff', '8858034db9fffff', '8858034d87fffff', '8858034ea7fffff', '8858034d45fffff', '8858034f23fffff', '8858034d0dfffff', '8858034d89fffff', '8858034d47fffff', '8858034c67fffff', '8858034de1fffff', '8858034dbdfffff', '8858034d8bfffff', '8858034f31fffff', '88581cb211fffff', '8858034dd3fffff', '8858034d95fffff', '8858034d57fffff', '8858034d19fffff', '8858034d49fffff', '8858034de3fffff', '8858034d8dfffff', '8858034f33fffff', '8858034d4bfffff', '8858034de5fffff', '8858034f35fffff', '8858034c31fffff', '8858034de7fffff', '8858034f37fffff', '8858034c65fffff', '8858034c33fffff', '8858034c01fffff', '8858034de9fffff', '8858034f39fffff', '8858034f07fffff', '8858034dd1fffff', '8858034c35fffff', '8858034d55fffff', '8858034d17fffff', '8858034c03fffff', '8858034debfffff', '8858034f3bfffff', '8858034c37fffff', '8858034c05fffff', '8858034dedfffff', '8858034f3dfffff', '8858034c0dfffff', '8858034c39fffff', '8858034c07fffff', '8858034c63fffff', '8858034d11fffff', '8858034c3bfffff', '8858034c09fffff', '8858034d13fffff', '8858034d51fffff', '8858034c61fffff', '8858034c3dfffff', '8858034d53fffff', '8858034d15fffff', '8858034c0bfffff']"
        ],
        [
         "3",
         "NGA",
         "Nigeria",
         "NGA.18_1",
         "2143235516.446304",
         "8.45833",
         "12.791668",
         "8120.8",
         "88580a9a1dfffff",
         "NGA.18_1",
         "35578005.07924843",
         "0.0002282533769557562",
         "[134, 213, 73, 255]",
         "['88580a9131fffff', '88580a9a17fffff', '88580a9847fffff', '88580a9125fffff', '88580a9103fffff', '88580a9b1dfffff', '88580a9ac1fffff', '88580a9a6dfffff', '88580a9a53fffff', '88580a9ac5fffff', '88580a9ae9fffff', '88580a9a57fffff', '88580a984bfffff', '88580e64b9fffff', '88580a9115fffff', '88580a9a1bfffff', '88580a9a19fffff', '88580a9b13fffff', '88580a985dfffff', '88580a9107fffff', '88580a9acdfffff', '88580a9a5bfffff', '88580a9855fffff', '88580a9845fffff', '88580a9b53fffff', '88580a9841fffff', '88580a9addfffff', '88580a9a81fffff', '88580a9139fffff', '88580a9a13fffff', '88580a9a11fffff', '88580a912dfffff', '88580a9b17fffff', '88580a9a25fffff', '88580a910bfffff', '88580a9109fffff', '88580a9a51fffff', '88580a9b57fffff', '88580a913bfffff', '88580a9853fffff', '88580e64b1fffff', '88580a911dfffff', '88580a9843fffff', '88580a9a23fffff', '88580a9b1bfffff', '88580a9b19fffff', '88580a9acbfffff', '88580a9aa5fffff', '88580a9a41fffff', '88580a9101fffff', '88580a9a35fffff', '88580a9a63fffff', '88580a984dfffff', '88580a9b5bfffff', '88580a9857fffff', '88580a9a27fffff', '88580a9a65fffff', '88580a9a05fffff', '88580a9aa3fffff', '88580a9b11fffff', '88580a916dfffff', '88580a9a2dfffff', '88580a9819fffff', '88580a9849fffff', '88580a9a67fffff', '88580a9ae3fffff', '88580a9a89fffff', '88580a9b51fffff', '88580a9a5dfffff', '88580a9a01fffff', '88580a985bfffff', '88580a9169fffff', '88580a9a2bfffff', '88580a9a29fffff', '88580a9aa7fffff', '88580a9a85fffff', '88580a9aadfffff', '88580e6593fffff', '88580a9137fffff', '88580a9a3dfffff', '88580e64bbfffff', '88580a9a6bfffff', '88580a98c9fffff', '88580a9ae7fffff', '88580a9851fffff', '88580a9b15fffff', '88580a9ac7fffff', '88580a9a45fffff', '88580a9a4bfffff', '88580a9a1dfffff', '88580a9a21fffff', '88580a9a0dfffff', '88580a9aabfffff', '88580a9aa9fffff', '88580a9119fffff', '88580e6597fffff', '88580e64a5fffff', '88580a9a61fffff', '88580a9aebfffff', '88580a9a69fffff', '88580a9a59fffff', '88580a9a33fffff', '88580a9aa1fffff', '88580a9a8dfffff', '88580e64a3fffff', '88580a9b03fffff', '88580a9ad5fffff', '88580a9a87fffff', '88580a9a09fffff', '88580a9a0bfffff', '88580e659bfffff', '88580a9ae5fffff', '88580a9ae1fffff', '88580e64b5fffff', '88580a9a4dfffff', '88580a9a37fffff', '88580e64a7fffff', '88580a9123fffff', '88580a9859fffff', '88580a9a49fffff', '88580e64b7fffff', '88580a9135fffff', '88580a9163fffff', '88580a9a3bfffff', '88580e64abfffff', '88580e64a9fffff', '88580a9ac3fffff', '88580a9127fffff', '88580a9a47fffff', '88580a9a39fffff', '88580a9105fffff', '88580a9aedfffff', '88580e64bdfffff', '88580a9ac9fffff', '88580a9167fffff', '88580a9a31fffff', '88580e64a1fffff', '88580a9161fffff', '88580a912bfffff', '88580a9129fffff', '88580a9165fffff', '88580a9a03fffff', '88580a913dfffff', '88580a916bfffff', '88580a9a15fffff', '88580a9a43fffff', '88580e64b3fffff', '88580a9121fffff', '88580a9a55fffff', '88580a9a07fffff', '88580a910dfffff']"
        ],
        [
         "4",
         "NGA",
         "Nigeria",
         "NGA.18_1",
         "2143235516.446304",
         "8.541664",
         "12.791668",
         "8120.8",
         "88580a91abfffff",
         "NGA.18_1",
         "35578005.07924843",
         "0.0002282533769557562",
         "[134, 213, 73, 255]",
         "['88580a824dfffff', '88580a91b5fffff', '88580a8365fffff', '88580a9183fffff', '88580a90a1fffff', '88580a9aabfffff', '88580a826dfffff', '88580a9acbfffff', '88580a9181fffff', '88580a91b3fffff', '88580a91b7fffff', '88580a9185fffff', '88580a8369fffff', '88580a9027fffff', '88580a90a3fffff', '88580a91b9fffff', '88580a9187fffff', '88580a9ab1fffff', '88580a836bfffff', '88580a90a5fffff', '88580a91bbfffff', '88580a9189fffff', '88580a8363fffff', '88580a9ab3fffff', '88580a9a81fffff', '88580a836dfffff', '88580a826bfffff', '88580a822dfffff', '88580a90a7fffff', '88580a91b1fffff', '88580a91bdfffff', '88580a918bfffff', '88580a9ab5fffff', '88580a9a83fffff', '88580a90a9fffff', '88580a90e7fffff', '88580a918dfffff', '88580a9a85fffff', '88580a8249fffff', '88580a8301fffff', '88580a91cdfffff', '88580a90abfffff', '88580a8361fffff', '88580a9a91fffff', '88580a9ab9fffff', '88580a9a87fffff', '88580a8269fffff', '88580a8303fffff', '88580a91edfffff', '88580a90adfffff', '88580a9a93fffff', '88580a9ad1fffff', '88580a9abbfffff', '88580a9a89fffff', '88580a8305fffff', '88580a9a95fffff', '88580a9ac3fffff', '88580a9ad3fffff', '88580a8311fffff', '88580a9abdfffff', '88580a91cbfffff', '88580a9a8bfffff', '88580a8307fffff', '88580a9a97fffff', '88580a9ad5fffff', '88580a8351fffff', '88580a8267fffff', '88580a9a8dfffff', '88580a91ebfffff', '88580a91adfffff', '88580a8309fffff', '88580a9037fffff', '88580a9a99fffff', '88580a9ad7fffff', '88580a8315fffff', '88580a8353fffff', '88580a830bfffff', '88580a9131fffff', '88580a8245fffff', '88580a9a9bfffff', '88580a91c9fffff', '88580a9ad9fffff', '88580a8317fffff', '88580a8355fffff', '88580a830dfffff', '88580a9aa3fffff', '88580a8265fffff', '88580a9133fffff', '88580a91e9fffff', '88580a91abfffff', '88580a9a9dfffff', '88580a9adbfffff', '88580a8319fffff', '88580a8357fffff', '88580a9087fffff', '88580a9135fffff', '88580a9103fffff', '88580a9addfffff', '88580a8359fffff', '88580a9137fffff', '88580a91c7fffff', '88580a8341fffff', '88580a831dfffff', '88580a835bfffff', '88580a9111fffff', '88580a9aa1fffff', '88580a8263fffff', '88580a8225fffff', '88580a91e7fffff', '88580a91a9fffff', '88580a9139fffff', '88580a8343fffff', '88580a835dfffff', '88580a9113fffff', '88580a913bfffff', '88580a8345fffff', '88580a9115fffff', '88580a9191fffff', '88580a8347fffff', '88580a9117fffff', '88580a91c5fffff', '88580a9193fffff', '88580a91d1fffff', '88580a8349fffff', '88580a9119fffff', '88580a9157fffff', '88580a8261fffff', '88580a9195fffff', '88580a91e5fffff', '88580a91a7fffff', '88580a91d3fffff', '88580a834bfffff', '88580a911bfffff', '88580a9197fffff', '88580a91d5fffff', '88580a834dfffff', '88580a911dfffff', '88580a91ddfffff', '88580a9199fffff', '88580a91d7fffff', '88580a91c3fffff', '88580a91a1fffff', '88580a919bfffff', '88580a91d9fffff', '88580a91a3fffff', '88580a91e1fffff', '88580a91c1fffff', '88580a919dfffff', '88580a91e3fffff', '88580a91a5fffff', '88580a91dbfffff']"
        ]
       ],
       "shape": {
        "columns": 13,
        "rows": 5
       }
      },
      "text/html": [
       "<div>\n",
       "<style scoped>\n",
       "    .dataframe tbody tr th:only-of-type {\n",
       "        vertical-align: middle;\n",
       "    }\n",
       "\n",
       "    .dataframe tbody tr th {\n",
       "        vertical-align: top;\n",
       "    }\n",
       "\n",
       "    .dataframe thead th {\n",
       "        text-align: right;\n",
       "    }\n",
       "</style>\n",
       "<table border=\"1\" class=\"dataframe\">\n",
       "  <thead>\n",
       "    <tr style=\"text-align: right;\">\n",
       "      <th></th>\n",
       "      <th>gid_0</th>\n",
       "      <th>country</th>\n",
       "      <th>gid_1</th>\n",
       "      <th>agriculture_usd_2015</th>\n",
       "      <th>lon</th>\n",
       "      <th>lat</th>\n",
       "      <th>band_var</th>\n",
       "      <th>h3_id</th>\n",
       "      <th>gid_1_right</th>\n",
       "      <th>total_band</th>\n",
       "      <th>band_frac</th>\n",
       "      <th>color</th>\n",
       "      <th>h3_gridded</th>\n",
       "    </tr>\n",
       "  </thead>\n",
       "  <tbody>\n",
       "    <tr>\n",
       "      <th>0</th>\n",
       "      <td>NGA</td>\n",
       "      <td>Nigeria</td>\n",
       "      <td>NGA.37_1</td>\n",
       "      <td>1.815483e+09</td>\n",
       "      <td>6.624997</td>\n",
       "      <td>12.791668</td>\n",
       "      <td>8120.799805</td>\n",
       "      <td>8858034957fffff</td>\n",
       "      <td>NGA.37_1</td>\n",
       "      <td>4.579285e+07</td>\n",
       "      <td>0.000177</td>\n",
       "      <td>[134, 213, 73, 255]</td>\n",
       "      <td>[8858034839fffff, 8858034911fffff, 88581c86c1f...</td>\n",
       "    </tr>\n",
       "    <tr>\n",
       "      <th>1</th>\n",
       "      <td>NGA</td>\n",
       "      <td>Nigeria</td>\n",
       "      <td>NGA.37_1</td>\n",
       "      <td>1.815483e+09</td>\n",
       "      <td>6.708330</td>\n",
       "      <td>12.791668</td>\n",
       "      <td>8120.799805</td>\n",
       "      <td>88580348abfffff</td>\n",
       "      <td>NGA.37_1</td>\n",
       "      <td>4.579285e+07</td>\n",
       "      <td>0.000177</td>\n",
       "      <td>[134, 213, 73, 255]</td>\n",
       "      <td>[8858034d4dfffff, 88580348b5fffff, 88581cb265f...</td>\n",
       "    </tr>\n",
       "    <tr>\n",
       "      <th>2</th>\n",
       "      <td>NGA</td>\n",
       "      <td>Nigeria</td>\n",
       "      <td>NGA.37_1</td>\n",
       "      <td>1.815483e+09</td>\n",
       "      <td>6.791664</td>\n",
       "      <td>12.791668</td>\n",
       "      <td>8120.799805</td>\n",
       "      <td>8858034d1bfffff</td>\n",
       "      <td>NGA.37_1</td>\n",
       "      <td>4.579285e+07</td>\n",
       "      <td>0.000177</td>\n",
       "      <td>[134, 213, 73, 255]</td>\n",
       "      <td>[8858034cedfffff, 8858034dc5fffff, 88581cb2d5f...</td>\n",
       "    </tr>\n",
       "    <tr>\n",
       "      <th>3</th>\n",
       "      <td>NGA</td>\n",
       "      <td>Nigeria</td>\n",
       "      <td>NGA.18_1</td>\n",
       "      <td>2.143236e+09</td>\n",
       "      <td>8.458330</td>\n",
       "      <td>12.791668</td>\n",
       "      <td>8120.799805</td>\n",
       "      <td>88580a9a1dfffff</td>\n",
       "      <td>NGA.18_1</td>\n",
       "      <td>3.557801e+07</td>\n",
       "      <td>0.000228</td>\n",
       "      <td>[134, 213, 73, 255]</td>\n",
       "      <td>[88580a9131fffff, 88580a9a17fffff, 88580a9847f...</td>\n",
       "    </tr>\n",
       "    <tr>\n",
       "      <th>4</th>\n",
       "      <td>NGA</td>\n",
       "      <td>Nigeria</td>\n",
       "      <td>NGA.18_1</td>\n",
       "      <td>2.143236e+09</td>\n",
       "      <td>8.541664</td>\n",
       "      <td>12.791668</td>\n",
       "      <td>8120.799805</td>\n",
       "      <td>88580a91abfffff</td>\n",
       "      <td>NGA.18_1</td>\n",
       "      <td>3.557801e+07</td>\n",
       "      <td>0.000228</td>\n",
       "      <td>[134, 213, 73, 255]</td>\n",
       "      <td>[88580a824dfffff, 88580a91b5fffff, 88580a8365f...</td>\n",
       "    </tr>\n",
       "  </tbody>\n",
       "</table>\n",
       "</div>"
      ],
      "text/plain": [
       "  gid_0  country     gid_1  agriculture_usd_2015       lon        lat  \\\n",
       "0   NGA  Nigeria  NGA.37_1          1.815483e+09  6.624997  12.791668   \n",
       "1   NGA  Nigeria  NGA.37_1          1.815483e+09  6.708330  12.791668   \n",
       "2   NGA  Nigeria  NGA.37_1          1.815483e+09  6.791664  12.791668   \n",
       "3   NGA  Nigeria  NGA.18_1          2.143236e+09  8.458330  12.791668   \n",
       "4   NGA  Nigeria  NGA.18_1          2.143236e+09  8.541664  12.791668   \n",
       "\n",
       "      band_var            h3_id gid_1_right    total_band  band_frac  \\\n",
       "0  8120.799805  8858034957fffff    NGA.37_1  4.579285e+07   0.000177   \n",
       "1  8120.799805  88580348abfffff    NGA.37_1  4.579285e+07   0.000177   \n",
       "2  8120.799805  8858034d1bfffff    NGA.37_1  4.579285e+07   0.000177   \n",
       "3  8120.799805  88580a9a1dfffff    NGA.18_1  3.557801e+07   0.000228   \n",
       "4  8120.799805  88580a91abfffff    NGA.18_1  3.557801e+07   0.000228   \n",
       "\n",
       "                 color                                         h3_gridded  \n",
       "0  [134, 213, 73, 255]  [8858034839fffff, 8858034911fffff, 88581c86c1f...  \n",
       "1  [134, 213, 73, 255]  [8858034d4dfffff, 88580348b5fffff, 88581cb265f...  \n",
       "2  [134, 213, 73, 255]  [8858034cedfffff, 8858034dc5fffff, 88581cb2d5f...  \n",
       "3  [134, 213, 73, 255]  [88580a9131fffff, 88580a9a17fffff, 88580a9847f...  \n",
       "4  [134, 213, 73, 255]  [88580a824dfffff, 88580a91b5fffff, 88580a8365f...  "
      ]
     },
     "execution_count": 43,
     "metadata": {},
     "output_type": "execute_result"
    }
   ],
   "source": [
    "country_gdf.head()"
   ]
  },
  {
   "cell_type": "markdown",
   "metadata": {},
   "source": [
    "### Gridded data set \n",
    "TO get the full data, we 'explode' the variable : "
   ]
  },
  {
   "cell_type": "code",
   "execution_count": 44,
   "metadata": {},
   "outputs": [],
   "source": [
    "spam_gridded = country_gdf.explode(\"h3_gridded\")"
   ]
  },
  {
   "cell_type": "code",
   "execution_count": 45,
   "metadata": {},
   "outputs": [
    {
     "name": "stdout",
     "output_type": "stream",
     "text": [
      "(44133525, 13)\n"
     ]
    },
    {
     "data": {
      "application/vnd.microsoft.datawrangler.viewer.v0+json": {
       "columns": [
        {
         "name": "index",
         "rawType": "int64",
         "type": "integer"
        },
        {
         "name": "gid_0",
         "rawType": "object",
         "type": "string"
        },
        {
         "name": "country",
         "rawType": "object",
         "type": "string"
        },
        {
         "name": "gid_1",
         "rawType": "object",
         "type": "string"
        },
        {
         "name": "agriculture_usd_2015",
         "rawType": "float64",
         "type": "float"
        },
        {
         "name": "lon",
         "rawType": "float32",
         "type": "float"
        },
        {
         "name": "lat",
         "rawType": "float32",
         "type": "float"
        },
        {
         "name": "band_var",
         "rawType": "float32",
         "type": "float"
        },
        {
         "name": "h3_id",
         "rawType": "object",
         "type": "string"
        },
        {
         "name": "gid_1_right",
         "rawType": "object",
         "type": "string"
        },
        {
         "name": "total_band",
         "rawType": "float64",
         "type": "float"
        },
        {
         "name": "band_frac",
         "rawType": "float64",
         "type": "float"
        },
        {
         "name": "color",
         "rawType": "object",
         "type": "unknown"
        },
        {
         "name": "h3_gridded",
         "rawType": "object",
         "type": "string"
        }
       ],
       "conversionMethod": "pd.DataFrame",
       "ref": "87bf5a6d-cb48-4639-bfbb-b498f2248714",
       "rows": [
        [
         "0",
         "NGA",
         "Nigeria",
         "NGA.37_1",
         "1815482717.6746967",
         "6.624997",
         "12.791668",
         "8120.8",
         "8858034957fffff",
         "NGA.37_1",
         "45792846.66666412",
         "0.0001773377371317518",
         "[134, 213, 73, 255]",
         "8858034839fffff"
        ],
        [
         "0",
         "NGA",
         "Nigeria",
         "NGA.37_1",
         "1815482717.6746967",
         "6.624997",
         "12.791668",
         "8120.8",
         "8858034957fffff",
         "NGA.37_1",
         "45792846.66666412",
         "0.0001773377371317518",
         "[134, 213, 73, 255]",
         "8858034911fffff"
        ],
        [
         "0",
         "NGA",
         "Nigeria",
         "NGA.37_1",
         "1815482717.6746967",
         "6.624997",
         "12.791668",
         "8120.8",
         "8858034957fffff",
         "NGA.37_1",
         "45792846.66666412",
         "0.0001773377371317518",
         "[134, 213, 73, 255]",
         "88581c86c1fffff"
        ]
       ],
       "shape": {
        "columns": 13,
        "rows": 3
       }
      },
      "text/html": [
       "<div>\n",
       "<style scoped>\n",
       "    .dataframe tbody tr th:only-of-type {\n",
       "        vertical-align: middle;\n",
       "    }\n",
       "\n",
       "    .dataframe tbody tr th {\n",
       "        vertical-align: top;\n",
       "    }\n",
       "\n",
       "    .dataframe thead th {\n",
       "        text-align: right;\n",
       "    }\n",
       "</style>\n",
       "<table border=\"1\" class=\"dataframe\">\n",
       "  <thead>\n",
       "    <tr style=\"text-align: right;\">\n",
       "      <th></th>\n",
       "      <th>gid_0</th>\n",
       "      <th>country</th>\n",
       "      <th>gid_1</th>\n",
       "      <th>agriculture_usd_2015</th>\n",
       "      <th>lon</th>\n",
       "      <th>lat</th>\n",
       "      <th>band_var</th>\n",
       "      <th>h3_id</th>\n",
       "      <th>gid_1_right</th>\n",
       "      <th>total_band</th>\n",
       "      <th>band_frac</th>\n",
       "      <th>color</th>\n",
       "      <th>h3_gridded</th>\n",
       "    </tr>\n",
       "  </thead>\n",
       "  <tbody>\n",
       "    <tr>\n",
       "      <th>0</th>\n",
       "      <td>NGA</td>\n",
       "      <td>Nigeria</td>\n",
       "      <td>NGA.37_1</td>\n",
       "      <td>1.815483e+09</td>\n",
       "      <td>6.624997</td>\n",
       "      <td>12.791668</td>\n",
       "      <td>8120.799805</td>\n",
       "      <td>8858034957fffff</td>\n",
       "      <td>NGA.37_1</td>\n",
       "      <td>4.579285e+07</td>\n",
       "      <td>0.000177</td>\n",
       "      <td>[134, 213, 73, 255]</td>\n",
       "      <td>8858034839fffff</td>\n",
       "    </tr>\n",
       "    <tr>\n",
       "      <th>0</th>\n",
       "      <td>NGA</td>\n",
       "      <td>Nigeria</td>\n",
       "      <td>NGA.37_1</td>\n",
       "      <td>1.815483e+09</td>\n",
       "      <td>6.624997</td>\n",
       "      <td>12.791668</td>\n",
       "      <td>8120.799805</td>\n",
       "      <td>8858034957fffff</td>\n",
       "      <td>NGA.37_1</td>\n",
       "      <td>4.579285e+07</td>\n",
       "      <td>0.000177</td>\n",
       "      <td>[134, 213, 73, 255]</td>\n",
       "      <td>8858034911fffff</td>\n",
       "    </tr>\n",
       "    <tr>\n",
       "      <th>0</th>\n",
       "      <td>NGA</td>\n",
       "      <td>Nigeria</td>\n",
       "      <td>NGA.37_1</td>\n",
       "      <td>1.815483e+09</td>\n",
       "      <td>6.624997</td>\n",
       "      <td>12.791668</td>\n",
       "      <td>8120.799805</td>\n",
       "      <td>8858034957fffff</td>\n",
       "      <td>NGA.37_1</td>\n",
       "      <td>4.579285e+07</td>\n",
       "      <td>0.000177</td>\n",
       "      <td>[134, 213, 73, 255]</td>\n",
       "      <td>88581c86c1fffff</td>\n",
       "    </tr>\n",
       "  </tbody>\n",
       "</table>\n",
       "</div>"
      ],
      "text/plain": [
       "  gid_0  country     gid_1  agriculture_usd_2015       lon        lat  \\\n",
       "0   NGA  Nigeria  NGA.37_1          1.815483e+09  6.624997  12.791668   \n",
       "0   NGA  Nigeria  NGA.37_1          1.815483e+09  6.624997  12.791668   \n",
       "0   NGA  Nigeria  NGA.37_1          1.815483e+09  6.624997  12.791668   \n",
       "\n",
       "      band_var            h3_id gid_1_right    total_band  band_frac  \\\n",
       "0  8120.799805  8858034957fffff    NGA.37_1  4.579285e+07   0.000177   \n",
       "0  8120.799805  8858034957fffff    NGA.37_1  4.579285e+07   0.000177   \n",
       "0  8120.799805  8858034957fffff    NGA.37_1  4.579285e+07   0.000177   \n",
       "\n",
       "                 color       h3_gridded  \n",
       "0  [134, 213, 73, 255]  8858034839fffff  \n",
       "0  [134, 213, 73, 255]  8858034911fffff  \n",
       "0  [134, 213, 73, 255]  88581c86c1fffff  "
      ]
     },
     "execution_count": 45,
     "metadata": {},
     "output_type": "execute_result"
    }
   ],
   "source": [
    "print(spam_gridded.shape)\n",
    "spam_gridded.head(3)"
   ]
  },
  {
   "cell_type": "markdown",
   "metadata": {},
   "source": [
    "We further remove the potential duplicates that could have been created : "
   ]
  },
  {
   "cell_type": "code",
   "execution_count": 46,
   "metadata": {},
   "outputs": [],
   "source": [
    "spam_gridded = spam_gridded[~spam_gridded.duplicated(subset=[\"h3_gridded\"])]"
   ]
  },
  {
   "cell_type": "code",
   "execution_count": 47,
   "metadata": {},
   "outputs": [
    {
     "name": "stdout",
     "output_type": "stream",
     "text": [
      "(569505, 13)\n"
     ]
    }
   ],
   "source": [
    "print(spam_gridded.shape)\n",
    "spam_gridded.reset_index(inplace=True,drop=True)"
   ]
  },
  {
   "cell_type": "code",
   "execution_count": 48,
   "metadata": {},
   "outputs": [
    {
     "data": {
      "application/vnd.microsoft.datawrangler.viewer.v0+json": {
       "columns": [
        {
         "name": "index",
         "rawType": "int64",
         "type": "integer"
        },
        {
         "name": "gid_0",
         "rawType": "object",
         "type": "string"
        },
        {
         "name": "country",
         "rawType": "object",
         "type": "string"
        },
        {
         "name": "gid_1",
         "rawType": "object",
         "type": "string"
        },
        {
         "name": "agriculture_usd_2015",
         "rawType": "float64",
         "type": "float"
        },
        {
         "name": "lon",
         "rawType": "float32",
         "type": "float"
        },
        {
         "name": "lat",
         "rawType": "float32",
         "type": "float"
        },
        {
         "name": "band_var",
         "rawType": "float32",
         "type": "float"
        },
        {
         "name": "h3_id",
         "rawType": "object",
         "type": "string"
        },
        {
         "name": "gid_1_right",
         "rawType": "object",
         "type": "string"
        },
        {
         "name": "total_band",
         "rawType": "float64",
         "type": "float"
        },
        {
         "name": "band_frac",
         "rawType": "float64",
         "type": "float"
        },
        {
         "name": "color",
         "rawType": "object",
         "type": "unknown"
        },
        {
         "name": "h3_gridded",
         "rawType": "object",
         "type": "string"
        }
       ],
       "conversionMethod": "pd.DataFrame",
       "ref": "b648584f-cde3-41a6-aed2-d3f7adde19d4",
       "rows": [
        [
         "0",
         "NGA",
         "Nigeria",
         "NGA.37_1",
         "1815482717.6746967",
         "6.624997",
         "12.791668",
         "8120.8",
         "8858034957fffff",
         "NGA.37_1",
         "45792846.66666412",
         "0.0001773377371317518",
         "[134, 213, 73, 255]",
         "8858034839fffff"
        ],
        [
         "1",
         "NGA",
         "Nigeria",
         "NGA.37_1",
         "1815482717.6746967",
         "6.624997",
         "12.791668",
         "8120.8",
         "8858034957fffff",
         "NGA.37_1",
         "45792846.66666412",
         "0.0001773377371317518",
         "[134, 213, 73, 255]",
         "8858034911fffff"
        ],
        [
         "2",
         "NGA",
         "Nigeria",
         "NGA.37_1",
         "1815482717.6746967",
         "6.624997",
         "12.791668",
         "8120.8",
         "8858034957fffff",
         "NGA.37_1",
         "45792846.66666412",
         "0.0001773377371317518",
         "[134, 213, 73, 255]",
         "88581c86c1fffff"
        ]
       ],
       "shape": {
        "columns": 13,
        "rows": 3
       }
      },
      "text/html": [
       "<div>\n",
       "<style scoped>\n",
       "    .dataframe tbody tr th:only-of-type {\n",
       "        vertical-align: middle;\n",
       "    }\n",
       "\n",
       "    .dataframe tbody tr th {\n",
       "        vertical-align: top;\n",
       "    }\n",
       "\n",
       "    .dataframe thead th {\n",
       "        text-align: right;\n",
       "    }\n",
       "</style>\n",
       "<table border=\"1\" class=\"dataframe\">\n",
       "  <thead>\n",
       "    <tr style=\"text-align: right;\">\n",
       "      <th></th>\n",
       "      <th>gid_0</th>\n",
       "      <th>country</th>\n",
       "      <th>gid_1</th>\n",
       "      <th>agriculture_usd_2015</th>\n",
       "      <th>lon</th>\n",
       "      <th>lat</th>\n",
       "      <th>band_var</th>\n",
       "      <th>h3_id</th>\n",
       "      <th>gid_1_right</th>\n",
       "      <th>total_band</th>\n",
       "      <th>band_frac</th>\n",
       "      <th>color</th>\n",
       "      <th>h3_gridded</th>\n",
       "    </tr>\n",
       "  </thead>\n",
       "  <tbody>\n",
       "    <tr>\n",
       "      <th>0</th>\n",
       "      <td>NGA</td>\n",
       "      <td>Nigeria</td>\n",
       "      <td>NGA.37_1</td>\n",
       "      <td>1.815483e+09</td>\n",
       "      <td>6.624997</td>\n",
       "      <td>12.791668</td>\n",
       "      <td>8120.799805</td>\n",
       "      <td>8858034957fffff</td>\n",
       "      <td>NGA.37_1</td>\n",
       "      <td>4.579285e+07</td>\n",
       "      <td>0.000177</td>\n",
       "      <td>[134, 213, 73, 255]</td>\n",
       "      <td>8858034839fffff</td>\n",
       "    </tr>\n",
       "    <tr>\n",
       "      <th>1</th>\n",
       "      <td>NGA</td>\n",
       "      <td>Nigeria</td>\n",
       "      <td>NGA.37_1</td>\n",
       "      <td>1.815483e+09</td>\n",
       "      <td>6.624997</td>\n",
       "      <td>12.791668</td>\n",
       "      <td>8120.799805</td>\n",
       "      <td>8858034957fffff</td>\n",
       "      <td>NGA.37_1</td>\n",
       "      <td>4.579285e+07</td>\n",
       "      <td>0.000177</td>\n",
       "      <td>[134, 213, 73, 255]</td>\n",
       "      <td>8858034911fffff</td>\n",
       "    </tr>\n",
       "    <tr>\n",
       "      <th>2</th>\n",
       "      <td>NGA</td>\n",
       "      <td>Nigeria</td>\n",
       "      <td>NGA.37_1</td>\n",
       "      <td>1.815483e+09</td>\n",
       "      <td>6.624997</td>\n",
       "      <td>12.791668</td>\n",
       "      <td>8120.799805</td>\n",
       "      <td>8858034957fffff</td>\n",
       "      <td>NGA.37_1</td>\n",
       "      <td>4.579285e+07</td>\n",
       "      <td>0.000177</td>\n",
       "      <td>[134, 213, 73, 255]</td>\n",
       "      <td>88581c86c1fffff</td>\n",
       "    </tr>\n",
       "  </tbody>\n",
       "</table>\n",
       "</div>"
      ],
      "text/plain": [
       "  gid_0  country     gid_1  agriculture_usd_2015       lon        lat  \\\n",
       "0   NGA  Nigeria  NGA.37_1          1.815483e+09  6.624997  12.791668   \n",
       "1   NGA  Nigeria  NGA.37_1          1.815483e+09  6.624997  12.791668   \n",
       "2   NGA  Nigeria  NGA.37_1          1.815483e+09  6.624997  12.791668   \n",
       "\n",
       "      band_var            h3_id gid_1_right    total_band  band_frac  \\\n",
       "0  8120.799805  8858034957fffff    NGA.37_1  4.579285e+07   0.000177   \n",
       "1  8120.799805  8858034957fffff    NGA.37_1  4.579285e+07   0.000177   \n",
       "2  8120.799805  8858034957fffff    NGA.37_1  4.579285e+07   0.000177   \n",
       "\n",
       "                 color       h3_gridded  \n",
       "0  [134, 213, 73, 255]  8858034839fffff  \n",
       "1  [134, 213, 73, 255]  8858034911fffff  \n",
       "2  [134, 213, 73, 255]  88581c86c1fffff  "
      ]
     },
     "execution_count": 48,
     "metadata": {},
     "output_type": "execute_result"
    }
   ],
   "source": [
    "spam_gridded.head(3)"
   ]
  },
  {
   "cell_type": "code",
   "execution_count": 49,
   "metadata": {},
   "outputs": [],
   "source": [
    "spam_gridded.set_index(\"h3_id\",inplace=True,drop=True)"
   ]
  },
  {
   "cell_type": "markdown",
   "metadata": {},
   "source": [
    "We count the number of cells that were added to each centroid cell:\n"
   ]
  },
  {
   "cell_type": "code",
   "execution_count": 50,
   "metadata": {},
   "outputs": [],
   "source": [
    "spam_gridded[\"count\"] = spam_gridded.groupby(\"h3_id\")[\"gid_1\"].transform(\"count\")"
   ]
  },
  {
   "cell_type": "markdown",
   "metadata": {},
   "source": [
    "Rescale the values to distribute them across the cells : "
   ]
  },
  {
   "cell_type": "code",
   "execution_count": 51,
   "metadata": {},
   "outputs": [],
   "source": [
    "# ghsl_gridded[\"h3_id_gdp_gridded\"] = np.round(ghsl_gridded[\"h3_id_gdp\"]/ghsl_gridded[\"count\"])\n",
    "spam_gridded[\"h3_id_band_gridded\"] = np.round(spam_gridded[\"band_var\"]/spam_gridded[\"count\"],2)"
   ]
  },
  {
   "cell_type": "code",
   "execution_count": 52,
   "metadata": {},
   "outputs": [],
   "source": [
    "spam_gridded.reset_index(inplace=True,drop=False)"
   ]
  },
  {
   "cell_type": "code",
   "execution_count": 53,
   "metadata": {},
   "outputs": [
    {
     "name": "stdout",
     "output_type": "stream",
     "text": [
      "(569505, 15)\n"
     ]
    },
    {
     "data": {
      "application/vnd.microsoft.datawrangler.viewer.v0+json": {
       "columns": [
        {
         "name": "index",
         "rawType": "int64",
         "type": "integer"
        },
        {
         "name": "h3_id",
         "rawType": "object",
         "type": "string"
        },
        {
         "name": "gid_0",
         "rawType": "object",
         "type": "string"
        },
        {
         "name": "country",
         "rawType": "object",
         "type": "string"
        },
        {
         "name": "gid_1",
         "rawType": "object",
         "type": "string"
        },
        {
         "name": "agriculture_usd_2015",
         "rawType": "float64",
         "type": "float"
        },
        {
         "name": "lon",
         "rawType": "float32",
         "type": "float"
        },
        {
         "name": "lat",
         "rawType": "float32",
         "type": "float"
        },
        {
         "name": "band_var",
         "rawType": "float32",
         "type": "float"
        },
        {
         "name": "gid_1_right",
         "rawType": "object",
         "type": "string"
        },
        {
         "name": "total_band",
         "rawType": "float64",
         "type": "float"
        },
        {
         "name": "band_frac",
         "rawType": "float64",
         "type": "float"
        },
        {
         "name": "color",
         "rawType": "object",
         "type": "unknown"
        },
        {
         "name": "h3_gridded",
         "rawType": "object",
         "type": "string"
        },
        {
         "name": "count",
         "rawType": "int64",
         "type": "integer"
        },
        {
         "name": "h3_id_band_gridded",
         "rawType": "float64",
         "type": "float"
        }
       ],
       "conversionMethod": "pd.DataFrame",
       "ref": "d1baf41a-d10f-44d6-9ce9-28d5784837f1",
       "rows": [
        [
         "0",
         "8858034957fffff",
         "NGA",
         "Nigeria",
         "NGA.37_1",
         "1815482717.6746967",
         "6.624997",
         "12.791668",
         "8120.8",
         "NGA.37_1",
         "45792846.66666412",
         "0.0001773377371317518",
         "[134, 213, 73, 255]",
         "8858034839fffff",
         "151",
         "53.78"
        ],
        [
         "1",
         "8858034957fffff",
         "NGA",
         "Nigeria",
         "NGA.37_1",
         "1815482717.6746967",
         "6.624997",
         "12.791668",
         "8120.8",
         "NGA.37_1",
         "45792846.66666412",
         "0.0001773377371317518",
         "[134, 213, 73, 255]",
         "8858034911fffff",
         "151",
         "53.78"
        ],
        [
         "2",
         "8858034957fffff",
         "NGA",
         "Nigeria",
         "NGA.37_1",
         "1815482717.6746967",
         "6.624997",
         "12.791668",
         "8120.8",
         "NGA.37_1",
         "45792846.66666412",
         "0.0001773377371317518",
         "[134, 213, 73, 255]",
         "88581c86c1fffff",
         "151",
         "53.78"
        ],
        [
         "3",
         "8858034957fffff",
         "NGA",
         "Nigeria",
         "NGA.37_1",
         "1815482717.6746967",
         "6.624997",
         "12.791668",
         "8120.8",
         "NGA.37_1",
         "45792846.66666412",
         "0.0001773377371317518",
         "[134, 213, 73, 255]",
         "885803482dfffff",
         "151",
         "53.78"
        ],
        [
         "4",
         "8858034957fffff",
         "NGA",
         "Nigeria",
         "NGA.37_1",
         "1815482717.6746967",
         "6.624997",
         "12.791668",
         "8120.8",
         "NGA.37_1",
         "45792846.66666412",
         "0.0001773377371317518",
         "[134, 213, 73, 255]",
         "885803480bfffff",
         "151",
         "53.78"
        ]
       ],
       "shape": {
        "columns": 15,
        "rows": 5
       }
      },
      "text/html": [
       "<div>\n",
       "<style scoped>\n",
       "    .dataframe tbody tr th:only-of-type {\n",
       "        vertical-align: middle;\n",
       "    }\n",
       "\n",
       "    .dataframe tbody tr th {\n",
       "        vertical-align: top;\n",
       "    }\n",
       "\n",
       "    .dataframe thead th {\n",
       "        text-align: right;\n",
       "    }\n",
       "</style>\n",
       "<table border=\"1\" class=\"dataframe\">\n",
       "  <thead>\n",
       "    <tr style=\"text-align: right;\">\n",
       "      <th></th>\n",
       "      <th>h3_id</th>\n",
       "      <th>gid_0</th>\n",
       "      <th>country</th>\n",
       "      <th>gid_1</th>\n",
       "      <th>agriculture_usd_2015</th>\n",
       "      <th>lon</th>\n",
       "      <th>lat</th>\n",
       "      <th>band_var</th>\n",
       "      <th>gid_1_right</th>\n",
       "      <th>total_band</th>\n",
       "      <th>band_frac</th>\n",
       "      <th>color</th>\n",
       "      <th>h3_gridded</th>\n",
       "      <th>count</th>\n",
       "      <th>h3_id_band_gridded</th>\n",
       "    </tr>\n",
       "  </thead>\n",
       "  <tbody>\n",
       "    <tr>\n",
       "      <th>0</th>\n",
       "      <td>8858034957fffff</td>\n",
       "      <td>NGA</td>\n",
       "      <td>Nigeria</td>\n",
       "      <td>NGA.37_1</td>\n",
       "      <td>1.815483e+09</td>\n",
       "      <td>6.624997</td>\n",
       "      <td>12.791668</td>\n",
       "      <td>8120.799805</td>\n",
       "      <td>NGA.37_1</td>\n",
       "      <td>4.579285e+07</td>\n",
       "      <td>0.000177</td>\n",
       "      <td>[134, 213, 73, 255]</td>\n",
       "      <td>8858034839fffff</td>\n",
       "      <td>151</td>\n",
       "      <td>53.78</td>\n",
       "    </tr>\n",
       "    <tr>\n",
       "      <th>1</th>\n",
       "      <td>8858034957fffff</td>\n",
       "      <td>NGA</td>\n",
       "      <td>Nigeria</td>\n",
       "      <td>NGA.37_1</td>\n",
       "      <td>1.815483e+09</td>\n",
       "      <td>6.624997</td>\n",
       "      <td>12.791668</td>\n",
       "      <td>8120.799805</td>\n",
       "      <td>NGA.37_1</td>\n",
       "      <td>4.579285e+07</td>\n",
       "      <td>0.000177</td>\n",
       "      <td>[134, 213, 73, 255]</td>\n",
       "      <td>8858034911fffff</td>\n",
       "      <td>151</td>\n",
       "      <td>53.78</td>\n",
       "    </tr>\n",
       "    <tr>\n",
       "      <th>2</th>\n",
       "      <td>8858034957fffff</td>\n",
       "      <td>NGA</td>\n",
       "      <td>Nigeria</td>\n",
       "      <td>NGA.37_1</td>\n",
       "      <td>1.815483e+09</td>\n",
       "      <td>6.624997</td>\n",
       "      <td>12.791668</td>\n",
       "      <td>8120.799805</td>\n",
       "      <td>NGA.37_1</td>\n",
       "      <td>4.579285e+07</td>\n",
       "      <td>0.000177</td>\n",
       "      <td>[134, 213, 73, 255]</td>\n",
       "      <td>88581c86c1fffff</td>\n",
       "      <td>151</td>\n",
       "      <td>53.78</td>\n",
       "    </tr>\n",
       "    <tr>\n",
       "      <th>3</th>\n",
       "      <td>8858034957fffff</td>\n",
       "      <td>NGA</td>\n",
       "      <td>Nigeria</td>\n",
       "      <td>NGA.37_1</td>\n",
       "      <td>1.815483e+09</td>\n",
       "      <td>6.624997</td>\n",
       "      <td>12.791668</td>\n",
       "      <td>8120.799805</td>\n",
       "      <td>NGA.37_1</td>\n",
       "      <td>4.579285e+07</td>\n",
       "      <td>0.000177</td>\n",
       "      <td>[134, 213, 73, 255]</td>\n",
       "      <td>885803482dfffff</td>\n",
       "      <td>151</td>\n",
       "      <td>53.78</td>\n",
       "    </tr>\n",
       "    <tr>\n",
       "      <th>4</th>\n",
       "      <td>8858034957fffff</td>\n",
       "      <td>NGA</td>\n",
       "      <td>Nigeria</td>\n",
       "      <td>NGA.37_1</td>\n",
       "      <td>1.815483e+09</td>\n",
       "      <td>6.624997</td>\n",
       "      <td>12.791668</td>\n",
       "      <td>8120.799805</td>\n",
       "      <td>NGA.37_1</td>\n",
       "      <td>4.579285e+07</td>\n",
       "      <td>0.000177</td>\n",
       "      <td>[134, 213, 73, 255]</td>\n",
       "      <td>885803480bfffff</td>\n",
       "      <td>151</td>\n",
       "      <td>53.78</td>\n",
       "    </tr>\n",
       "  </tbody>\n",
       "</table>\n",
       "</div>"
      ],
      "text/plain": [
       "             h3_id gid_0  country     gid_1  agriculture_usd_2015       lon  \\\n",
       "0  8858034957fffff   NGA  Nigeria  NGA.37_1          1.815483e+09  6.624997   \n",
       "1  8858034957fffff   NGA  Nigeria  NGA.37_1          1.815483e+09  6.624997   \n",
       "2  8858034957fffff   NGA  Nigeria  NGA.37_1          1.815483e+09  6.624997   \n",
       "3  8858034957fffff   NGA  Nigeria  NGA.37_1          1.815483e+09  6.624997   \n",
       "4  8858034957fffff   NGA  Nigeria  NGA.37_1          1.815483e+09  6.624997   \n",
       "\n",
       "         lat     band_var gid_1_right    total_band  band_frac  \\\n",
       "0  12.791668  8120.799805    NGA.37_1  4.579285e+07   0.000177   \n",
       "1  12.791668  8120.799805    NGA.37_1  4.579285e+07   0.000177   \n",
       "2  12.791668  8120.799805    NGA.37_1  4.579285e+07   0.000177   \n",
       "3  12.791668  8120.799805    NGA.37_1  4.579285e+07   0.000177   \n",
       "4  12.791668  8120.799805    NGA.37_1  4.579285e+07   0.000177   \n",
       "\n",
       "                 color       h3_gridded  count  h3_id_band_gridded  \n",
       "0  [134, 213, 73, 255]  8858034839fffff    151               53.78  \n",
       "1  [134, 213, 73, 255]  8858034911fffff    151               53.78  \n",
       "2  [134, 213, 73, 255]  88581c86c1fffff    151               53.78  \n",
       "3  [134, 213, 73, 255]  885803482dfffff    151               53.78  \n",
       "4  [134, 213, 73, 255]  885803480bfffff    151               53.78  "
      ]
     },
     "execution_count": 53,
     "metadata": {},
     "output_type": "execute_result"
    }
   ],
   "source": [
    "print(spam_gridded.shape)\n",
    "spam_gridded.head()"
   ]
  },
  {
   "cell_type": "code",
   "execution_count": 54,
   "metadata": {},
   "outputs": [],
   "source": [
    "# view_state = pdk.data_utils.compute_view(points=ghsl_gridded.sample(10000)[\"h3_gridded\"].apply(lambda cell: h3.cell_to_latlng(cell)[::-1]))\n",
    "\n",
    "# lagos: latitude = 6.450151,longitude = 3.531193 !!!! DOES NOT WORK BECAUSE IT IS EXCLUDED FROM DOSE!!!\n",
    "# Abidjan :  latitude = 5.367, longitude = -4.009\n",
    "# Kano : latitude = 11.985, longitude = 8.533\n",
    "\n",
    "zoom_lat=11.985\n",
    "zoom_lon=8.533\n",
    "zoom_width=70_000\n",
    "\n",
    "view_state_zoomed = pdk.ViewState(latitude = zoom_lat,longitude = zoom_lon,zoom=11,pitch=30,bearing=0) "
   ]
  },
  {
   "cell_type": "code",
   "execution_count": 55,
   "metadata": {},
   "outputs": [],
   "source": [
    "# extracting data for the plotting region : \n",
    "plotting_region = dt.square_poly(lat=zoom_lat,lon=zoom_lon,distance=zoom_width)"
   ]
  },
  {
   "cell_type": "code",
   "execution_count": 56,
   "metadata": {},
   "outputs": [
    {
     "data": {
      "text/plain": [
       "[8.212, 11.664, 8.854, 12.306]"
      ]
     },
     "execution_count": 56,
     "metadata": {},
     "output_type": "execute_result"
    }
   ],
   "source": [
    "limits = [np.round(x,3) for x in plotting_region.bounds]\n",
    "limits"
   ]
  },
  {
   "cell_type": "markdown",
   "metadata": {},
   "source": [
    "Another beauty of ibis is that we can run sql on top of tables inside out python environment : "
   ]
  },
  {
   "cell_type": "code",
   "execution_count": 147,
   "metadata": {},
   "outputs": [],
   "source": [
    "# ghsl_gridded\n",
    "spam_gridded_zoom = conn.sql(\n",
    "f\"\"\"\n",
    "Select * from \n",
    "    (select *, \n",
    "    array_extract(h3_cell_to_latlng(h3_gridded),2) as x_h3, \n",
    "    array_extract(h3_cell_to_latlng(h3_gridded),1) as y_h3\n",
    "    from spam_gridded)\n",
    "where (lon <= {limits[2]}) and (lon >= {limits[0]}) and (lat <= {limits[3]}) and (lat >= {limits[1]});\n",
    "\"\"\").execute()"
   ]
  },
  {
   "cell_type": "code",
   "execution_count": 148,
   "metadata": {},
   "outputs": [
    {
     "name": "stdout",
     "output_type": "stream",
     "text": [
      "(6509, 17)\n"
     ]
    },
    {
     "data": {
      "application/vnd.microsoft.datawrangler.viewer.v0+json": {
       "columns": [
        {
         "name": "index",
         "rawType": "int64",
         "type": "integer"
        },
        {
         "name": "h3_id",
         "rawType": "object",
         "type": "string"
        },
        {
         "name": "gid_0",
         "rawType": "object",
         "type": "string"
        },
        {
         "name": "country",
         "rawType": "object",
         "type": "string"
        },
        {
         "name": "gid_1",
         "rawType": "object",
         "type": "string"
        },
        {
         "name": "agriculture_usd_2015",
         "rawType": "float64",
         "type": "float"
        },
        {
         "name": "lon",
         "rawType": "float32",
         "type": "float"
        },
        {
         "name": "lat",
         "rawType": "float32",
         "type": "float"
        },
        {
         "name": "band_var",
         "rawType": "float32",
         "type": "float"
        },
        {
         "name": "gid_1_right",
         "rawType": "object",
         "type": "string"
        },
        {
         "name": "total_band",
         "rawType": "float64",
         "type": "float"
        },
        {
         "name": "band_frac",
         "rawType": "float64",
         "type": "float"
        },
        {
         "name": "color",
         "rawType": "object",
         "type": "unknown"
        },
        {
         "name": "h3_gridded",
         "rawType": "object",
         "type": "string"
        },
        {
         "name": "count",
         "rawType": "int64",
         "type": "integer"
        },
        {
         "name": "h3_id_band_gridded",
         "rawType": "float64",
         "type": "float"
        },
        {
         "name": "x_h3",
         "rawType": "float64",
         "type": "float"
        },
        {
         "name": "y_h3",
         "rawType": "float64",
         "type": "float"
        }
       ],
       "conversionMethod": "pd.DataFrame",
       "ref": "32f80869-3a6d-4e48-a5ad-7ce215029db8",
       "rows": [
        [
         "0",
         "88580ac9d7fffff",
         "NGA",
         "Nigeria",
         "NGA.20_1",
         "2325921570.3293877",
         "8.291664",
         "12.291668",
         "4914.5",
         "NGA.20_1",
         "41234406.06205368",
         "0.00011918444981611149",
         "[82, 197, 105, 255]",
         "88580ac8b9fffff",
         "120",
         "40.95",
         "7.870441918063064",
         "12.315061845242985"
        ],
        [
         "1",
         "88580ac9d7fffff",
         "NGA",
         "Nigeria",
         "NGA.20_1",
         "2325921570.3293877",
         "8.291664",
         "12.291668",
         "4914.5",
         "NGA.20_1",
         "41234406.06205368",
         "0.00011918444981611149",
         "[82, 197, 105, 255]",
         "88580ac991fffff",
         "120",
         "40.95",
         "7.884473530444321",
         "12.267223410290109"
        ],
        [
         "2",
         "88580ac9d7fffff",
         "NGA",
         "Nigeria",
         "NGA.20_1",
         "2325921570.3293877",
         "8.291664",
         "12.291668",
         "4914.5",
         "NGA.20_1",
         "41234406.06205368",
         "0.00011918444981611149",
         "[82, 197, 105, 255]",
         "88580a5341fffff",
         "120",
         "40.95",
         "7.911435353836894",
         "12.251724111627523"
        ],
        [
         "3",
         "88580ac9d7fffff",
         "NGA",
         "Nigeria",
         "NGA.20_1",
         "2325921570.3293877",
         "8.291664",
         "12.291668",
         "4914.5",
         "NGA.20_1",
         "41234406.06205368",
         "0.00011918444981611149",
         "[82, 197, 105, 255]",
         "88580ac8adfffff",
         "120",
         "40.95",
         "7.912636006544266",
         "12.273131550446342"
        ],
        [
         "4",
         "88580ac9d7fffff",
         "NGA",
         "Nigeria",
         "NGA.20_1",
         "2325921570.3293877",
         "8.291664",
         "12.291668",
         "4914.5",
         "NGA.20_1",
         "41234406.06205368",
         "0.00011918444981611149",
         "[82, 197, 105, 255]",
         "88580ac88bfffff",
         "120",
         "40.95",
         "7.845809284461496",
         "12.322583247667481"
        ]
       ],
       "shape": {
        "columns": 17,
        "rows": 5
       }
      },
      "text/html": [
       "<div>\n",
       "<style scoped>\n",
       "    .dataframe tbody tr th:only-of-type {\n",
       "        vertical-align: middle;\n",
       "    }\n",
       "\n",
       "    .dataframe tbody tr th {\n",
       "        vertical-align: top;\n",
       "    }\n",
       "\n",
       "    .dataframe thead th {\n",
       "        text-align: right;\n",
       "    }\n",
       "</style>\n",
       "<table border=\"1\" class=\"dataframe\">\n",
       "  <thead>\n",
       "    <tr style=\"text-align: right;\">\n",
       "      <th></th>\n",
       "      <th>h3_id</th>\n",
       "      <th>gid_0</th>\n",
       "      <th>country</th>\n",
       "      <th>gid_1</th>\n",
       "      <th>agriculture_usd_2015</th>\n",
       "      <th>lon</th>\n",
       "      <th>lat</th>\n",
       "      <th>band_var</th>\n",
       "      <th>gid_1_right</th>\n",
       "      <th>total_band</th>\n",
       "      <th>band_frac</th>\n",
       "      <th>color</th>\n",
       "      <th>h3_gridded</th>\n",
       "      <th>count</th>\n",
       "      <th>h3_id_band_gridded</th>\n",
       "      <th>x_h3</th>\n",
       "      <th>y_h3</th>\n",
       "    </tr>\n",
       "  </thead>\n",
       "  <tbody>\n",
       "    <tr>\n",
       "      <th>0</th>\n",
       "      <td>88580ac9d7fffff</td>\n",
       "      <td>NGA</td>\n",
       "      <td>Nigeria</td>\n",
       "      <td>NGA.20_1</td>\n",
       "      <td>2.325922e+09</td>\n",
       "      <td>8.291664</td>\n",
       "      <td>12.291668</td>\n",
       "      <td>4914.5</td>\n",
       "      <td>NGA.20_1</td>\n",
       "      <td>4.123441e+07</td>\n",
       "      <td>0.000119</td>\n",
       "      <td>[82, 197, 105, 255]</td>\n",
       "      <td>88580ac8b9fffff</td>\n",
       "      <td>120</td>\n",
       "      <td>40.95</td>\n",
       "      <td>7.870442</td>\n",
       "      <td>12.315062</td>\n",
       "    </tr>\n",
       "    <tr>\n",
       "      <th>1</th>\n",
       "      <td>88580ac9d7fffff</td>\n",
       "      <td>NGA</td>\n",
       "      <td>Nigeria</td>\n",
       "      <td>NGA.20_1</td>\n",
       "      <td>2.325922e+09</td>\n",
       "      <td>8.291664</td>\n",
       "      <td>12.291668</td>\n",
       "      <td>4914.5</td>\n",
       "      <td>NGA.20_1</td>\n",
       "      <td>4.123441e+07</td>\n",
       "      <td>0.000119</td>\n",
       "      <td>[82, 197, 105, 255]</td>\n",
       "      <td>88580ac991fffff</td>\n",
       "      <td>120</td>\n",
       "      <td>40.95</td>\n",
       "      <td>7.884474</td>\n",
       "      <td>12.267223</td>\n",
       "    </tr>\n",
       "    <tr>\n",
       "      <th>2</th>\n",
       "      <td>88580ac9d7fffff</td>\n",
       "      <td>NGA</td>\n",
       "      <td>Nigeria</td>\n",
       "      <td>NGA.20_1</td>\n",
       "      <td>2.325922e+09</td>\n",
       "      <td>8.291664</td>\n",
       "      <td>12.291668</td>\n",
       "      <td>4914.5</td>\n",
       "      <td>NGA.20_1</td>\n",
       "      <td>4.123441e+07</td>\n",
       "      <td>0.000119</td>\n",
       "      <td>[82, 197, 105, 255]</td>\n",
       "      <td>88580a5341fffff</td>\n",
       "      <td>120</td>\n",
       "      <td>40.95</td>\n",
       "      <td>7.911435</td>\n",
       "      <td>12.251724</td>\n",
       "    </tr>\n",
       "    <tr>\n",
       "      <th>3</th>\n",
       "      <td>88580ac9d7fffff</td>\n",
       "      <td>NGA</td>\n",
       "      <td>Nigeria</td>\n",
       "      <td>NGA.20_1</td>\n",
       "      <td>2.325922e+09</td>\n",
       "      <td>8.291664</td>\n",
       "      <td>12.291668</td>\n",
       "      <td>4914.5</td>\n",
       "      <td>NGA.20_1</td>\n",
       "      <td>4.123441e+07</td>\n",
       "      <td>0.000119</td>\n",
       "      <td>[82, 197, 105, 255]</td>\n",
       "      <td>88580ac8adfffff</td>\n",
       "      <td>120</td>\n",
       "      <td>40.95</td>\n",
       "      <td>7.912636</td>\n",
       "      <td>12.273132</td>\n",
       "    </tr>\n",
       "    <tr>\n",
       "      <th>4</th>\n",
       "      <td>88580ac9d7fffff</td>\n",
       "      <td>NGA</td>\n",
       "      <td>Nigeria</td>\n",
       "      <td>NGA.20_1</td>\n",
       "      <td>2.325922e+09</td>\n",
       "      <td>8.291664</td>\n",
       "      <td>12.291668</td>\n",
       "      <td>4914.5</td>\n",
       "      <td>NGA.20_1</td>\n",
       "      <td>4.123441e+07</td>\n",
       "      <td>0.000119</td>\n",
       "      <td>[82, 197, 105, 255]</td>\n",
       "      <td>88580ac88bfffff</td>\n",
       "      <td>120</td>\n",
       "      <td>40.95</td>\n",
       "      <td>7.845809</td>\n",
       "      <td>12.322583</td>\n",
       "    </tr>\n",
       "  </tbody>\n",
       "</table>\n",
       "</div>"
      ],
      "text/plain": [
       "             h3_id gid_0  country     gid_1  agriculture_usd_2015       lon  \\\n",
       "0  88580ac9d7fffff   NGA  Nigeria  NGA.20_1          2.325922e+09  8.291664   \n",
       "1  88580ac9d7fffff   NGA  Nigeria  NGA.20_1          2.325922e+09  8.291664   \n",
       "2  88580ac9d7fffff   NGA  Nigeria  NGA.20_1          2.325922e+09  8.291664   \n",
       "3  88580ac9d7fffff   NGA  Nigeria  NGA.20_1          2.325922e+09  8.291664   \n",
       "4  88580ac9d7fffff   NGA  Nigeria  NGA.20_1          2.325922e+09  8.291664   \n",
       "\n",
       "         lat  band_var gid_1_right    total_band  band_frac  \\\n",
       "0  12.291668    4914.5    NGA.20_1  4.123441e+07   0.000119   \n",
       "1  12.291668    4914.5    NGA.20_1  4.123441e+07   0.000119   \n",
       "2  12.291668    4914.5    NGA.20_1  4.123441e+07   0.000119   \n",
       "3  12.291668    4914.5    NGA.20_1  4.123441e+07   0.000119   \n",
       "4  12.291668    4914.5    NGA.20_1  4.123441e+07   0.000119   \n",
       "\n",
       "                 color       h3_gridded  count  h3_id_band_gridded      x_h3  \\\n",
       "0  [82, 197, 105, 255]  88580ac8b9fffff    120               40.95  7.870442   \n",
       "1  [82, 197, 105, 255]  88580ac991fffff    120               40.95  7.884474   \n",
       "2  [82, 197, 105, 255]  88580a5341fffff    120               40.95  7.911435   \n",
       "3  [82, 197, 105, 255]  88580ac8adfffff    120               40.95  7.912636   \n",
       "4  [82, 197, 105, 255]  88580ac88bfffff    120               40.95  7.845809   \n",
       "\n",
       "        y_h3  \n",
       "0  12.315062  \n",
       "1  12.267223  \n",
       "2  12.251724  \n",
       "3  12.273132  \n",
       "4  12.322583  "
      ]
     },
     "execution_count": 148,
     "metadata": {},
     "output_type": "execute_result"
    }
   ],
   "source": [
    "print(spam_gridded_zoom.shape)\n",
    "spam_gridded_zoom.head()"
   ]
  },
  {
   "cell_type": "code",
   "execution_count": 149,
   "metadata": {},
   "outputs": [
    {
     "name": "stdout",
     "output_type": "stream",
     "text": [
      "Max input : 45.50, palette colors : 10\n"
     ]
    }
   ],
   "source": [
    "spam_gridded_zoom[\"color\"] = cmap(spam_gridded_zoom[\"h3_id_band_gridded\"],palette=col_pal)"
   ]
  },
  {
   "cell_type": "code",
   "execution_count": 150,
   "metadata": {},
   "outputs": [],
   "source": [
    "h3_layer_ghsl_h3_gridded = pdk.Layer(\n",
    "    \"H3HexagonLayer\",\n",
    "    # ghsl_gridded.loc[0:200_000],\n",
    "    spam_gridded_zoom,\n",
    "    pickable=True,\n",
    "    stroked=True,\n",
    "    filled=True,\n",
    "    opacity=.5,\n",
    "    extruded=False,\n",
    "    get_hexagon= \"h3_gridded\",\n",
    "    get_fill_color = \"color\",\n",
    "    get_line_color= [0, 0, 0, 100],\n",
    "    line_width_min_pixels=1,\n",
    "    line_width_max_pixels=1,\n",
    ")\n",
    "\n",
    "\n",
    "layer_down = pdk.Layer(\n",
    "    \"ScatterplotLayer\",\n",
    "    country_gdf[[\"lon\",\"lat\"]],\n",
    "    pickable=False,\n",
    "    opacity=0.8,\n",
    "    stroked=False,\n",
    "    filled=True,\n",
    "    radius_scale=10,\n",
    "    radius_min_pixels=1,\n",
    "    radius_max_pixels=20,\n",
    "    line_width_min_pixels=0,\n",
    "    line_width_max_pixels=0,\n",
    "    get_position = [\"lon\",\"lat\"],\n",
    "    get_radius=25,\n",
    "    get_fill_color=[255, 140, 0, 255],\n",
    "    get_line_color=[0, 0, 0, 0],\n",
    ")\n",
    "\n"
   ]
  },
  {
   "cell_type": "markdown",
   "metadata": {},
   "source": [
    "And we can see the result of gridding overlayed with the original centroids of cells. Note that the value of the yield from a raster grid centroid is distributed across all the cells covering the area nearest to it."
   ]
  },
  {
   "cell_type": "code",
   "execution_count": 9,
   "metadata": {},
   "outputs": [],
   "source": [
    "# # Create mapdeck object\n",
    "\n",
    "# deck_map_ghsl_h3_gridded = pdk.Deck(layers=[h3_layer_ghsl_h3_gridded, \n",
    "#                                             layer_down\n",
    "#                                             ]\n",
    "#              ,initial_view_state=view_state_zoomed\n",
    "#              ,tooltip= {\"text\": \"Value :  {h3_id_band_gridded}\"}\n",
    "#              ,height=800\n",
    "#              ,map_style=\"road\"\n",
    "#              )\n",
    "\n",
    "# deck_map_ghsl_h3_gridded.to_html(\"../../deck_maps/deck_ghsl_nres_h3_gridded.html\",\n",
    "#                                 #  open_browser=True,\n",
    "#                                  iframe_height=800\n",
    "#                                  )"
   ]
  },
  {
   "cell_type": "markdown",
   "metadata": {},
   "source": [
    "<!-- ## Changing Scales\n",
    "Let's now play with the spatial scale of resulting layer  -->"
   ]
  },
  {
   "cell_type": "code",
   "execution_count": 8,
   "metadata": {},
   "outputs": [],
   "source": [
    "# spam_rescaled = spam_gridded_zoom.rename(columns={\"h3_id_gdp_gridded\" : \"h3_id_gdp_gridded_var\",\n",
    "#                                     \"h3_id_band_gridded\" : \"h3_id_band_gridded_var\",\n",
    "#                                     \"h3_id\" : \"h3_gridded_parent\"\n",
    "#                                     },inplace=False)"
   ]
  },
  {
   "cell_type": "code",
   "execution_count": 1,
   "metadata": {},
   "outputs": [],
   "source": [
    "\n",
    "# spam_rescaled.rename(columns={\"h3_gridded\" : \"h3_id\"\n",
    "#                              },inplace=True)\n"
   ]
  },
  {
   "cell_type": "code",
   "execution_count": 2,
   "metadata": {},
   "outputs": [],
   "source": [
    "# spam_rescaled.head()"
   ]
  },
  {
   "cell_type": "markdown",
   "metadata": {},
   "source": [
    "<!-- Reduce the resolution by 1 level the following way :  -->"
   ]
  },
  {
   "cell_type": "code",
   "execution_count": 3,
   "metadata": {},
   "outputs": [],
   "source": [
    "# h3_gridded_new_scale = sd.change_res(spam_rescaled,level=-1)"
   ]
  },
  {
   "cell_type": "code",
   "execution_count": 4,
   "metadata": {},
   "outputs": [],
   "source": [
    "# print(h3_gridded_new_scale.shape)\n",
    "# h3_gridded_new_scale.head()"
   ]
  },
  {
   "cell_type": "markdown",
   "metadata": {},
   "source": [
    "<!-- The size of the data went from around 6000 rows to slightly under a thousand.   -->"
   ]
  },
  {
   "cell_type": "code",
   "execution_count": 5,
   "metadata": {},
   "outputs": [],
   "source": [
    "# h3_gridded_new_scale[\"color\"] = cmap((h3_gridded_new_scale.h3_id_band_gridded_var),palette=col_pal)"
   ]
  },
  {
   "cell_type": "code",
   "execution_count": 6,
   "metadata": {},
   "outputs": [],
   "source": [
    "# #####\n",
    "\n",
    "# h3_layer_ghsl_h3_gridded_new_scale = pdk.Layer(\n",
    "#     \"H3HexagonLayer\",\n",
    "#     h3_gridded_new_scale,\n",
    "#     pickable=True,\n",
    "#     stroked=True,\n",
    "#     filled=True,\n",
    "#     opacity=.5,\n",
    "#     extruded=False,\n",
    "#     get_hexagon= \"h3_id\",\n",
    "#     get_fill_color = \"color\",\n",
    "#     get_line_color= [0, 0, 0, 100],\n",
    "#     line_width_min_pixels=1,\n",
    "#     line_width_max_pixels=1,\n",
    "# )\n"
   ]
  },
  {
   "cell_type": "markdown",
   "metadata": {},
   "source": [
    "<!-- Note the boundary effects, where the parent cells are incomplete and therefore the aggregated values are smaller. -->"
   ]
  },
  {
   "cell_type": "code",
   "execution_count": 7,
   "metadata": {},
   "outputs": [],
   "source": [
    "# # Create mapdeck object\n",
    "# deck_map_ghsl_h3_gridded_rescaled = pdk.Deck(layers=[h3_layer_ghsl_h3_gridded_new_scale]\n",
    "#              ,initial_view_state=view_state_zoomed\n",
    "#              ,tooltip= {\"text\": \"Value :  {h3_id_gdp_gridded_var}\"}\n",
    "#              ,map_style=\"road\"\n",
    "#              )\n",
    "\n",
    "# deck_map_ghsl_h3_gridded_rescaled.to_html(\"../../deck_maps/deck_ghsl_nres_h3_gridded_new_scale.html\",\n",
    "#                                           iframe_height=800,\n",
    "#                                         #   open_browser=True\n",
    "#                                           )"
   ]
  },
  {
   "cell_type": "markdown",
   "metadata": {},
   "source": [
    "## Adding constraint layer\n",
    "\n",
    "Let's now use GHSL Human settlement layer data to hint at where there is no agricultural lands. Start with loading in the *ghsl* layer just like a base layer "
   ]
  },
  {
   "cell_type": "code",
   "execution_count": 160,
   "metadata": {},
   "outputs": [
    {
     "data": {
      "text/plain": [
       "'/Users/cenv1069/Documents/data/datasets/JRC/processed_samples/S_100_R8_C19/*.parquet'"
      ]
     },
     "execution_count": 160,
     "metadata": {},
     "output_type": "execute_result"
    }
   ],
   "source": [
    "grid_ghsl_param = 100\n",
    "\n",
    "ghsl_file = f\"/Users/cenv1069/Documents/data/datasets/JRC/processed_samples/S_100_R8_C19/*.parquet\"\n",
    "ghsl_file\n",
    "# tiffs = [x for x in glob.glob(ghsl_file,recursive=True) if re.search(pattern=\".tif$\",string=x)]\n",
    "# print(len(tiffs))\n",
    "# tiffs"
   ]
  },
  {
   "cell_type": "code",
   "execution_count": 161,
   "metadata": {},
   "outputs": [
    {
     "name": "stdout",
     "output_type": "stream",
     "text": [
      "overwriting existing\n",
      "reading bbox\n"
     ]
    }
   ],
   "source": [
    "raw_grid_constraint = snoo.sn_table(conn=conn,name=\"raw_grid_constraint\",path=ghsl_file,overwrite=True, bbox=limits)"
   ]
  },
  {
   "cell_type": "markdown",
   "metadata": {},
   "source": [
    "This has added a new table into the backend :"
   ]
  },
  {
   "cell_type": "code",
   "execution_count": 162,
   "metadata": {},
   "outputs": [
    {
     "data": {
      "text/plain": [
       "['dwg', 'raw_grid_constraint', 'spam']"
      ]
     },
     "execution_count": 162,
     "metadata": {},
     "output_type": "execute_result"
    }
   ],
   "source": [
    "conn.list_tables()"
   ]
  },
  {
   "cell_type": "code",
   "execution_count": 163,
   "metadata": {},
   "outputs": [
    {
     "data": {
      "text/html": [
       "<pre style=\"white-space:pre;overflow-x:auto;line-height:normal;font-family:Menlo,'DejaVu Sans Mono',consolas,'Courier New',monospace\"></pre>\n"
      ],
      "text/plain": []
     },
     "metadata": {},
     "output_type": "display_data"
    },
    {
     "name": "stdout",
     "output_type": "stream",
     "text": [
      "┌────────┐\n",
      "│ \u001b[1;36m172826\u001b[0m │\n",
      "└────────┘\n"
     ]
    },
    {
     "data": {
      "text/html": [
       "<pre style=\"white-space:pre;overflow-x:auto;line-height:normal;font-family:Menlo,'DejaVu Sans Mono',consolas,'Courier New',monospace\"></pre>\n"
      ],
      "text/plain": []
     },
     "metadata": {},
     "output_type": "display_data"
    },
    {
     "name": "stdout",
     "output_type": "stream",
     "text": [
      "┏━━━━━━━━━━┳━━━━━━━━━━━┳━━━━━━━━━━┓\n",
      "┃\u001b[1m \u001b[0m\u001b[1mlon\u001b[0m\u001b[1m     \u001b[0m\u001b[1m \u001b[0m┃\u001b[1m \u001b[0m\u001b[1mlat\u001b[0m\u001b[1m      \u001b[0m\u001b[1m \u001b[0m┃\u001b[1m \u001b[0m\u001b[1mband_var\u001b[0m\u001b[1m \u001b[0m┃\n",
      "┡━━━━━━━━━━╇━━━━━━━━━━━╇━━━━━━━━━━┩\n",
      "│ \u001b[2mfloat32\u001b[0m  │ \u001b[2mfloat32\u001b[0m   │ \u001b[2muint16\u001b[0m   │\n",
      "├──────────┼───────────┼──────────┤\n",
      "│ \u001b[1;36m8.216865\u001b[0m │ \u001b[1;36m12.305492\u001b[0m │     \u001b[1;36m1530\u001b[0m │\n",
      "│ \u001b[1;36m8.217780\u001b[0m │ \u001b[1;36m12.305492\u001b[0m │      \u001b[1;36m680\u001b[0m │\n",
      "│ \u001b[1;36m8.219611\u001b[0m │ \u001b[1;36m12.305492\u001b[0m │       \u001b[1;36m50\u001b[0m │\n",
      "│ \u001b[1;36m8.220527\u001b[0m │ \u001b[1;36m12.305492\u001b[0m │       \u001b[1;36m85\u001b[0m │\n",
      "│ \u001b[1;36m8.225102\u001b[0m │ \u001b[1;36m12.305492\u001b[0m │      \u001b[1;36m339\u001b[0m │\n",
      "└──────────┴───────────┴──────────┘\n"
     ]
    }
   ],
   "source": [
    "snoo.sn_head(raw_grid_constraint)"
   ]
  },
  {
   "cell_type": "code",
   "execution_count": 164,
   "metadata": {},
   "outputs": [],
   "source": [
    "ghsl_constrain_res = 12"
   ]
  },
  {
   "cell_type": "code",
   "execution_count": 165,
   "metadata": {},
   "outputs": [
    {
     "name": "stdout",
     "output_type": "stream",
     "text": [
      "Assuming coordinates columns ('lon','lat')\n"
     ]
    }
   ],
   "source": [
    "ghsl_constraint = snoo.sn_project(raw_grid_constraint,res=ghsl_constrain_res)"
   ]
  },
  {
   "cell_type": "code",
   "execution_count": 166,
   "metadata": {},
   "outputs": [
    {
     "data": {
      "text/html": [
       "<pre style=\"white-space:pre;overflow-x:auto;line-height:normal;font-family:Menlo,'DejaVu Sans Mono',consolas,'Courier New',monospace\"></pre>\n"
      ],
      "text/plain": []
     },
     "metadata": {},
     "output_type": "display_data"
    },
    {
     "name": "stdout",
     "output_type": "stream",
     "text": [
      "┌────────┐\n",
      "│ \u001b[1;36m172826\u001b[0m │\n",
      "└────────┘\n"
     ]
    },
    {
     "data": {
      "text/html": [
       "<pre style=\"white-space:pre;overflow-x:auto;line-height:normal;font-family:Menlo,'DejaVu Sans Mono',consolas,'Courier New',monospace\">┏━━━━━━━━━━┳━━━━━━━━━━━┳━━━━━━━━━━┳━━━━━━━━━━━━━━━━━┓\n",
       "┃<span style=\"font-weight: bold\"> lon      </span>┃<span style=\"font-weight: bold\"> lat       </span>┃<span style=\"font-weight: bold\"> band_var </span>┃<span style=\"font-weight: bold\"> h3_id           </span>┃\n",
       "┡━━━━━━━━━━╇━━━━━━━━━━━╇━━━━━━━━━━╇━━━━━━━━━━━━━━━━━┩\n",
       "│ <span style=\"color: #7f7f7f; text-decoration-color: #7f7f7f\">float32</span>  │ <span style=\"color: #7f7f7f; text-decoration-color: #7f7f7f\">float32</span>   │ <span style=\"color: #7f7f7f; text-decoration-color: #7f7f7f\">uint16</span>   │ <span style=\"color: #7f7f7f; text-decoration-color: #7f7f7f\">string</span>          │\n",
       "├──────────┼───────────┼──────────┼─────────────────┤\n",
       "│ <span style=\"color: #008080; text-decoration-color: #008080; font-weight: bold\">8.216865</span> │ <span style=\"color: #008080; text-decoration-color: #008080; font-weight: bold\">12.305492</span> │     <span style=\"color: #008080; text-decoration-color: #008080; font-weight: bold\">1530</span> │ <span style=\"color: #008000; text-decoration-color: #008000\">8c580ac9090edff</span> │\n",
       "│ <span style=\"color: #008080; text-decoration-color: #008080; font-weight: bold\">8.217780</span> │ <span style=\"color: #008080; text-decoration-color: #008080; font-weight: bold\">12.305492</span> │      <span style=\"color: #008080; text-decoration-color: #008080; font-weight: bold\">680</span> │ <span style=\"color: #008000; text-decoration-color: #008000\">8c580ac90909dff</span> │\n",
       "│ <span style=\"color: #008080; text-decoration-color: #008080; font-weight: bold\">8.219611</span> │ <span style=\"color: #008080; text-decoration-color: #008080; font-weight: bold\">12.305492</span> │       <span style=\"color: #008080; text-decoration-color: #008080; font-weight: bold\">50</span> │ <span style=\"color: #008000; text-decoration-color: #008000\">8c580ac90943dff</span> │\n",
       "│ <span style=\"color: #008080; text-decoration-color: #008080; font-weight: bold\">8.220527</span> │ <span style=\"color: #008080; text-decoration-color: #008080; font-weight: bold\">12.305492</span> │       <span style=\"color: #008080; text-decoration-color: #008080; font-weight: bold\">85</span> │ <span style=\"color: #008000; text-decoration-color: #008000\">8c580ac90948dff</span> │\n",
       "│ <span style=\"color: #008080; text-decoration-color: #008080; font-weight: bold\">8.225102</span> │ <span style=\"color: #008080; text-decoration-color: #008080; font-weight: bold\">12.305492</span> │      <span style=\"color: #008080; text-decoration-color: #008080; font-weight: bold\">339</span> │ <span style=\"color: #008000; text-decoration-color: #008000\">8c580ac954d43ff</span> │\n",
       "└──────────┴───────────┴──────────┴─────────────────┘\n",
       "</pre>\n"
      ],
      "text/plain": [
       "┏━━━━━━━━━━┳━━━━━━━━━━━┳━━━━━━━━━━┳━━━━━━━━━━━━━━━━━┓\n",
       "┃\u001b[1m \u001b[0m\u001b[1mlon\u001b[0m\u001b[1m     \u001b[0m\u001b[1m \u001b[0m┃\u001b[1m \u001b[0m\u001b[1mlat\u001b[0m\u001b[1m      \u001b[0m\u001b[1m \u001b[0m┃\u001b[1m \u001b[0m\u001b[1mband_var\u001b[0m\u001b[1m \u001b[0m┃\u001b[1m \u001b[0m\u001b[1mh3_id\u001b[0m\u001b[1m          \u001b[0m\u001b[1m \u001b[0m┃\n",
       "┡━━━━━━━━━━╇━━━━━━━━━━━╇━━━━━━━━━━╇━━━━━━━━━━━━━━━━━┩\n",
       "│ \u001b[2mfloat32\u001b[0m  │ \u001b[2mfloat32\u001b[0m   │ \u001b[2muint16\u001b[0m   │ \u001b[2mstring\u001b[0m          │\n",
       "├──────────┼───────────┼──────────┼─────────────────┤\n",
       "│ \u001b[1;36m8.216865\u001b[0m │ \u001b[1;36m12.305492\u001b[0m │     \u001b[1;36m1530\u001b[0m │ \u001b[32m8c580ac9090edff\u001b[0m │\n",
       "│ \u001b[1;36m8.217780\u001b[0m │ \u001b[1;36m12.305492\u001b[0m │      \u001b[1;36m680\u001b[0m │ \u001b[32m8c580ac90909dff\u001b[0m │\n",
       "│ \u001b[1;36m8.219611\u001b[0m │ \u001b[1;36m12.305492\u001b[0m │       \u001b[1;36m50\u001b[0m │ \u001b[32m8c580ac90943dff\u001b[0m │\n",
       "│ \u001b[1;36m8.220527\u001b[0m │ \u001b[1;36m12.305492\u001b[0m │       \u001b[1;36m85\u001b[0m │ \u001b[32m8c580ac90948dff\u001b[0m │\n",
       "│ \u001b[1;36m8.225102\u001b[0m │ \u001b[1;36m12.305492\u001b[0m │      \u001b[1;36m339\u001b[0m │ \u001b[32m8c580ac954d43ff\u001b[0m │\n",
       "└──────────┴───────────┴──────────┴─────────────────┘"
      ]
     },
     "execution_count": 166,
     "metadata": {},
     "output_type": "execute_result"
    }
   ],
   "source": [
    "print(ghsl_constraint.count())\n",
    "ghsl_constraint.head()"
   ]
  },
  {
   "cell_type": "code",
   "execution_count": 167,
   "metadata": {},
   "outputs": [],
   "source": [
    "constraint = ghsl_constraint.execute()"
   ]
  },
  {
   "cell_type": "markdown",
   "metadata": {},
   "source": [
    "## Matching Resolution\n",
    "bringing the variable layer and the constrain layer to a common resolution"
   ]
  },
  {
   "cell_type": "code",
   "execution_count": 168,
   "metadata": {},
   "outputs": [
    {
     "data": {
      "application/vnd.microsoft.datawrangler.viewer.v0+json": {
       "columns": [
        {
         "name": "index",
         "rawType": "int64",
         "type": "integer"
        },
        {
         "name": "h3_id",
         "rawType": "object",
         "type": "string"
        },
        {
         "name": "gid_0",
         "rawType": "object",
         "type": "string"
        },
        {
         "name": "country",
         "rawType": "object",
         "type": "string"
        },
        {
         "name": "gid_1",
         "rawType": "object",
         "type": "string"
        },
        {
         "name": "agriculture_usd_2015",
         "rawType": "float64",
         "type": "float"
        },
        {
         "name": "lon",
         "rawType": "float32",
         "type": "float"
        },
        {
         "name": "lat",
         "rawType": "float32",
         "type": "float"
        },
        {
         "name": "band_var",
         "rawType": "float32",
         "type": "float"
        },
        {
         "name": "gid_1_right",
         "rawType": "object",
         "type": "string"
        },
        {
         "name": "total_band",
         "rawType": "float64",
         "type": "float"
        },
        {
         "name": "band_frac",
         "rawType": "float64",
         "type": "float"
        },
        {
         "name": "color",
         "rawType": "object",
         "type": "unknown"
        },
        {
         "name": "h3_gridded",
         "rawType": "object",
         "type": "string"
        },
        {
         "name": "count",
         "rawType": "int64",
         "type": "integer"
        },
        {
         "name": "h3_id_band_gridded",
         "rawType": "float64",
         "type": "float"
        },
        {
         "name": "x_h3",
         "rawType": "float64",
         "type": "float"
        },
        {
         "name": "y_h3",
         "rawType": "float64",
         "type": "float"
        }
       ],
       "conversionMethod": "pd.DataFrame",
       "ref": "a7006778-7aa6-4016-a396-15c39dff1eff",
       "rows": [
        [
         "0",
         "88580ac9d7fffff",
         "NGA",
         "Nigeria",
         "NGA.20_1",
         "2325921570.3293877",
         "8.291664",
         "12.291668",
         "4914.5",
         "NGA.20_1",
         "41234406.06205368",
         "0.00011918444981611149",
         "[194, 223, 35, 255]",
         "88580ac8b9fffff",
         "120",
         "40.95",
         "7.870441918063064",
         "12.315061845242985"
        ],
        [
         "1",
         "88580ac9d7fffff",
         "NGA",
         "Nigeria",
         "NGA.20_1",
         "2325921570.3293877",
         "8.291664",
         "12.291668",
         "4914.5",
         "NGA.20_1",
         "41234406.06205368",
         "0.00011918444981611149",
         "[194, 223, 35, 255]",
         "88580ac991fffff",
         "120",
         "40.95",
         "7.884473530444321",
         "12.267223410290109"
        ],
        [
         "2",
         "88580ac9d7fffff",
         "NGA",
         "Nigeria",
         "NGA.20_1",
         "2325921570.3293877",
         "8.291664",
         "12.291668",
         "4914.5",
         "NGA.20_1",
         "41234406.06205368",
         "0.00011918444981611149",
         "[194, 223, 35, 255]",
         "88580a5341fffff",
         "120",
         "40.95",
         "7.911435353836894",
         "12.251724111627523"
        ],
        [
         "3",
         "88580ac9d7fffff",
         "NGA",
         "Nigeria",
         "NGA.20_1",
         "2325921570.3293877",
         "8.291664",
         "12.291668",
         "4914.5",
         "NGA.20_1",
         "41234406.06205368",
         "0.00011918444981611149",
         "[194, 223, 35, 255]",
         "88580ac8adfffff",
         "120",
         "40.95",
         "7.912636006544266",
         "12.273131550446342"
        ],
        [
         "4",
         "88580ac9d7fffff",
         "NGA",
         "Nigeria",
         "NGA.20_1",
         "2325921570.3293877",
         "8.291664",
         "12.291668",
         "4914.5",
         "NGA.20_1",
         "41234406.06205368",
         "0.00011918444981611149",
         "[194, 223, 35, 255]",
         "88580ac88bfffff",
         "120",
         "40.95",
         "7.845809284461496",
         "12.322583247667481"
        ]
       ],
       "shape": {
        "columns": 17,
        "rows": 5
       }
      },
      "text/html": [
       "<div>\n",
       "<style scoped>\n",
       "    .dataframe tbody tr th:only-of-type {\n",
       "        vertical-align: middle;\n",
       "    }\n",
       "\n",
       "    .dataframe tbody tr th {\n",
       "        vertical-align: top;\n",
       "    }\n",
       "\n",
       "    .dataframe thead th {\n",
       "        text-align: right;\n",
       "    }\n",
       "</style>\n",
       "<table border=\"1\" class=\"dataframe\">\n",
       "  <thead>\n",
       "    <tr style=\"text-align: right;\">\n",
       "      <th></th>\n",
       "      <th>h3_id</th>\n",
       "      <th>gid_0</th>\n",
       "      <th>country</th>\n",
       "      <th>gid_1</th>\n",
       "      <th>agriculture_usd_2015</th>\n",
       "      <th>lon</th>\n",
       "      <th>lat</th>\n",
       "      <th>band_var</th>\n",
       "      <th>gid_1_right</th>\n",
       "      <th>total_band</th>\n",
       "      <th>band_frac</th>\n",
       "      <th>color</th>\n",
       "      <th>h3_gridded</th>\n",
       "      <th>count</th>\n",
       "      <th>h3_id_band_gridded</th>\n",
       "      <th>x_h3</th>\n",
       "      <th>y_h3</th>\n",
       "    </tr>\n",
       "  </thead>\n",
       "  <tbody>\n",
       "    <tr>\n",
       "      <th>0</th>\n",
       "      <td>88580ac9d7fffff</td>\n",
       "      <td>NGA</td>\n",
       "      <td>Nigeria</td>\n",
       "      <td>NGA.20_1</td>\n",
       "      <td>2.325922e+09</td>\n",
       "      <td>8.291664</td>\n",
       "      <td>12.291668</td>\n",
       "      <td>4914.5</td>\n",
       "      <td>NGA.20_1</td>\n",
       "      <td>4.123441e+07</td>\n",
       "      <td>0.000119</td>\n",
       "      <td>[194, 223, 35, 255]</td>\n",
       "      <td>88580ac8b9fffff</td>\n",
       "      <td>120</td>\n",
       "      <td>40.95</td>\n",
       "      <td>7.870442</td>\n",
       "      <td>12.315062</td>\n",
       "    </tr>\n",
       "    <tr>\n",
       "      <th>1</th>\n",
       "      <td>88580ac9d7fffff</td>\n",
       "      <td>NGA</td>\n",
       "      <td>Nigeria</td>\n",
       "      <td>NGA.20_1</td>\n",
       "      <td>2.325922e+09</td>\n",
       "      <td>8.291664</td>\n",
       "      <td>12.291668</td>\n",
       "      <td>4914.5</td>\n",
       "      <td>NGA.20_1</td>\n",
       "      <td>4.123441e+07</td>\n",
       "      <td>0.000119</td>\n",
       "      <td>[194, 223, 35, 255]</td>\n",
       "      <td>88580ac991fffff</td>\n",
       "      <td>120</td>\n",
       "      <td>40.95</td>\n",
       "      <td>7.884474</td>\n",
       "      <td>12.267223</td>\n",
       "    </tr>\n",
       "    <tr>\n",
       "      <th>2</th>\n",
       "      <td>88580ac9d7fffff</td>\n",
       "      <td>NGA</td>\n",
       "      <td>Nigeria</td>\n",
       "      <td>NGA.20_1</td>\n",
       "      <td>2.325922e+09</td>\n",
       "      <td>8.291664</td>\n",
       "      <td>12.291668</td>\n",
       "      <td>4914.5</td>\n",
       "      <td>NGA.20_1</td>\n",
       "      <td>4.123441e+07</td>\n",
       "      <td>0.000119</td>\n",
       "      <td>[194, 223, 35, 255]</td>\n",
       "      <td>88580a5341fffff</td>\n",
       "      <td>120</td>\n",
       "      <td>40.95</td>\n",
       "      <td>7.911435</td>\n",
       "      <td>12.251724</td>\n",
       "    </tr>\n",
       "    <tr>\n",
       "      <th>3</th>\n",
       "      <td>88580ac9d7fffff</td>\n",
       "      <td>NGA</td>\n",
       "      <td>Nigeria</td>\n",
       "      <td>NGA.20_1</td>\n",
       "      <td>2.325922e+09</td>\n",
       "      <td>8.291664</td>\n",
       "      <td>12.291668</td>\n",
       "      <td>4914.5</td>\n",
       "      <td>NGA.20_1</td>\n",
       "      <td>4.123441e+07</td>\n",
       "      <td>0.000119</td>\n",
       "      <td>[194, 223, 35, 255]</td>\n",
       "      <td>88580ac8adfffff</td>\n",
       "      <td>120</td>\n",
       "      <td>40.95</td>\n",
       "      <td>7.912636</td>\n",
       "      <td>12.273132</td>\n",
       "    </tr>\n",
       "    <tr>\n",
       "      <th>4</th>\n",
       "      <td>88580ac9d7fffff</td>\n",
       "      <td>NGA</td>\n",
       "      <td>Nigeria</td>\n",
       "      <td>NGA.20_1</td>\n",
       "      <td>2.325922e+09</td>\n",
       "      <td>8.291664</td>\n",
       "      <td>12.291668</td>\n",
       "      <td>4914.5</td>\n",
       "      <td>NGA.20_1</td>\n",
       "      <td>4.123441e+07</td>\n",
       "      <td>0.000119</td>\n",
       "      <td>[194, 223, 35, 255]</td>\n",
       "      <td>88580ac88bfffff</td>\n",
       "      <td>120</td>\n",
       "      <td>40.95</td>\n",
       "      <td>7.845809</td>\n",
       "      <td>12.322583</td>\n",
       "    </tr>\n",
       "  </tbody>\n",
       "</table>\n",
       "</div>"
      ],
      "text/plain": [
       "             h3_id gid_0  country     gid_1  agriculture_usd_2015       lon  \\\n",
       "0  88580ac9d7fffff   NGA  Nigeria  NGA.20_1          2.325922e+09  8.291664   \n",
       "1  88580ac9d7fffff   NGA  Nigeria  NGA.20_1          2.325922e+09  8.291664   \n",
       "2  88580ac9d7fffff   NGA  Nigeria  NGA.20_1          2.325922e+09  8.291664   \n",
       "3  88580ac9d7fffff   NGA  Nigeria  NGA.20_1          2.325922e+09  8.291664   \n",
       "4  88580ac9d7fffff   NGA  Nigeria  NGA.20_1          2.325922e+09  8.291664   \n",
       "\n",
       "         lat  band_var gid_1_right    total_band  band_frac  \\\n",
       "0  12.291668    4914.5    NGA.20_1  4.123441e+07   0.000119   \n",
       "1  12.291668    4914.5    NGA.20_1  4.123441e+07   0.000119   \n",
       "2  12.291668    4914.5    NGA.20_1  4.123441e+07   0.000119   \n",
       "3  12.291668    4914.5    NGA.20_1  4.123441e+07   0.000119   \n",
       "4  12.291668    4914.5    NGA.20_1  4.123441e+07   0.000119   \n",
       "\n",
       "                 color       h3_gridded  count  h3_id_band_gridded      x_h3  \\\n",
       "0  [194, 223, 35, 255]  88580ac8b9fffff    120               40.95  7.870442   \n",
       "1  [194, 223, 35, 255]  88580ac991fffff    120               40.95  7.884474   \n",
       "2  [194, 223, 35, 255]  88580a5341fffff    120               40.95  7.911435   \n",
       "3  [194, 223, 35, 255]  88580ac8adfffff    120               40.95  7.912636   \n",
       "4  [194, 223, 35, 255]  88580ac88bfffff    120               40.95  7.845809   \n",
       "\n",
       "        y_h3  \n",
       "0  12.315062  \n",
       "1  12.267223  \n",
       "2  12.251724  \n",
       "3  12.273132  \n",
       "4  12.322583  "
      ]
     },
     "execution_count": 168,
     "metadata": {},
     "output_type": "execute_result"
    }
   ],
   "source": [
    "spam_gridded_zoom.head(\n",
    "    \n",
    ")"
   ]
  },
  {
   "cell_type": "code",
   "execution_count": 169,
   "metadata": {},
   "outputs": [
    {
     "name": "stdout",
     "output_type": "stream",
     "text": [
      "Constraint res :  12 , Layer res:  8\n"
     ]
    }
   ],
   "source": [
    "constraint_res = h3.get_resolution(constraint.h3_id[0])\n",
    "layer_res = h3.get_resolution(spam_gridded_zoom.h3_gridded[0])\n",
    "\n",
    "print(\"Constraint res : \",constraint_res,\", Layer res: \",layer_res)"
   ]
  },
  {
   "cell_type": "markdown",
   "metadata": {},
   "source": [
    "Let's meet somewhere in between."
   ]
  },
  {
   "cell_type": "code",
   "execution_count": 170,
   "metadata": {},
   "outputs": [],
   "source": [
    "spam_gridded_zoom.rename(columns={\"h3_id\" : \"h3_native\"\n",
    "                                ,\"h3_gridded\" : \"h3_id\"},inplace=True)"
   ]
  },
  {
   "cell_type": "code",
   "execution_count": 183,
   "metadata": {},
   "outputs": [],
   "source": [
    "final_res = 10"
   ]
  },
  {
   "cell_type": "markdown",
   "metadata": {},
   "source": [
    "Use the scalenav `set_res` function to set a desired resolution to both layers"
   ]
  },
  {
   "cell_type": "code",
   "execution_count": 184,
   "metadata": {},
   "outputs": [],
   "source": [
    "constraint_gridded_zoom_rescaled = sd.set_res(constraint,final=final_res)"
   ]
  },
  {
   "cell_type": "code",
   "execution_count": 185,
   "metadata": {},
   "outputs": [],
   "source": [
    "spam_gridded_zoom_rescaled = sd.set_res(spam_gridded_zoom,final=final_res)"
   ]
  },
  {
   "cell_type": "code",
   "execution_count": 186,
   "metadata": {},
   "outputs": [
    {
     "name": "stdout",
     "output_type": "stream",
     "text": [
      "Constraint res :  10 , Layer res:  10\n"
     ]
    }
   ],
   "source": [
    "constraint_res = h3.get_resolution(constraint_gridded_zoom_rescaled.h3_id[0])\n",
    "layer_res = h3.get_resolution(spam_gridded_zoom_rescaled.h3_id[0])\n",
    "\n",
    "print(\"Constraint res : \",constraint_res,\", Layer res: \",layer_res)"
   ]
  },
  {
   "cell_type": "markdown",
   "metadata": {},
   "source": [
    "Both resolutions match now. This will allow next to perform operations on the index variables of both layers together. "
   ]
  },
  {
   "cell_type": "code",
   "execution_count": 187,
   "metadata": {},
   "outputs": [
    {
     "name": "stdout",
     "output_type": "stream",
     "text": [
      "(318941, 17)\n"
     ]
    },
    {
     "data": {
      "application/vnd.microsoft.datawrangler.viewer.v0+json": {
       "columns": [
        {
         "name": "index",
         "rawType": "int64",
         "type": "integer"
        },
        {
         "name": "h3_native",
         "rawType": "object",
         "type": "string"
        },
        {
         "name": "gid_0",
         "rawType": "object",
         "type": "string"
        },
        {
         "name": "country",
         "rawType": "object",
         "type": "string"
        },
        {
         "name": "gid_1",
         "rawType": "object",
         "type": "string"
        },
        {
         "name": "agriculture_usd_2015",
         "rawType": "float64",
         "type": "float"
        },
        {
         "name": "lon",
         "rawType": "float32",
         "type": "float"
        },
        {
         "name": "lat",
         "rawType": "float32",
         "type": "float"
        },
        {
         "name": "band_var",
         "rawType": "float32",
         "type": "float"
        },
        {
         "name": "gid_1_right",
         "rawType": "object",
         "type": "string"
        },
        {
         "name": "total_band",
         "rawType": "float64",
         "type": "float"
        },
        {
         "name": "band_frac",
         "rawType": "float64",
         "type": "float"
        },
        {
         "name": "color",
         "rawType": "object",
         "type": "unknown"
        },
        {
         "name": "h3_id",
         "rawType": "object",
         "type": "string"
        },
        {
         "name": "count",
         "rawType": "int64",
         "type": "integer"
        },
        {
         "name": "h3_id_band_gridded",
         "rawType": "float64",
         "type": "float"
        },
        {
         "name": "x_h3",
         "rawType": "float64",
         "type": "float"
        },
        {
         "name": "y_h3",
         "rawType": "float64",
         "type": "float"
        }
       ],
       "conversionMethod": "pd.DataFrame",
       "ref": "993ac632-537b-421d-8045-3b510632a3f4",
       "rows": [
        [
         "0",
         "88580ac9d7fffff",
         "NGA",
         "Nigeria",
         "NGA.20_1",
         "2325921570.3293877",
         "8.291664",
         "12.291668",
         "100.29591",
         "NGA.20_1",
         "41234406.06205368",
         "0.00011918444981611149",
         "[194, 223, 35, 255]",
         "8a580ac8b807fff",
         "120",
         "40.95",
         "7.870441918063064",
         "12.315061845242985"
        ],
        [
         "1",
         "88580ac9d7fffff",
         "NGA",
         "Nigeria",
         "NGA.20_1",
         "2325921570.3293877",
         "8.291664",
         "12.291668",
         "100.29591",
         "NGA.20_1",
         "41234406.06205368",
         "0.00011918444981611149",
         "[194, 223, 35, 255]",
         "8a580ac8b80ffff",
         "120",
         "40.95",
         "7.870441918063064",
         "12.315061845242985"
        ],
        [
         "2",
         "88580ac9d7fffff",
         "NGA",
         "Nigeria",
         "NGA.20_1",
         "2325921570.3293877",
         "8.291664",
         "12.291668",
         "100.29591",
         "NGA.20_1",
         "41234406.06205368",
         "0.00011918444981611149",
         "[194, 223, 35, 255]",
         "8a580ac8b817fff",
         "120",
         "40.95",
         "7.870441918063064",
         "12.315061845242985"
        ],
        [
         "3",
         "88580ac9d7fffff",
         "NGA",
         "Nigeria",
         "NGA.20_1",
         "2325921570.3293877",
         "8.291664",
         "12.291668",
         "100.29591",
         "NGA.20_1",
         "41234406.06205368",
         "0.00011918444981611149",
         "[194, 223, 35, 255]",
         "8a580ac8b81ffff",
         "120",
         "40.95",
         "7.870441918063064",
         "12.315061845242985"
        ],
        [
         "4",
         "88580ac9d7fffff",
         "NGA",
         "Nigeria",
         "NGA.20_1",
         "2325921570.3293877",
         "8.291664",
         "12.291668",
         "100.29591",
         "NGA.20_1",
         "41234406.06205368",
         "0.00011918444981611149",
         "[194, 223, 35, 255]",
         "8a580ac8b827fff",
         "120",
         "40.95",
         "7.870441918063064",
         "12.315061845242985"
        ]
       ],
       "shape": {
        "columns": 17,
        "rows": 5
       }
      },
      "text/html": [
       "<div>\n",
       "<style scoped>\n",
       "    .dataframe tbody tr th:only-of-type {\n",
       "        vertical-align: middle;\n",
       "    }\n",
       "\n",
       "    .dataframe tbody tr th {\n",
       "        vertical-align: top;\n",
       "    }\n",
       "\n",
       "    .dataframe thead th {\n",
       "        text-align: right;\n",
       "    }\n",
       "</style>\n",
       "<table border=\"1\" class=\"dataframe\">\n",
       "  <thead>\n",
       "    <tr style=\"text-align: right;\">\n",
       "      <th></th>\n",
       "      <th>h3_native</th>\n",
       "      <th>gid_0</th>\n",
       "      <th>country</th>\n",
       "      <th>gid_1</th>\n",
       "      <th>agriculture_usd_2015</th>\n",
       "      <th>lon</th>\n",
       "      <th>lat</th>\n",
       "      <th>band_var</th>\n",
       "      <th>gid_1_right</th>\n",
       "      <th>total_band</th>\n",
       "      <th>band_frac</th>\n",
       "      <th>color</th>\n",
       "      <th>h3_id</th>\n",
       "      <th>count</th>\n",
       "      <th>h3_id_band_gridded</th>\n",
       "      <th>x_h3</th>\n",
       "      <th>y_h3</th>\n",
       "    </tr>\n",
       "  </thead>\n",
       "  <tbody>\n",
       "    <tr>\n",
       "      <th>0</th>\n",
       "      <td>88580ac9d7fffff</td>\n",
       "      <td>NGA</td>\n",
       "      <td>Nigeria</td>\n",
       "      <td>NGA.20_1</td>\n",
       "      <td>2.325922e+09</td>\n",
       "      <td>8.291664</td>\n",
       "      <td>12.291668</td>\n",
       "      <td>100.295914</td>\n",
       "      <td>NGA.20_1</td>\n",
       "      <td>4.123441e+07</td>\n",
       "      <td>0.000119</td>\n",
       "      <td>[194, 223, 35, 255]</td>\n",
       "      <td>8a580ac8b807fff</td>\n",
       "      <td>120</td>\n",
       "      <td>40.95</td>\n",
       "      <td>7.870442</td>\n",
       "      <td>12.315062</td>\n",
       "    </tr>\n",
       "    <tr>\n",
       "      <th>1</th>\n",
       "      <td>88580ac9d7fffff</td>\n",
       "      <td>NGA</td>\n",
       "      <td>Nigeria</td>\n",
       "      <td>NGA.20_1</td>\n",
       "      <td>2.325922e+09</td>\n",
       "      <td>8.291664</td>\n",
       "      <td>12.291668</td>\n",
       "      <td>100.295914</td>\n",
       "      <td>NGA.20_1</td>\n",
       "      <td>4.123441e+07</td>\n",
       "      <td>0.000119</td>\n",
       "      <td>[194, 223, 35, 255]</td>\n",
       "      <td>8a580ac8b80ffff</td>\n",
       "      <td>120</td>\n",
       "      <td>40.95</td>\n",
       "      <td>7.870442</td>\n",
       "      <td>12.315062</td>\n",
       "    </tr>\n",
       "    <tr>\n",
       "      <th>2</th>\n",
       "      <td>88580ac9d7fffff</td>\n",
       "      <td>NGA</td>\n",
       "      <td>Nigeria</td>\n",
       "      <td>NGA.20_1</td>\n",
       "      <td>2.325922e+09</td>\n",
       "      <td>8.291664</td>\n",
       "      <td>12.291668</td>\n",
       "      <td>100.295914</td>\n",
       "      <td>NGA.20_1</td>\n",
       "      <td>4.123441e+07</td>\n",
       "      <td>0.000119</td>\n",
       "      <td>[194, 223, 35, 255]</td>\n",
       "      <td>8a580ac8b817fff</td>\n",
       "      <td>120</td>\n",
       "      <td>40.95</td>\n",
       "      <td>7.870442</td>\n",
       "      <td>12.315062</td>\n",
       "    </tr>\n",
       "    <tr>\n",
       "      <th>3</th>\n",
       "      <td>88580ac9d7fffff</td>\n",
       "      <td>NGA</td>\n",
       "      <td>Nigeria</td>\n",
       "      <td>NGA.20_1</td>\n",
       "      <td>2.325922e+09</td>\n",
       "      <td>8.291664</td>\n",
       "      <td>12.291668</td>\n",
       "      <td>100.295914</td>\n",
       "      <td>NGA.20_1</td>\n",
       "      <td>4.123441e+07</td>\n",
       "      <td>0.000119</td>\n",
       "      <td>[194, 223, 35, 255]</td>\n",
       "      <td>8a580ac8b81ffff</td>\n",
       "      <td>120</td>\n",
       "      <td>40.95</td>\n",
       "      <td>7.870442</td>\n",
       "      <td>12.315062</td>\n",
       "    </tr>\n",
       "    <tr>\n",
       "      <th>4</th>\n",
       "      <td>88580ac9d7fffff</td>\n",
       "      <td>NGA</td>\n",
       "      <td>Nigeria</td>\n",
       "      <td>NGA.20_1</td>\n",
       "      <td>2.325922e+09</td>\n",
       "      <td>8.291664</td>\n",
       "      <td>12.291668</td>\n",
       "      <td>100.295914</td>\n",
       "      <td>NGA.20_1</td>\n",
       "      <td>4.123441e+07</td>\n",
       "      <td>0.000119</td>\n",
       "      <td>[194, 223, 35, 255]</td>\n",
       "      <td>8a580ac8b827fff</td>\n",
       "      <td>120</td>\n",
       "      <td>40.95</td>\n",
       "      <td>7.870442</td>\n",
       "      <td>12.315062</td>\n",
       "    </tr>\n",
       "  </tbody>\n",
       "</table>\n",
       "</div>"
      ],
      "text/plain": [
       "         h3_native gid_0  country     gid_1  agriculture_usd_2015       lon  \\\n",
       "0  88580ac9d7fffff   NGA  Nigeria  NGA.20_1          2.325922e+09  8.291664   \n",
       "1  88580ac9d7fffff   NGA  Nigeria  NGA.20_1          2.325922e+09  8.291664   \n",
       "2  88580ac9d7fffff   NGA  Nigeria  NGA.20_1          2.325922e+09  8.291664   \n",
       "3  88580ac9d7fffff   NGA  Nigeria  NGA.20_1          2.325922e+09  8.291664   \n",
       "4  88580ac9d7fffff   NGA  Nigeria  NGA.20_1          2.325922e+09  8.291664   \n",
       "\n",
       "         lat    band_var gid_1_right    total_band  band_frac  \\\n",
       "0  12.291668  100.295914    NGA.20_1  4.123441e+07   0.000119   \n",
       "1  12.291668  100.295914    NGA.20_1  4.123441e+07   0.000119   \n",
       "2  12.291668  100.295914    NGA.20_1  4.123441e+07   0.000119   \n",
       "3  12.291668  100.295914    NGA.20_1  4.123441e+07   0.000119   \n",
       "4  12.291668  100.295914    NGA.20_1  4.123441e+07   0.000119   \n",
       "\n",
       "                 color            h3_id  count  h3_id_band_gridded      x_h3  \\\n",
       "0  [194, 223, 35, 255]  8a580ac8b807fff    120               40.95  7.870442   \n",
       "1  [194, 223, 35, 255]  8a580ac8b80ffff    120               40.95  7.870442   \n",
       "2  [194, 223, 35, 255]  8a580ac8b817fff    120               40.95  7.870442   \n",
       "3  [194, 223, 35, 255]  8a580ac8b81ffff    120               40.95  7.870442   \n",
       "4  [194, 223, 35, 255]  8a580ac8b827fff    120               40.95  7.870442   \n",
       "\n",
       "        y_h3  \n",
       "0  12.315062  \n",
       "1  12.315062  \n",
       "2  12.315062  \n",
       "3  12.315062  \n",
       "4  12.315062  "
      ]
     },
     "execution_count": 187,
     "metadata": {},
     "output_type": "execute_result"
    }
   ],
   "source": [
    "print(spam_gridded_zoom_rescaled.shape)\n",
    "spam_gridded_zoom_rescaled.head()"
   ]
  },
  {
   "cell_type": "code",
   "execution_count": 188,
   "metadata": {},
   "outputs": [
    {
     "name": "stdout",
     "output_type": "stream",
     "text": [
      "(132809, 3)\n"
     ]
    },
    {
     "data": {
      "application/vnd.microsoft.datawrangler.viewer.v0+json": {
       "columns": [
        {
         "name": "index",
         "rawType": "int64",
         "type": "integer"
        },
        {
         "name": "h3_id",
         "rawType": "object",
         "type": "string"
        },
        {
         "name": "child_cells",
         "rawType": "object",
         "type": "unknown"
        },
        {
         "name": "band_var",
         "rawType": "uint16",
         "type": "integer"
        }
       ],
       "conversionMethod": "pd.DataFrame",
       "ref": "24531789-ce80-4437-bdbc-672fe7c392d2",
       "rows": [
        [
         "0",
         "8a580a00a097fff",
         "['8b580a00a091fff']",
         "298"
        ],
        [
         "1",
         "8a580a00a09ffff",
         "['8b580a00a09bfff']",
         "2"
        ],
        [
         "2",
         "8a580a00a19ffff",
         "['8b580a00a19bfff']",
         "136"
        ],
        [
         "3",
         "8a580a00a297fff",
         "['8b580a00a296fff']",
         "98"
        ],
        [
         "4",
         "8a580a00a2d7fff",
         "['8b580a00a2d0fff']",
         "11"
        ]
       ],
       "shape": {
        "columns": 3,
        "rows": 5
       }
      },
      "text/html": [
       "<div>\n",
       "<style scoped>\n",
       "    .dataframe tbody tr th:only-of-type {\n",
       "        vertical-align: middle;\n",
       "    }\n",
       "\n",
       "    .dataframe tbody tr th {\n",
       "        vertical-align: top;\n",
       "    }\n",
       "\n",
       "    .dataframe thead th {\n",
       "        text-align: right;\n",
       "    }\n",
       "</style>\n",
       "<table border=\"1\" class=\"dataframe\">\n",
       "  <thead>\n",
       "    <tr style=\"text-align: right;\">\n",
       "      <th></th>\n",
       "      <th>h3_id</th>\n",
       "      <th>child_cells</th>\n",
       "      <th>band_var</th>\n",
       "    </tr>\n",
       "  </thead>\n",
       "  <tbody>\n",
       "    <tr>\n",
       "      <th>0</th>\n",
       "      <td>8a580a00a097fff</td>\n",
       "      <td>[8b580a00a091fff]</td>\n",
       "      <td>298</td>\n",
       "    </tr>\n",
       "    <tr>\n",
       "      <th>1</th>\n",
       "      <td>8a580a00a09ffff</td>\n",
       "      <td>[8b580a00a09bfff]</td>\n",
       "      <td>2</td>\n",
       "    </tr>\n",
       "    <tr>\n",
       "      <th>2</th>\n",
       "      <td>8a580a00a19ffff</td>\n",
       "      <td>[8b580a00a19bfff]</td>\n",
       "      <td>136</td>\n",
       "    </tr>\n",
       "    <tr>\n",
       "      <th>3</th>\n",
       "      <td>8a580a00a297fff</td>\n",
       "      <td>[8b580a00a296fff]</td>\n",
       "      <td>98</td>\n",
       "    </tr>\n",
       "    <tr>\n",
       "      <th>4</th>\n",
       "      <td>8a580a00a2d7fff</td>\n",
       "      <td>[8b580a00a2d0fff]</td>\n",
       "      <td>11</td>\n",
       "    </tr>\n",
       "  </tbody>\n",
       "</table>\n",
       "</div>"
      ],
      "text/plain": [
       "             h3_id        child_cells  band_var\n",
       "0  8a580a00a097fff  [8b580a00a091fff]       298\n",
       "1  8a580a00a09ffff  [8b580a00a09bfff]         2\n",
       "2  8a580a00a19ffff  [8b580a00a19bfff]       136\n",
       "3  8a580a00a297fff  [8b580a00a296fff]        98\n",
       "4  8a580a00a2d7fff  [8b580a00a2d0fff]        11"
      ]
     },
     "execution_count": 188,
     "metadata": {},
     "output_type": "execute_result"
    }
   ],
   "source": [
    "print(constraint_gridded_zoom_rescaled.shape)\n",
    "constraint_gridded_zoom_rescaled.head()"
   ]
  },
  {
   "cell_type": "markdown",
   "metadata": {},
   "source": [
    "Set up a common layer by merging the data and constraint layers. "
   ]
  },
  {
   "cell_type": "code",
   "execution_count": 189,
   "metadata": {},
   "outputs": [],
   "source": [
    "layer_constrained = spam_gridded_zoom_rescaled.merge(constraint_gridded_zoom_rescaled,on=\"h3_id\",how=\"left\")"
   ]
  },
  {
   "cell_type": "code",
   "execution_count": 190,
   "metadata": {},
   "outputs": [
    {
     "name": "stdout",
     "output_type": "stream",
     "text": [
      "(318941, 19)\n"
     ]
    },
    {
     "data": {
      "application/vnd.microsoft.datawrangler.viewer.v0+json": {
       "columns": [
        {
         "name": "index",
         "rawType": "int64",
         "type": "integer"
        },
        {
         "name": "h3_native",
         "rawType": "object",
         "type": "string"
        },
        {
         "name": "gid_0",
         "rawType": "object",
         "type": "string"
        },
        {
         "name": "country",
         "rawType": "object",
         "type": "string"
        },
        {
         "name": "gid_1",
         "rawType": "object",
         "type": "string"
        },
        {
         "name": "agriculture_usd_2015",
         "rawType": "float64",
         "type": "float"
        },
        {
         "name": "lon",
         "rawType": "float32",
         "type": "float"
        },
        {
         "name": "lat",
         "rawType": "float32",
         "type": "float"
        },
        {
         "name": "band_var_x",
         "rawType": "float32",
         "type": "float"
        },
        {
         "name": "gid_1_right",
         "rawType": "object",
         "type": "string"
        },
        {
         "name": "total_band",
         "rawType": "float64",
         "type": "float"
        },
        {
         "name": "band_frac",
         "rawType": "float64",
         "type": "float"
        },
        {
         "name": "color",
         "rawType": "object",
         "type": "unknown"
        },
        {
         "name": "h3_id",
         "rawType": "object",
         "type": "string"
        },
        {
         "name": "count",
         "rawType": "int64",
         "type": "integer"
        },
        {
         "name": "h3_id_band_gridded",
         "rawType": "float64",
         "type": "float"
        },
        {
         "name": "x_h3",
         "rawType": "float64",
         "type": "float"
        },
        {
         "name": "y_h3",
         "rawType": "float64",
         "type": "float"
        },
        {
         "name": "child_cells",
         "rawType": "object",
         "type": "unknown"
        },
        {
         "name": "band_var_y",
         "rawType": "float64",
         "type": "float"
        }
       ],
       "conversionMethod": "pd.DataFrame",
       "ref": "0fb8d3d7-295b-4fa7-a720-ec4b97027e44",
       "rows": [
        [
         "0",
         "88580ac9d7fffff",
         "NGA",
         "Nigeria",
         "NGA.20_1",
         "2325921570.3293877",
         "8.291664",
         "12.291668",
         "100.29591",
         "NGA.20_1",
         "41234406.06205368",
         "0.00011918444981611149",
         "[194, 223, 35, 255]",
         "8a580ac8b807fff",
         "120",
         "40.95",
         "7.870441918063064",
         "12.315061845242985",
         null,
         null
        ],
        [
         "1",
         "88580ac9d7fffff",
         "NGA",
         "Nigeria",
         "NGA.20_1",
         "2325921570.3293877",
         "8.291664",
         "12.291668",
         "100.29591",
         "NGA.20_1",
         "41234406.06205368",
         "0.00011918444981611149",
         "[194, 223, 35, 255]",
         "8a580ac8b80ffff",
         "120",
         "40.95",
         "7.870441918063064",
         "12.315061845242985",
         null,
         null
        ],
        [
         "2",
         "88580ac9d7fffff",
         "NGA",
         "Nigeria",
         "NGA.20_1",
         "2325921570.3293877",
         "8.291664",
         "12.291668",
         "100.29591",
         "NGA.20_1",
         "41234406.06205368",
         "0.00011918444981611149",
         "[194, 223, 35, 255]",
         "8a580ac8b817fff",
         "120",
         "40.95",
         "7.870441918063064",
         "12.315061845242985",
         null,
         null
        ],
        [
         "3",
         "88580ac9d7fffff",
         "NGA",
         "Nigeria",
         "NGA.20_1",
         "2325921570.3293877",
         "8.291664",
         "12.291668",
         "100.29591",
         "NGA.20_1",
         "41234406.06205368",
         "0.00011918444981611149",
         "[194, 223, 35, 255]",
         "8a580ac8b81ffff",
         "120",
         "40.95",
         "7.870441918063064",
         "12.315061845242985",
         null,
         null
        ],
        [
         "4",
         "88580ac9d7fffff",
         "NGA",
         "Nigeria",
         "NGA.20_1",
         "2325921570.3293877",
         "8.291664",
         "12.291668",
         "100.29591",
         "NGA.20_1",
         "41234406.06205368",
         "0.00011918444981611149",
         "[194, 223, 35, 255]",
         "8a580ac8b827fff",
         "120",
         "40.95",
         "7.870441918063064",
         "12.315061845242985",
         null,
         null
        ]
       ],
       "shape": {
        "columns": 19,
        "rows": 5
       }
      },
      "text/html": [
       "<div>\n",
       "<style scoped>\n",
       "    .dataframe tbody tr th:only-of-type {\n",
       "        vertical-align: middle;\n",
       "    }\n",
       "\n",
       "    .dataframe tbody tr th {\n",
       "        vertical-align: top;\n",
       "    }\n",
       "\n",
       "    .dataframe thead th {\n",
       "        text-align: right;\n",
       "    }\n",
       "</style>\n",
       "<table border=\"1\" class=\"dataframe\">\n",
       "  <thead>\n",
       "    <tr style=\"text-align: right;\">\n",
       "      <th></th>\n",
       "      <th>h3_native</th>\n",
       "      <th>gid_0</th>\n",
       "      <th>country</th>\n",
       "      <th>gid_1</th>\n",
       "      <th>agriculture_usd_2015</th>\n",
       "      <th>lon</th>\n",
       "      <th>lat</th>\n",
       "      <th>band_var_x</th>\n",
       "      <th>gid_1_right</th>\n",
       "      <th>total_band</th>\n",
       "      <th>band_frac</th>\n",
       "      <th>color</th>\n",
       "      <th>h3_id</th>\n",
       "      <th>count</th>\n",
       "      <th>h3_id_band_gridded</th>\n",
       "      <th>x_h3</th>\n",
       "      <th>y_h3</th>\n",
       "      <th>child_cells</th>\n",
       "      <th>band_var_y</th>\n",
       "    </tr>\n",
       "  </thead>\n",
       "  <tbody>\n",
       "    <tr>\n",
       "      <th>0</th>\n",
       "      <td>88580ac9d7fffff</td>\n",
       "      <td>NGA</td>\n",
       "      <td>Nigeria</td>\n",
       "      <td>NGA.20_1</td>\n",
       "      <td>2.325922e+09</td>\n",
       "      <td>8.291664</td>\n",
       "      <td>12.291668</td>\n",
       "      <td>100.295914</td>\n",
       "      <td>NGA.20_1</td>\n",
       "      <td>4.123441e+07</td>\n",
       "      <td>0.000119</td>\n",
       "      <td>[194, 223, 35, 255]</td>\n",
       "      <td>8a580ac8b807fff</td>\n",
       "      <td>120</td>\n",
       "      <td>40.95</td>\n",
       "      <td>7.870442</td>\n",
       "      <td>12.315062</td>\n",
       "      <td>NaN</td>\n",
       "      <td>NaN</td>\n",
       "    </tr>\n",
       "    <tr>\n",
       "      <th>1</th>\n",
       "      <td>88580ac9d7fffff</td>\n",
       "      <td>NGA</td>\n",
       "      <td>Nigeria</td>\n",
       "      <td>NGA.20_1</td>\n",
       "      <td>2.325922e+09</td>\n",
       "      <td>8.291664</td>\n",
       "      <td>12.291668</td>\n",
       "      <td>100.295914</td>\n",
       "      <td>NGA.20_1</td>\n",
       "      <td>4.123441e+07</td>\n",
       "      <td>0.000119</td>\n",
       "      <td>[194, 223, 35, 255]</td>\n",
       "      <td>8a580ac8b80ffff</td>\n",
       "      <td>120</td>\n",
       "      <td>40.95</td>\n",
       "      <td>7.870442</td>\n",
       "      <td>12.315062</td>\n",
       "      <td>NaN</td>\n",
       "      <td>NaN</td>\n",
       "    </tr>\n",
       "    <tr>\n",
       "      <th>2</th>\n",
       "      <td>88580ac9d7fffff</td>\n",
       "      <td>NGA</td>\n",
       "      <td>Nigeria</td>\n",
       "      <td>NGA.20_1</td>\n",
       "      <td>2.325922e+09</td>\n",
       "      <td>8.291664</td>\n",
       "      <td>12.291668</td>\n",
       "      <td>100.295914</td>\n",
       "      <td>NGA.20_1</td>\n",
       "      <td>4.123441e+07</td>\n",
       "      <td>0.000119</td>\n",
       "      <td>[194, 223, 35, 255]</td>\n",
       "      <td>8a580ac8b817fff</td>\n",
       "      <td>120</td>\n",
       "      <td>40.95</td>\n",
       "      <td>7.870442</td>\n",
       "      <td>12.315062</td>\n",
       "      <td>NaN</td>\n",
       "      <td>NaN</td>\n",
       "    </tr>\n",
       "    <tr>\n",
       "      <th>3</th>\n",
       "      <td>88580ac9d7fffff</td>\n",
       "      <td>NGA</td>\n",
       "      <td>Nigeria</td>\n",
       "      <td>NGA.20_1</td>\n",
       "      <td>2.325922e+09</td>\n",
       "      <td>8.291664</td>\n",
       "      <td>12.291668</td>\n",
       "      <td>100.295914</td>\n",
       "      <td>NGA.20_1</td>\n",
       "      <td>4.123441e+07</td>\n",
       "      <td>0.000119</td>\n",
       "      <td>[194, 223, 35, 255]</td>\n",
       "      <td>8a580ac8b81ffff</td>\n",
       "      <td>120</td>\n",
       "      <td>40.95</td>\n",
       "      <td>7.870442</td>\n",
       "      <td>12.315062</td>\n",
       "      <td>NaN</td>\n",
       "      <td>NaN</td>\n",
       "    </tr>\n",
       "    <tr>\n",
       "      <th>4</th>\n",
       "      <td>88580ac9d7fffff</td>\n",
       "      <td>NGA</td>\n",
       "      <td>Nigeria</td>\n",
       "      <td>NGA.20_1</td>\n",
       "      <td>2.325922e+09</td>\n",
       "      <td>8.291664</td>\n",
       "      <td>12.291668</td>\n",
       "      <td>100.295914</td>\n",
       "      <td>NGA.20_1</td>\n",
       "      <td>4.123441e+07</td>\n",
       "      <td>0.000119</td>\n",
       "      <td>[194, 223, 35, 255]</td>\n",
       "      <td>8a580ac8b827fff</td>\n",
       "      <td>120</td>\n",
       "      <td>40.95</td>\n",
       "      <td>7.870442</td>\n",
       "      <td>12.315062</td>\n",
       "      <td>NaN</td>\n",
       "      <td>NaN</td>\n",
       "    </tr>\n",
       "  </tbody>\n",
       "</table>\n",
       "</div>"
      ],
      "text/plain": [
       "         h3_native gid_0  country     gid_1  agriculture_usd_2015       lon  \\\n",
       "0  88580ac9d7fffff   NGA  Nigeria  NGA.20_1          2.325922e+09  8.291664   \n",
       "1  88580ac9d7fffff   NGA  Nigeria  NGA.20_1          2.325922e+09  8.291664   \n",
       "2  88580ac9d7fffff   NGA  Nigeria  NGA.20_1          2.325922e+09  8.291664   \n",
       "3  88580ac9d7fffff   NGA  Nigeria  NGA.20_1          2.325922e+09  8.291664   \n",
       "4  88580ac9d7fffff   NGA  Nigeria  NGA.20_1          2.325922e+09  8.291664   \n",
       "\n",
       "         lat  band_var_x gid_1_right    total_band  band_frac  \\\n",
       "0  12.291668  100.295914    NGA.20_1  4.123441e+07   0.000119   \n",
       "1  12.291668  100.295914    NGA.20_1  4.123441e+07   0.000119   \n",
       "2  12.291668  100.295914    NGA.20_1  4.123441e+07   0.000119   \n",
       "3  12.291668  100.295914    NGA.20_1  4.123441e+07   0.000119   \n",
       "4  12.291668  100.295914    NGA.20_1  4.123441e+07   0.000119   \n",
       "\n",
       "                 color            h3_id  count  h3_id_band_gridded      x_h3  \\\n",
       "0  [194, 223, 35, 255]  8a580ac8b807fff    120               40.95  7.870442   \n",
       "1  [194, 223, 35, 255]  8a580ac8b80ffff    120               40.95  7.870442   \n",
       "2  [194, 223, 35, 255]  8a580ac8b817fff    120               40.95  7.870442   \n",
       "3  [194, 223, 35, 255]  8a580ac8b81ffff    120               40.95  7.870442   \n",
       "4  [194, 223, 35, 255]  8a580ac8b827fff    120               40.95  7.870442   \n",
       "\n",
       "        y_h3 child_cells  band_var_y  \n",
       "0  12.315062         NaN         NaN  \n",
       "1  12.315062         NaN         NaN  \n",
       "2  12.315062         NaN         NaN  \n",
       "3  12.315062         NaN         NaN  \n",
       "4  12.315062         NaN         NaN  "
      ]
     },
     "execution_count": 190,
     "metadata": {},
     "output_type": "execute_result"
    }
   ],
   "source": [
    "print(layer_constrained.shape)\n",
    "layer_constrained.head()"
   ]
  },
  {
   "cell_type": "markdown",
   "metadata": {},
   "source": [
    "Exclude the cells for which the constraint was identified, their 'child_cell' variable is not na. To keep things simple, the values of the constraint variable are not accounted for, it is used as a hard, binary constraint. If there is any infrastructure in the cell, it is removed fully, even for small values."
   ]
  },
  {
   "cell_type": "code",
   "execution_count": 191,
   "metadata": {},
   "outputs": [],
   "source": [
    "layer_constrained = layer_constrained[layer_constrained.child_cells.isna()]\n",
    "# layer_constrained.reset_index(drop=False,inplace=True)"
   ]
  },
  {
   "cell_type": "code",
   "execution_count": 192,
   "metadata": {},
   "outputs": [
    {
     "name": "stdout",
     "output_type": "stream",
     "text": [
      "Max input : 45.50, palette colors : 10\n"
     ]
    }
   ],
   "source": [
    "layer_constrained[\"color\"] = cmap((layer_constrained.h3_id_band_gridded),palette=col_pal)"
   ]
  },
  {
   "cell_type": "code",
   "execution_count": 193,
   "metadata": {},
   "outputs": [],
   "source": [
    "#####\n",
    "constrained_layer = pdk.Layer(\n",
    "    \"H3HexagonLayer\",\n",
    "    layer_constrained,\n",
    "    pickable=True,\n",
    "    stroked=True,\n",
    "    filled=True,\n",
    "    opacity=.5,\n",
    "    extruded=False,\n",
    "    get_hexagon= \"h3_id\",\n",
    "    get_fill_color = \"color\",\n",
    "    get_line_color= [0, 0, 0, 100],\n",
    "    line_width_min_pixels=0,\n",
    "    line_width_max_pixels=1,\n",
    ")\n",
    "constraint_layer = pdk.Layer(\n",
    "    \"H3HexagonLayer\",\n",
    "    constraint_gridded_zoom_rescaled,\n",
    "    pickable=True,\n",
    "    stroked=True,\n",
    "    filled=True,\n",
    "    opacity=.5,\n",
    "    extruded=False,\n",
    "    get_hexagon= \"h3_id\",\n",
    "    get_fill_color = [56, 65, 87, 255],\n",
    "    get_line_color= [0, 0, 0, 100],\n",
    "    line_width_min_pixels=0,\n",
    "    line_width_max_pixels=1,\n",
    ")"
   ]
  },
  {
   "cell_type": "code",
   "execution_count": 12,
   "metadata": {},
   "outputs": [],
   "source": [
    "# # Create mapdeck object\n",
    "# deck_map_agri_layer_constrained = pdk.Deck(layers=[\n",
    "#     constrained_layer,\n",
    "#     constraint_layer]\n",
    "#              ,initial_view_state=view_state_zoomed\n",
    "#              ,tooltip= {\"text\": \"Value :  {h3_id_band_gridded}\"}\n",
    "#              ,map_style=\"road\"\n",
    "#              )\n",
    "\n",
    "# deck_map_agri_layer_constrained.to_html(\"../../deck_maps/deck_ghsl_agri_constrained.html\",\n",
    "#                                         iframe_height=800,\n",
    "#                                         # open_browser=True\n",
    "#                                         )"
   ]
  }
 ],
 "metadata": {
  "kernelspec": {
   "display_name": "Python 3",
   "language": "python",
   "name": "python3"
  },
  "language_info": {
   "codemirror_mode": {
    "name": "ipython",
    "version": 3
   },
   "file_extension": ".py",
   "mimetype": "text/x-python",
   "name": "python",
   "nbconvert_exporter": "python",
   "pygments_lexer": "ipython3",
   "version": "3.12.6"
  }
 },
 "nbformat": 4,
 "nbformat_minor": 2
}
